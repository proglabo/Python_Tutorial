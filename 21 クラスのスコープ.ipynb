{
 "cells": [
  {
   "cell_type": "markdown",
   "metadata": {},
   "source": [
    "## クラスの参照/変更許可\n",
    "変数や関数の前に_(アンダースコア)を1つまたは2つ置くことで、特殊な制御ができる場合がある"
   ]
  },
  {
   "cell_type": "code",
   "execution_count": 34,
   "metadata": {},
   "outputs": [
    {
     "name": "stdout",
     "output_type": "stream",
     "text": [
      "アンダースコア無し\n",
      "アンダースコア1つあり\n",
      "アンダースコア2つあり\n"
     ]
    }
   ],
   "source": [
    "\"\"\"変数の制御\n",
    "\"\"\"\n",
    "class Test():\n",
    "    def __init__(self):\n",
    "        self.var1=\"アンダースコア無し\"\n",
    "        self._var2=\"アンダースコア1つあり\"\n",
    "        self.__var3=\"アンダースコア2つあり\"\n",
    "    def func(self):\n",
    "        print(self.var1)\n",
    "        print(self._var2)\n",
    "        print(self.__var3)\n",
    "        \n",
    "test_instance=Test()\n",
    "test_instance.func()"
   ]
  },
  {
   "cell_type": "code",
   "execution_count": 35,
   "metadata": {},
   "outputs": [
    {
     "name": "stdout",
     "output_type": "stream",
     "text": [
      "アンダースコア無し　変更できる\n",
      "アンダースコア1つあり\n",
      "アンダースコア2つあり\n"
     ]
    }
   ],
   "source": [
    "test_instance.var1=\"アンダースコア無し　変更できる\"\n",
    "test_instance.func()"
   ]
  },
  {
   "cell_type": "code",
   "execution_count": 36,
   "metadata": {},
   "outputs": [
    {
     "name": "stdout",
     "output_type": "stream",
     "text": [
      "アンダースコア無し　変更できる\n",
      "アンダースコア1つあり　変更できるけど推奨しない\n",
      "アンダースコア2つあり\n"
     ]
    }
   ],
   "source": [
    "test_instance._var2=\"アンダースコア1つあり　変更できるけど推奨しない\"\n",
    "test_instance.func()"
   ]
  },
  {
   "cell_type": "code",
   "execution_count": 37,
   "metadata": {},
   "outputs": [
    {
     "name": "stdout",
     "output_type": "stream",
     "text": [
      "アンダースコア無し　変更できる\n",
      "アンダースコア1つあり　変更できるけど推奨しない\n",
      "アンダースコア2つあり\n"
     ]
    }
   ],
   "source": [
    "test_instance.__var3=\"アンダースコア2つあり　変更できない\"\n",
    "test_instance.func()"
   ]
  },
  {
   "cell_type": "code",
   "execution_count": 19,
   "metadata": {},
   "outputs": [],
   "source": [
    "\"\"\"関数の制御\n",
    "\"\"\"\n",
    "class Test():\n",
    "    def __init__(self):pass\n",
    "    def func(self):\n",
    "        print(\"アンダースコアなし　関数\")\n",
    "    def _func(self):\n",
    "        print(\"アンダースコア1つ　関数\")\n",
    "    def __func(self):\n",
    "        print(\"アンダースコア2つ　関数\")\n",
    "        \n",
    "test_instance=Test()"
   ]
  },
  {
   "cell_type": "code",
   "execution_count": 20,
   "metadata": {},
   "outputs": [
    {
     "name": "stdout",
     "output_type": "stream",
     "text": [
      "アンダースコアなし　関数\n"
     ]
    }
   ],
   "source": [
    "test_instance.func()"
   ]
  },
  {
   "cell_type": "code",
   "execution_count": 25,
   "metadata": {},
   "outputs": [
    {
     "name": "stdout",
     "output_type": "stream",
     "text": [
      "アンダースコア1つ　関数\n"
     ]
    }
   ],
   "source": [
    "test_instance._func()"
   ]
  },
  {
   "cell_type": "code",
   "execution_count": 26,
   "metadata": {},
   "outputs": [
    {
     "ename": "AttributeError",
     "evalue": "'Test' object has no attribute '__func'",
     "output_type": "error",
     "traceback": [
      "\u001b[1;31m---------------------------------------------------------------------------\u001b[0m",
      "\u001b[1;31mAttributeError\u001b[0m                            Traceback (most recent call last)",
      "\u001b[1;32m<ipython-input-26-96f85eb74301>\u001b[0m in \u001b[0;36m<module>\u001b[1;34m\u001b[0m\n\u001b[1;32m----> 1\u001b[1;33m \u001b[0mtest_instance\u001b[0m\u001b[1;33m.\u001b[0m\u001b[0m__func\u001b[0m\u001b[1;33m(\u001b[0m\u001b[1;33m)\u001b[0m\u001b[1;33m\u001b[0m\u001b[1;33m\u001b[0m\u001b[0m\n\u001b[0m",
      "\u001b[1;31mAttributeError\u001b[0m: 'Test' object has no attribute '__func'"
     ]
    }
   ],
   "source": [
    "test_instance.__func()"
   ]
  }
 ],
 "metadata": {
  "kernelspec": {
   "display_name": "Python 3",
   "language": "python",
   "name": "python3"
  },
  "language_info": {
   "codemirror_mode": {
    "name": "ipython",
    "version": 3
   },
   "file_extension": ".py",
   "mimetype": "text/x-python",
   "name": "python",
   "nbconvert_exporter": "python",
   "pygments_lexer": "ipython3",
   "version": "3.7.2"
  }
 },
 "nbformat": 4,
 "nbformat_minor": 2
}
