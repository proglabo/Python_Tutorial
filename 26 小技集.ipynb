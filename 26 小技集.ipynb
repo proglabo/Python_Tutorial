{
 "cells": [
  {
   "cell_type": "markdown",
   "metadata": {},
   "source": [
    "## リスト内法表記\n",
    "\n",
    "プログラムを簡潔に書くことのできる裏技です\n",
    "\n",
    "これは、プログラムの可読性を考えて慎重に使いましょう"
   ]
  },
  {
   "cell_type": "code",
   "execution_count": 1,
   "metadata": {},
   "outputs": [
    {
     "name": "stdout",
     "output_type": "stream",
     "text": [
      "[0, 1, 2, 3, 4, 5, 6, 7, 8, 9]\n"
     ]
    }
   ],
   "source": [
    "\"\"\"リスト内法表記１\n",
    "普通に描く\n",
    "\"\"\"\n",
    "x_list=[]\n",
    "for i in range(10):\n",
    "    x_list.append(i)\n",
    "print(x_list)"
   ]
  },
  {
   "cell_type": "code",
   "execution_count": 9,
   "metadata": {},
   "outputs": [
    {
     "name": "stdout",
     "output_type": "stream",
     "text": [
      "[0, 1, 2, 3, 4, 5, 6, 7, 8, 9]\n"
     ]
    }
   ],
   "source": [
    "\"\"\"リスト内法表記１\n",
    "リスト内法表記を使って書く\n",
    "\"\"\"\n",
    "x_list=[i for i in range(10)]\n",
    "print(x_list)"
   ]
  },
  {
   "cell_type": "code",
   "execution_count": 10,
   "metadata": {},
   "outputs": [
    {
     "name": "stdout",
     "output_type": "stream",
     "text": [
      "[0, 1, 2, 3, 4]\n"
     ]
    }
   ],
   "source": [
    "\"\"\"リスト内法表記2\n",
    "普通に描く\n",
    "\"\"\"\n",
    "x_list=[]\n",
    "for i in range(10):\n",
    "    if i>=5:break\n",
    "    x_list.append(i)\n",
    "print(x_list)"
   ]
  },
  {
   "cell_type": "code",
   "execution_count": 11,
   "metadata": {},
   "outputs": [
    {
     "name": "stdout",
     "output_type": "stream",
     "text": [
      "[0, 1, 2, 3, 4]\n"
     ]
    }
   ],
   "source": [
    "\"\"\"リスト内法表記２\n",
    "リスト内法表記を使って書く\n",
    "\"\"\"\n",
    "x_list=[i for i in range(10) if i<5]\n",
    "print(x_list)"
   ]
  },
  {
   "cell_type": "code",
   "execution_count": 2,
   "metadata": {},
   "outputs": [
    {
     "name": "stdout",
     "output_type": "stream",
     "text": [
      "[0, 0, 0, 0, 0, 10, 10, 10, 10, 10]\n"
     ]
    }
   ],
   "source": [
    "\"\"\"リスト内法表記３\n",
    "普通に描く\n",
    "\"\"\"\n",
    "x_list=[]\n",
    "for i in range(10):\n",
    "    if i>=5:\n",
    "        x_list.append(10)\n",
    "    else:\n",
    "        x_list.append(0)\n",
    "print(x_list)"
   ]
  },
  {
   "cell_type": "code",
   "execution_count": 14,
   "metadata": {},
   "outputs": [
    {
     "name": "stdout",
     "output_type": "stream",
     "text": [
      "[0, 0, 0, 0, 0, 10, 10, 10, 10, 10]\n"
     ]
    }
   ],
   "source": [
    "\"\"\"リスト内法表記３\n",
    "リスト内法表記を使って書く\n",
    "\"\"\"\n",
    "x_list=[10 if i>=5 else 0 for i in range(10)]\n",
    "print(x_list)"
   ]
  },
  {
   "cell_type": "markdown",
   "metadata": {},
   "source": [
    "## Lambda式\n",
    "**無名関数**といわれるものです\n",
    "\n",
    "プログラムを簡潔に書くことのできる裏技です\n",
    "\n",
    "これは、プログラムの可読性を考えて慎重に使いましょう"
   ]
  },
  {
   "cell_type": "code",
   "execution_count": 3,
   "metadata": {},
   "outputs": [
    {
     "name": "stdout",
     "output_type": "stream",
     "text": [
      "2\n"
     ]
    }
   ],
   "source": [
    "\"\"\"lambda式\n",
    "普通に描く\n",
    "\"\"\"\n",
    "def add_func(a, b):\n",
    "    return a + b\n",
    "x=add_func(1,1)\n",
    "print(x)"
   ]
  },
  {
   "cell_type": "code",
   "execution_count": 4,
   "metadata": {},
   "outputs": [
    {
     "name": "stdout",
     "output_type": "stream",
     "text": [
      "2\n"
     ]
    }
   ],
   "source": [
    "\"\"\"lambda式\n",
    "基本形\n",
    "\"\"\"\n",
    "add_lambda = lambda a, b: a + b\n",
    "x=add_lambda(1,1)\n",
    "print(x)"
   ]
  },
  {
   "cell_type": "code",
   "execution_count": 20,
   "metadata": {},
   "outputs": [
    {
     "name": "stdout",
     "output_type": "stream",
     "text": [
      "102\n"
     ]
    }
   ],
   "source": [
    "\"\"\"lambda式\n",
    "普通に描く\n",
    "\"\"\"\n",
    "def add_and_plus_100_func(a,b):\n",
    "    x=a+b\n",
    "    if x<100:\n",
    "        x=x+100\n",
    "    else:\n",
    "        pass\n",
    "    return x\n",
    "\n",
    "x=add_and_plus_100_func(1,1)\n",
    "print(x)"
   ]
  },
  {
   "cell_type": "code",
   "execution_count": 19,
   "metadata": {},
   "outputs": [
    {
     "name": "stdout",
     "output_type": "stream",
     "text": [
      "102\n"
     ]
    }
   ],
   "source": [
    "\"\"\"lambda式\n",
    "条件分岐\n",
    "\"\"\"\n",
    "add_and_plus_100_lambda= lambda a, b:a+b+100 if a + b<100 else a+b\n",
    "x=add_and_plus_100_lambda(1,1)\n",
    "print(x)"
   ]
  },
  {
   "cell_type": "markdown",
   "metadata": {},
   "source": [
    "## split/join\n",
    "リストの処理の際に用いられるもの"
   ]
  },
  {
   "cell_type": "code",
   "execution_count": 6,
   "metadata": {},
   "outputs": [
    {
     "name": "stdout",
     "output_type": "stream",
     "text": [
      "['a', 'b', 'c', 'd']\n"
     ]
    }
   ],
   "source": [
    "\"\"\"文字列をリストへ\n",
    "\"\"\"\n",
    "x_str=\"a,b,c,d\"\n",
    "x_list=x_str.split(\",\")\n",
    "print(x_list)"
   ]
  },
  {
   "cell_type": "code",
   "execution_count": 9,
   "metadata": {},
   "outputs": [
    {
     "name": "stdout",
     "output_type": "stream",
     "text": [
      "a,b,c,d\n"
     ]
    }
   ],
   "source": [
    "\"\"\"リストを文字列へ\n",
    "\"\"\"\n",
    "x_list=['a', 'b', 'c', 'd']\n",
    "x_str=\",\".join(x_list)\n",
    "print(x_str)"
   ]
  },
  {
   "cell_type": "markdown",
   "metadata": {},
   "source": [
    "## map\n",
    "map(a,b)でbに対してaしたものを返します"
   ]
  },
  {
   "cell_type": "code",
   "execution_count": 12,
   "metadata": {},
   "outputs": [
    {
     "name": "stdout",
     "output_type": "stream",
     "text": [
      "1\n",
      "100\n",
      "10000\n"
     ]
    }
   ],
   "source": [
    "\"\"\"map\n",
    "lambda式と組み合わせることで、コードが簡潔になりますが、\n",
    "lambda式もmapもコードの可読性を下げるため、適切なタイミングで使用しましょう\n",
    "\"\"\"\n",
    "def func(a):\n",
    "    return a**2\n",
    "x_list=map(func,[1,10,100])\n",
    "for i in x_list:\n",
    "    print(i)"
   ]
  }
 ],
 "metadata": {
  "kernelspec": {
   "display_name": "Python 3",
   "language": "python",
   "name": "python3"
  },
  "language_info": {
   "codemirror_mode": {
    "name": "ipython",
    "version": 3
   },
   "file_extension": ".py",
   "mimetype": "text/x-python",
   "name": "python",
   "nbconvert_exporter": "python",
   "pygments_lexer": "ipython3",
   "version": "3.7.2"
  }
 },
 "nbformat": 4,
 "nbformat_minor": 2
}
