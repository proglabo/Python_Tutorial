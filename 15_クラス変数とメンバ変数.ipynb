{
 "cells": [
  {
   "cell_type": "markdown",
   "metadata": {},
   "source": [
    "## クラス変数\n",
    "\n",
    "**クラス変数**：クラス直下で定義され、全てのインスタンスで共通の値"
   ]
  },
  {
   "cell_type": "code",
   "execution_count": 57,
   "metadata": {},
   "outputs": [
    {
     "name": "stdout",
     "output_type": "stream",
     "text": [
      "クラス変数\n"
     ]
    }
   ],
   "source": [
    "\"\"\"クラス変数\n",
    "クラス直下で定義する\n",
    "クラス変数はクラスを通して参照可能\n",
    "\"\"\"\n",
    "class Test():\n",
    "    class_var=\"クラス変数\"\n",
    "        \n",
    "print(Test.class_var)"
   ]
  },
  {
   "cell_type": "code",
   "execution_count": 58,
   "metadata": {},
   "outputs": [
    {
     "name": "stdout",
     "output_type": "stream",
     "text": [
      "クラス変数の変更\n"
     ]
    }
   ],
   "source": [
    "\"\"\"クラス変数はクラスを通して変更可能\n",
    "\"\"\"\n",
    "class Test():\n",
    "    class_var=\"クラス変数\"\n",
    "        \n",
    "Test.class_var=\"クラス変数の変更\"\n",
    "print(Test.class_var)"
   ]
  },
  {
   "cell_type": "code",
   "execution_count": 59,
   "metadata": {},
   "outputs": [
    {
     "name": "stdout",
     "output_type": "stream",
     "text": [
      "クラス変数\n",
      "クラス変数\n"
     ]
    }
   ],
   "source": [
    "\"\"\"クラス変数\n",
    "クラス変数はインスタンスによらず一定\n",
    "\"\"\"\n",
    "class Test():\n",
    "    class_var=\"クラス変数\"\n",
    "    def __init__(self):\n",
    "        pass\n",
    "    def func(self):\n",
    "        print(Test.class_var)\n",
    "        \n",
    "test_instance1= Test()\n",
    "test_instance2= Test()\n",
    "\n",
    "test_instance1.func()\n",
    "test_instance2.func()"
   ]
  },
  {
   "cell_type": "markdown",
   "metadata": {},
   "source": [
    "## メンバ変数\n",
    "**メンバ変数**：主にコンストラクタで定義され、個々のインスタンス特有の変数"
   ]
  },
  {
   "cell_type": "code",
   "execution_count": 60,
   "metadata": {},
   "outputs": [
    {
     "name": "stdout",
     "output_type": "stream",
     "text": [
      "メンバ変数\n"
     ]
    }
   ],
   "source": [
    "\"\"\"メンバ変数\n",
    "主にコンストラクタで定義され、個々のインスタンス特有の変数\n",
    "\"\"\"\n",
    "class Test():\n",
    "    def __init__(self):\n",
    "        self.var=\"メンバ変数\"\n",
    "    def func(self):\n",
    "        print(self.var)\n",
    "test_instance=Test()\n",
    "test_instance.func()"
   ]
  },
  {
   "cell_type": "code",
   "execution_count": 61,
   "metadata": {},
   "outputs": [
    {
     "name": "stdout",
     "output_type": "stream",
     "text": [
      "メンバ変数\n"
     ]
    }
   ],
   "source": [
    "\"\"\"メンバ変数をインスタンス生成時の引数として渡す\n",
    "\"\"\"\n",
    "class Test():\n",
    "    def __init__(self,var):\n",
    "        self.var=var\n",
    "    def func(self):\n",
    "        print(self.var)\n",
    "test_instance=Test(\"メンバ変数\")\n",
    "test_instance.func()"
   ]
  },
  {
   "cell_type": "code",
   "execution_count": 62,
   "metadata": {},
   "outputs": [
    {
     "name": "stdout",
     "output_type": "stream",
     "text": [
      "1\n"
     ]
    }
   ],
   "source": [
    "\"\"\"メンバ変数はインスタンスを通して参照可能\n",
    "\"\"\"\n",
    "class Test():\n",
    "    def __init__(self,var):\n",
    "        self.var=var\n",
    "        \n",
    "test_instance=Test(\"1\")\n",
    "print(test_instance.var)"
   ]
  },
  {
   "cell_type": "code",
   "execution_count": 63,
   "metadata": {},
   "outputs": [
    {
     "name": "stdout",
     "output_type": "stream",
     "text": [
      "10000000000000\n"
     ]
    }
   ],
   "source": [
    "\"\"\"メンバ変数はインスタンスを通して変更可能\n",
    "\"\"\"\n",
    "class Test():\n",
    "    def __init__(self,var):\n",
    "        self.var=var\n",
    "        \n",
    "test_instance=Test(\"1\")\n",
    "test_instance.var=\"10000000000000\"\n",
    "print(test_instance.var)"
   ]
  },
  {
   "cell_type": "code",
   "execution_count": 64,
   "metadata": {},
   "outputs": [
    {
     "name": "stdout",
     "output_type": "stream",
     "text": [
      "1\n",
      "2\n"
     ]
    }
   ],
   "source": [
    "\"\"\"メンバ変数は個々のインスタンスで独立\n",
    "同一クラスから複数インスタンスを生成しても、\n",
    "メンバ変数self.varはインスタンスをまたいで干渉し合わない\n",
    "\"\"\"\n",
    "class Test():\n",
    "    def __init__(self,var):\n",
    "        self.var=var\n",
    "    def func(self):\n",
    "        print(self.var)\n",
    "        \n",
    "test_instance1=Test(\"1\")\n",
    "test_instance2=Test(\"2\")\n",
    "\n",
    "test_instance1.func()\n",
    "test_instance2.func()"
   ]
  }
 ],
 "metadata": {
  "kernelspec": {
   "display_name": "Python 3",
   "language": "python",
   "name": "python3"
  },
  "language_info": {
   "codemirror_mode": {
    "name": "ipython",
    "version": 3
   },
   "file_extension": ".py",
   "mimetype": "text/x-python",
   "name": "python",
   "nbconvert_exporter": "python",
   "pygments_lexer": "ipython3",
   "version": "3.6.8"
  }
 },
 "nbformat": 4,
 "nbformat_minor": 2
}
