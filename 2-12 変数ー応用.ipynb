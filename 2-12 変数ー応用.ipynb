{
 "cells": [
  {
   "cell_type": "markdown",
   "metadata": {},
   "source": [
    "# 応用"
   ]
  },
  {
   "cell_type": "markdown",
   "metadata": {},
   "source": [
    "### ネスト\n",
    "プログラミングの世界では、「何かに包まれた」ことを「ネストされた」といいます"
   ]
  },
  {
   "cell_type": "code",
   "execution_count": 2,
   "metadata": {},
   "outputs": [
    {
     "name": "stdout",
     "output_type": "stream",
     "text": [
      "[[1, 2], [3, 4]]\n",
      "<class 'list'>\n"
     ]
    }
   ],
   "source": [
    "\"\"\"\n",
    "ネストされたリスト\n",
    "\"\"\"\n",
    "x=[[1,2],[3,4]]\n",
    "print(x)\n",
    "print(type(x))"
   ]
  },
  {
   "cell_type": "code",
   "execution_count": 4,
   "metadata": {},
   "outputs": [
    {
     "name": "stdout",
     "output_type": "stream",
     "text": [
      "1\n"
     ]
    }
   ],
   "source": [
    "\"\"\"\n",
    "ネストされたリストへのアクセス\n",
    "\"\"\"\n",
    "x=[[1,2],[3,4]]\n",
    "print(x[0][0])"
   ]
  },
  {
   "cell_type": "markdown",
   "metadata": {},
   "source": [
    "# 総合\n",
    "全ての変数を使ってみます"
   ]
  },
  {
   "cell_type": "code",
   "execution_count": 5,
   "metadata": {},
   "outputs": [],
   "source": [
    "x_all={\n",
    "    \"int\":1,\n",
    "    \"float\":1.0,\n",
    "    \"str\":\"1\",\n",
    "    \"bool\":True,\n",
    "    \"Nonetype\":None,\n",
    "    \"list\":[1,2.0,\"3\",[1,2],(1,2),{\"プログラム\":\"コンピュータに対する命令\"}],\n",
    "    \"tuple\":(1,2.0,\"3\",[1,2],(1,2),{\"プログラム\":\"コンピュータに対する命令\"}),\n",
    "    \"set\":set([1,2,3,4,5]),\n",
    "    \"dict\":{\"プログラム\":\"コンピュータに対する命令\"}\n",
    "}"
   ]
  },
  {
   "cell_type": "code",
   "execution_count": 8,
   "metadata": {},
   "outputs": [
    {
     "name": "stdout",
     "output_type": "stream",
     "text": [
      "1\n",
      "1.0\n",
      "1\n",
      "True\n",
      "[1, 2.0, '3', [1, 2], (1, 2), {'プログラム': 'コンピュータに対する命令'}]\n",
      "コンピュータに対する命令\n",
      "(1, 2.0, '3', [1, 2], (1, 2), {'プログラム': 'コンピュータに対する命令'})\n",
      "{1, 2, 3, 4, 5}\n",
      "{'プログラム': 'コンピュータに対する命令'}\n"
     ]
    }
   ],
   "source": [
    "#参考までに\n",
    "print(x_all[\"int\"])\n",
    "print(x_all[\"float\"])\n",
    "print(x_all[\"str\"])\n",
    "print(x_all[\"bool\"])\n",
    "print(x_all[\"list\"])\n",
    "print(x_all[\"list\"][5][\"プログラム\"])\n",
    "print(x_all[\"tuple\"])\n",
    "print(x_all[\"set\"])\n",
    "print(x_all[\"dict\"])"
   ]
  }
 ],
 "metadata": {
  "kernelspec": {
   "display_name": "Python 3",
   "language": "python",
   "name": "python3"
  },
  "language_info": {
   "codemirror_mode": {
    "name": "ipython",
    "version": 3
   },
   "file_extension": ".py",
   "mimetype": "text/x-python",
   "name": "python",
   "nbconvert_exporter": "python",
   "pygments_lexer": "ipython3",
   "version": "3.7.2"
  }
 },
 "nbformat": 4,
 "nbformat_minor": 2
}
