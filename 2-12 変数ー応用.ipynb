{
 "cells": [
  {
   "cell_type": "markdown",
   "metadata": {},
   "source": [
    "# 応用"
   ]
  },
  {
   "cell_type": "markdown",
   "metadata": {},
   "source": [
    "### ネスト\n",
    "プログラミングの世界では、「何かに包まれた」ことを「ネストされた」といいます"
   ]
  },
  {
   "cell_type": "code",
   "execution_count": 10,
   "metadata": {},
   "outputs": [
    {
     "name": "stdout",
     "output_type": "stream",
     "text": [
      "[[1, 2], [3, 4]]\n",
      "<class 'list'>\n"
     ]
    }
   ],
   "source": [
    "\"\"\"\n",
    "ネストされたリスト\n",
    "\"\"\"\n",
    "x=[\n",
    "    [1,2],\n",
    "    [3,4]\n",
    "]\n",
    "print(x)\n",
    "print(type(x))"
   ]
  },
  {
   "cell_type": "code",
   "execution_count": 13,
   "metadata": {},
   "outputs": [
    {
     "name": "stdout",
     "output_type": "stream",
     "text": [
      "4\n"
     ]
    }
   ],
   "source": [
    "\"\"\"\n",
    "ネストされたリストへのアクセス\n",
    "\"\"\"\n",
    "x=[\n",
    "    [1,2],\n",
    "    [3,4]\n",
    "]\n",
    "print(x[1][1])"
   ]
  },
  {
   "cell_type": "markdown",
   "metadata": {},
   "source": [
    "# 総合\n",
    "全ての変数を使ってみます"
   ]
  },
  {
   "cell_type": "code",
   "execution_count": 19,
   "metadata": {},
   "outputs": [
    {
     "name": "stdout",
     "output_type": "stream",
     "text": [
      "{'プログラム': 'コンピュータに対する命令'}\n"
     ]
    }
   ],
   "source": [
    "x_all={\n",
    "    \"int\":1,\n",
    "    \"float\":1.0,\n",
    "    \"str\":\"1\",\n",
    "    \"bool\":True,\n",
    "    \"Nonetype\":None,\n",
    "    \"list\":[1,2],\n",
    "    \"tuple\":(1,2),\n",
    "    \"set\":{1,2},\n",
    "    \"dict\":{\"プログラム\":\"コンピュータに対する命令\"}\n",
    "}\n",
    "print(x_all[\"dict\"][\"ぷろぐらむ\"])"
   ]
  },
  {
   "cell_type": "code",
   "execution_count": 16,
   "metadata": {},
   "outputs": [
    {
     "name": "stdout",
     "output_type": "stream",
     "text": [
      "1\n",
      "1.0\n",
      "1\n",
      "True\n",
      "[1, 2]\n",
      "[1, 2]\n",
      "(1, 2)\n",
      "{1, 2}\n",
      "{'プログラム': 'コンピュータに対する命令'}\n"
     ]
    }
   ],
   "source": [
    "#参考までに\n",
    "print(x_all[\"int\"])\n",
    "print(x_all[\"float\"])\n",
    "print(x_all[\"str\"])\n",
    "print(x_all[\"bool\"])\n",
    "print(x_all[\"list\"])\n",
    "print(x_all[\"list\"])\n",
    "print(x_all[\"tuple\"])\n",
    "print(x_all[\"set\"])\n",
    "print(x_all[\"dict\"])"
   ]
  },
  {
   "cell_type": "code",
   "execution_count": null,
   "metadata": {},
   "outputs": [],
   "source": [
    "print()"
   ]
  }
 ],
 "metadata": {
  "kernelspec": {
   "display_name": "Python 3",
   "language": "python",
   "name": "python3"
  },
  "language_info": {
   "codemirror_mode": {
    "name": "ipython",
    "version": 3
   },
   "file_extension": ".py",
   "mimetype": "text/x-python",
   "name": "python",
   "nbconvert_exporter": "python",
   "pygments_lexer": "ipython3",
   "version": "3.7.2"
  }
 },
 "nbformat": 4,
 "nbformat_minor": 2
}
