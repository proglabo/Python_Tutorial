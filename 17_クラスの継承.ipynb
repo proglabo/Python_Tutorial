{
 "cells": [
  {
   "cell_type": "markdown",
   "metadata": {},
   "source": [
    "## クラスの継承\n",
    "\n",
    "クラスの継承とは、\n",
    "**ある既存のクラス**の機能は受け継いだ**新しいクラス**を作ります\n",
    "\n",
    "**スーパークラス**：既存のクラス\n",
    "\n",
    "**サブクラス**：新しいクラス"
   ]
  },
  {
   "cell_type": "code",
   "execution_count": 2,
   "metadata": {},
   "outputs": [],
   "source": [
    "\"\"\"クラスの継承\n",
    "スーパークラス：Test\n",
    "サブクラス：TestPowerup\n",
    "\"\"\"\n",
    "class Test():\n",
    "    def __init__(self):pass\n",
    "    def func(self):\n",
    "        print(\"Testの関数\")\n",
    "        \n",
    "class TestPowerup(Test):\n",
    "    def __init__(self):pass\n",
    "    def func_powerup(self):\n",
    "        print(\"TestPowerupの関数\")"
   ]
  },
  {
   "cell_type": "code",
   "execution_count": 3,
   "metadata": {},
   "outputs": [
    {
     "name": "stdout",
     "output_type": "stream",
     "text": [
      "TestPowerupの関数\n"
     ]
    }
   ],
   "source": [
    "powerup_instance=TestPowerup()\n",
    "powerup_instance.func_powerup()"
   ]
  },
  {
   "cell_type": "code",
   "execution_count": 4,
   "metadata": {},
   "outputs": [
    {
     "name": "stdout",
     "output_type": "stream",
     "text": [
      "Testの関数\n"
     ]
    }
   ],
   "source": [
    "powerup_instance.func()"
   ]
  },
  {
   "cell_type": "code",
   "execution_count": 5,
   "metadata": {},
   "outputs": [],
   "source": [
    "\"\"\"同名関数はサブクラスの関数で上書きされる\n",
    "\"\"\"\n",
    "class Test():\n",
    "    def __init__(self):pass\n",
    "    def func(self):\n",
    "        print(\"Testの関数\")\n",
    "        \n",
    "class TestPowerup(Test):\n",
    "    def __init__(self):pass\n",
    "    def func(self):\n",
    "        print(\"TestPowerupの関数\")"
   ]
  },
  {
   "cell_type": "code",
   "execution_count": 6,
   "metadata": {},
   "outputs": [
    {
     "name": "stdout",
     "output_type": "stream",
     "text": [
      "TestPowerupの関数\n"
     ]
    }
   ],
   "source": [
    "powerup_instance=TestPowerup()\n",
    "powerup_instance.func()"
   ]
  },
  {
   "cell_type": "code",
   "execution_count": 7,
   "metadata": {},
   "outputs": [],
   "source": [
    "\"\"\"initは継承されない\n",
    "\"\"\"\n",
    "class Test():\n",
    "    def __init__(self):\n",
    "        print(\"Testのinit\")\n",
    "    def func(self):\n",
    "        print(\"Testの関数\")\n",
    "        \n",
    "class TestPowerup(Test):\n",
    "    def __init__(self):\n",
    "        print(\"TestPowerupのinit\")\n",
    "    def func(self):\n",
    "        print(\"TestPowerupの関数\")"
   ]
  },
  {
   "cell_type": "code",
   "execution_count": 8,
   "metadata": {},
   "outputs": [
    {
     "name": "stdout",
     "output_type": "stream",
     "text": [
      "TestPowerupのinit\n"
     ]
    }
   ],
   "source": [
    "powerup_instance=TestPowerup()"
   ]
  },
  {
   "cell_type": "code",
   "execution_count": 10,
   "metadata": {},
   "outputs": [],
   "source": [
    "\"\"\"initを明示的に継承する\n",
    "\"\"\"\n",
    "class Test():\n",
    "    def __init__(self):\n",
    "        print(\"Testのinit\")\n",
    "    def func(self):\n",
    "        print(\"Testの関数\")\n",
    "        \n",
    "class TestPowerup(Test):\n",
    "    def __init__(self):\n",
    "        super().__init__()\n",
    "        print(\"TestPowerupのinit\")\n",
    "    def func(self):\n",
    "        print(\"TestPowerupの関数\")"
   ]
  },
  {
   "cell_type": "code",
   "execution_count": 11,
   "metadata": {},
   "outputs": [
    {
     "name": "stdout",
     "output_type": "stream",
     "text": [
      "Testのinit\n",
      "TestPowerupのinit\n"
     ]
    }
   ],
   "source": [
    "powerup_instance=TestPowerup()"
   ]
  },
  {
   "cell_type": "code",
   "execution_count": 12,
   "metadata": {},
   "outputs": [],
   "source": [
    "\"\"\"複数クラスの継承\n",
    "\"\"\"\n",
    "class Test1():\n",
    "    def __init__(self):pass\n",
    "    def test1_func(self):\n",
    "        print(\"Test1の関数\")\n",
    "        \n",
    "class Test2():\n",
    "    def __init__(self):pass\n",
    "    def test2_func(self):\n",
    "        print(\"Test2の関数\")\n",
    "        \n",
    "class TestPowerup(Test1,Test2):\n",
    "    def __init__(self):pass\n",
    "    def func_powerup(self):\n",
    "        print(\"TestPowerupの関数\")"
   ]
  },
  {
   "cell_type": "code",
   "execution_count": 13,
   "metadata": {},
   "outputs": [],
   "source": [
    "powerup_instance=TestPowerup()"
   ]
  },
  {
   "cell_type": "code",
   "execution_count": 14,
   "metadata": {},
   "outputs": [
    {
     "name": "stdout",
     "output_type": "stream",
     "text": [
      "Test1の関数\n",
      "Test2の関数\n",
      "TestPowerupの関数\n"
     ]
    }
   ],
   "source": [
    "powerup_instance.test1_func()\n",
    "powerup_instance.test2_func()\n",
    "powerup_instance.func_powerup()"
   ]
  }
 ],
 "metadata": {
  "kernelspec": {
   "display_name": "Python 3",
   "language": "python",
   "name": "python3"
  },
  "language_info": {
   "codemirror_mode": {
    "name": "ipython",
    "version": 3
   },
   "file_extension": ".py",
   "mimetype": "text/x-python",
   "name": "python",
   "nbconvert_exporter": "python",
   "pygments_lexer": "ipython3",
   "version": "3.6.8"
  }
 },
 "nbformat": 4,
 "nbformat_minor": 2
}
