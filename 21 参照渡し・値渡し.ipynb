{
 "cells": [
  {
   "cell_type": "markdown",
   "metadata": {},
   "source": [
    "## 値渡しと参照渡し\n",
    "これまで見てきた関数・クラスはそれぞれ引数を取る場合がありましたが、与える引数の型によって、挙動が変わってくるので、引数を与える際には十分な注意が必要です\n",
    "\n",
    "**値渡し**：引数に何か変更が加えられても、元の変数には影響を与えない\n",
    "\n",
    "**参照渡し**：引数に何か変更が加えられれば、元の変数にも同様の影響が与えられる"
   ]
  },
  {
   "cell_type": "code",
   "execution_count": 1,
   "metadata": {},
   "outputs": [],
   "source": [
    "\"\"\"単一変数・タプルは値渡し\n",
    "単一変数：int/float/str/boolean\n",
    "\"\"\"\n",
    "x=1\n",
    "def func(x):\n",
    "    x=2\n",
    "func(x)"
   ]
  },
  {
   "cell_type": "code",
   "execution_count": 2,
   "metadata": {},
   "outputs": [
    {
     "name": "stdout",
     "output_type": "stream",
     "text": [
      "1\n"
     ]
    }
   ],
   "source": [
    "print(x)"
   ]
  },
  {
   "cell_type": "code",
   "execution_count": 4,
   "metadata": {},
   "outputs": [],
   "source": [
    "\"\"\"リストは参照渡し\n",
    "\"\"\"\n",
    "x=[1,2,3]\n",
    "def func(x):\n",
    "    x.append(4)\n",
    "func(x)"
   ]
  },
  {
   "cell_type": "code",
   "execution_count": 5,
   "metadata": {},
   "outputs": [
    {
     "name": "stdout",
     "output_type": "stream",
     "text": [
      "[1, 2, 3, 4]\n"
     ]
    }
   ],
   "source": [
    "print(x)"
   ]
  },
  {
   "cell_type": "code",
   "execution_count": 6,
   "metadata": {},
   "outputs": [],
   "source": [
    "\"\"\"辞書は参照渡し\n",
    "\"\"\"\n",
    "x={\"1\":\"a\"}\n",
    "def func(x):\n",
    "    x[\"2\"]=\"b\"\n",
    "func(x)"
   ]
  },
  {
   "cell_type": "code",
   "execution_count": 7,
   "metadata": {},
   "outputs": [
    {
     "name": "stdout",
     "output_type": "stream",
     "text": [
      "{'1': 'a', '2': 'b'}\n"
     ]
    }
   ],
   "source": [
    "print(x)"
   ]
  },
  {
   "cell_type": "markdown",
   "metadata": {},
   "source": [
    "## 変数の内部での扱い\n",
    "----\n",
    "\n",
    "ここからは、プログラムの内部での扱われ方に関して、\n",
    "\n",
    "検証していきます\n",
    "\n",
    "オタク以外には全く必要のない事項ですので、別の講義へ移ることを強くお勧めします"
   ]
  },
  {
   "cell_type": "markdown",
   "metadata": {},
   "source": [
    "#### ID\n",
    "変数が生成されるとき、idという情報が変数に付与されます\n",
    "このidというのは、人間の目ではクラス・関数・変数などを区別するときは、名前で区別していますが、プログラム内部では、このidでそれぞれのクラス・関数・変数を識別しています。"
   ]
  },
  {
   "cell_type": "code",
   "execution_count": 5,
   "metadata": {},
   "outputs": [
    {
     "name": "stdout",
     "output_type": "stream",
     "text": [
      "1833293984\n",
      "1833294000\n"
     ]
    }
   ],
   "source": [
    "\"\"\"ID（int型）\n",
    "変数そのものを再定義するとidは変更される\n",
    "\"\"\" \n",
    "x=0\n",
    "print(id(x))\n",
    "#同一変数名に再代入するとidも変わる\n",
    "x=1\n",
    "print(id(x))"
   ]
  },
  {
   "cell_type": "code",
   "execution_count": 7,
   "metadata": {},
   "outputs": [
    {
     "name": "stdout",
     "output_type": "stream",
     "text": [
      "108905312\n",
      "108974416\n",
      "108974416\n"
     ]
    }
   ],
   "source": [
    "\"\"\"ID（辞書型）\n",
    "変数そのものを再定義するとidは変更される\n",
    "変数の要素を変更しても変数自体のidは変わらない\n",
    "\"\"\" \n",
    "x={\"python\":\"プログラミング言語のひとつ\"}\n",
    "print(id(x))\n",
    "\n",
    "x={\"python\":\"難しい\"}\n",
    "print(id(x))\n",
    "\n",
    "x[\"python\"]=\"プログラミング言語のひとつ\"\n",
    "print(id(x))"
   ]
  },
  {
   "cell_type": "code",
   "execution_count": 8,
   "metadata": {},
   "outputs": [
    {
     "name": "stdout",
     "output_type": "stream",
     "text": [
      "1968078928\n",
      "1968078928\n"
     ]
    }
   ],
   "source": [
    "\"\"\"関数の引数とid\n",
    "値渡しの引数のIDは関数内部では変更されない\n",
    "\"\"\"\n",
    "x=0\n",
    "def func(x):\n",
    "    print(id(x))\n",
    "func(x)\n",
    "print(id(x))"
   ]
  },
  {
   "cell_type": "code",
   "execution_count": 9,
   "metadata": {},
   "outputs": [
    {
     "name": "stdout",
     "output_type": "stream",
     "text": [
      "1968078960\n",
      "1968078928\n"
     ]
    }
   ],
   "source": [
    "\"\"\"関数の引数とid\n",
    "値渡しの引数のIDは関数内部では変更されないが\n",
    "関数内部で同一変数名の変数が定義されると\n",
    "該当変数名に対して、別のIDが付与されるので\n",
    "引数の操作はできなくなる\n",
    "\"\"\"\n",
    "x=0\n",
    "def func(x):\n",
    "    x=1\n",
    "    print(id(x))\n",
    "func(x)\n",
    "print(id(x))"
   ]
  },
  {
   "cell_type": "code",
   "execution_count": 10,
   "metadata": {},
   "outputs": [
    {
     "name": "stdout",
     "output_type": "stream",
     "text": [
      "108974176\n",
      "108974176\n"
     ]
    }
   ],
   "source": [
    "\"\"\"関数の引数とid\n",
    "参照渡しの引数のIDは関数内部で変更されない\n",
    "\"\"\"\n",
    "x={\"python\":\"プログラミング言語のひとつ\"}\n",
    "def func(x):\n",
    "    print(id(x))\n",
    "func(x)\n",
    "print(id(x))"
   ]
  },
  {
   "cell_type": "code",
   "execution_count": 11,
   "metadata": {},
   "outputs": [
    {
     "name": "stdout",
     "output_type": "stream",
     "text": [
      "108974176\n",
      "108978112\n"
     ]
    }
   ],
   "source": [
    "\"\"\"関数の引数とid\n",
    "参照渡しの引数のIDは関数内部で変更されないが\n",
    "関数内部で同一変数名の変数が定義されると\n",
    "該当変数名に対して、別のIDが付与されるので\n",
    "引数の操作はできなくなる\n",
    "\"\"\"\n",
    "x={\"python\":\"プログラミング言語のひとつ\"}\n",
    "def func(x):\n",
    "    x={\"python\":\"プログラミング言語\"}\n",
    "    print(id(x))\n",
    "func(x)\n",
    "print(id(x))"
   ]
  },
  {
   "cell_type": "code",
   "execution_count": 12,
   "metadata": {},
   "outputs": [
    {
     "name": "stdout",
     "output_type": "stream",
     "text": [
      "108905984\n",
      "108905984\n"
     ]
    }
   ],
   "source": [
    "\"\"\"関数の引数とid\n",
    "参照渡しの引数のIDは関数内部で変更されないし\n",
    "要素を変更されるだけでは、該当変数のIDは変更されない\n",
    "\"\"\"\n",
    "x={\"python\":\"プログラミング言語のひとつ\"}\n",
    "def func(x):\n",
    "    x[\"python\"]=\"プログラミング言語\"\n",
    "    print(id(x))\n",
    "func(x)\n",
    "print(id(x))"
   ]
  },
  {
   "cell_type": "markdown",
   "metadata": {},
   "source": [
    "#### idの例を示したことを以下にまとめます\n",
    "* 引数として受け取る前と後では、idに違いはありません\n",
    "* 引数と同一名の変数が再定義されれば、違うidが割り当てられます\n",
    "* 引数が単一の要素でなく、複数の要素を持つ変数だった場合、その要素に変更が加えられても、変数自体のidは変化しません"
   ]
  },
  {
   "cell_type": "markdown",
   "metadata": {},
   "source": [
    "#### Pythonにおける「値渡しと参照渡し」\n",
    "    前提として、Pythonは「オブジェクト指向のプログラミング言語」と言われている通り、全てのファイル・クラス・関数・変数がオブジェクトとして扱われます。\n",
    "オブジェクト指向でないプログラミング言語では、プリミティブ型の要素とオブジェクト型の要素に分かれており、プリミティブ型は値渡し、オブジェクト型は参照渡しと明確に区別されています。\n",
    "\n",
    "**Pythonでは、全てオブジェクト型になるので、全て「参照渡し」になります。**\n",
    "\n",
    "つまり、\n",
    "+ 引数として与えられた変数が「再定義」されるまでは、元の変数と同じidを所有します。\n",
    "+ 引数としての変数の要素に変更を加えるだけでは、idは変更されず、元の変数も引数も同じidを所有し続ける"
   ]
  },
  {
   "cell_type": "markdown",
   "metadata": {},
   "source": [
    "#### 引数以外も参照渡しになる\n",
    "今までの説明では、容易な理解を手助けするため「参照渡し」は「引数」を持つ関数やクラスを作る際に注意すればいいというような説明をしてきましたが、実はそうではありません。\n",
    "\n",
    "Pythonは「プログラムの構成要素はすべてオブジェクトとして扱われる」ので、どんな場面でも、「参照渡し」には注意を配る必要があります"
   ]
  },
  {
   "cell_type": "code",
   "execution_count": 15,
   "metadata": {},
   "outputs": [
    {
     "name": "stdout",
     "output_type": "stream",
     "text": [
      "0 1833293984\n",
      "0 1833293984\n"
     ]
    }
   ],
   "source": [
    "\"\"\"例 int 変更なし\n",
    "\"\"\"\n",
    "x=0\n",
    "y=x\n",
    "print(x,id(x))\n",
    "print(y,id(y))"
   ]
  },
  {
   "cell_type": "code",
   "execution_count": 16,
   "metadata": {},
   "outputs": [
    {
     "name": "stdout",
     "output_type": "stream",
     "text": [
      "1 1833294000\n",
      "0 1833293984\n"
     ]
    }
   ],
   "source": [
    "\"\"\"例 int 変更あり\n",
    "int/float/str/boolは同じ挙動を示します\n",
    "\"\"\"\n",
    "x=0\n",
    "y=x\n",
    "x=1\n",
    "print(x,id(x))\n",
    "print(y,id(y))"
   ]
  },
  {
   "cell_type": "code",
   "execution_count": 17,
   "metadata": {},
   "outputs": [
    {
     "name": "stdout",
     "output_type": "stream",
     "text": [
      "{'python': 'プログラミング言語のひとつ'} 108978112\n",
      "{'python': 'プログラミング言語のひとつ'} 108978112\n"
     ]
    }
   ],
   "source": [
    "\"\"\"例 int 変更なし\n",
    "\"\"\"\n",
    "x={\"python\":\"プログラミング言語のひとつ\"}\n",
    "y=x\n",
    "print(x,id(x))\n",
    "print(y,id(y))"
   ]
  },
  {
   "cell_type": "code",
   "execution_count": 18,
   "metadata": {},
   "outputs": [
    {
     "name": "stdout",
     "output_type": "stream",
     "text": [
      "{'java': 'プログラミング言語のひとつ'} 109009728\n",
      "{'python': 'プログラミング言語のひとつ'} 109010016\n"
     ]
    }
   ],
   "source": [
    "\"\"\"例 int 変更あり（再定義）\n",
    "\"\"\"\n",
    "x={\"python\":\"プログラミング言語のひとつ\"}\n",
    "y=x\n",
    "x={\"java\":\"プログラミング言語のひとつ\"}\n",
    "print(x,id(x))\n",
    "print(y,id(y))"
   ]
  },
  {
   "cell_type": "code",
   "execution_count": 19,
   "metadata": {},
   "outputs": [
    {
     "name": "stdout",
     "output_type": "stream",
     "text": [
      "{'python': 'プログラミング言語のひとつ', 'java': 'プログラミング言語のひとつ'} 109010112\n",
      "{'python': 'プログラミング言語のひとつ', 'java': 'プログラミング言語のひとつ'} 109010112\n"
     ]
    }
   ],
   "source": [
    "\"\"\"例 int 変更あり（要素の変更）\n",
    "dict/list/setは同じ挙動を示します\n",
    "\"\"\"\n",
    "x={\"python\":\"プログラミング言語のひとつ\"}\n",
    "y=x\n",
    "x[\"java\"]=\"プログラミング言語のひとつ\"\n",
    "print(x,id(x))\n",
    "print(y,id(y))"
   ]
  },
  {
   "cell_type": "markdown",
   "metadata": {},
   "source": [
    "#### 関数がオブジェクトとして扱われる例\n",
    "今まではintやdictなどの変数に関してみてきましたが、関数について見ていきます"
   ]
  },
  {
   "cell_type": "code",
   "execution_count": 13,
   "metadata": {},
   "outputs": [
    {
     "name": "stdout",
     "output_type": "stream",
     "text": [
      "関数実行1\n",
      "関数実行2\n"
     ]
    }
   ],
   "source": [
    "\"\"\"関数を引数として渡す\n",
    "\"\"\"\n",
    "def func():\n",
    "    print(\"関数実行1\")\n",
    "\n",
    "def func2(func):\n",
    "    func()\n",
    "    print(\"関数実行2\")\n",
    "    \n",
    "func2(func)"
   ]
  },
  {
   "cell_type": "code",
   "execution_count": 14,
   "metadata": {},
   "outputs": [
    {
     "name": "stdout",
     "output_type": "stream",
     "text": [
      "関数の再定義\n",
      "関数実行2\n"
     ]
    }
   ],
   "source": [
    "\"\"\"関数　id\n",
    "\"\"\"\n",
    "def func():\n",
    "    print(\"関数実行1\")\n",
    "\n",
    "def func2(func):\n",
    "    def func():\n",
    "        print(\"関数の再定義\")\n",
    "    func()\n",
    "    print(\"関数実行2\")\n",
    "    \n",
    "func2(func)"
   ]
  }
 ],
 "metadata": {
  "kernelspec": {
   "display_name": "Python 3",
   "language": "python",
   "name": "python3"
  },
  "language_info": {
   "codemirror_mode": {
    "name": "ipython",
    "version": 3
   },
   "file_extension": ".py",
   "mimetype": "text/x-python",
   "name": "python",
   "nbconvert_exporter": "python",
   "pygments_lexer": "ipython3",
   "version": "3.6.8"
  }
 },
 "nbformat": 4,
 "nbformat_minor": 2
}
