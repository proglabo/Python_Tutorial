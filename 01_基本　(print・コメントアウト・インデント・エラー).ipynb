{
 "cells": [
  {
   "cell_type": "markdown",
   "metadata": {},
   "source": [
    "# 使用方法\n",
    "\n",
    "現在、皆さんが目にしているこの画面は「**JupyterNotebook**」というPythonの開発環境です。\n",
    "\n",
    "### 構成\n",
    "ご覧の通り、小さなセルの集まりで画面が作られています。\n",
    "\n",
    "JupyterNotebookでは、1セルごとにプログラムが実行されます\n",
    "\n",
    "### 実行方法\n",
    "通常は、セルを選択した状態で、　**Ctrl+Enter**　で実行します\n",
    "\n",
    "実行後、新しいセルを増やしたい場合は　**Alt+Enter**　で実行します\n",
    "\n",
    "実行後、次のセルをアクティブにしたい場合は　**Shift+Enter**で実行します\n",
    "\n",
    "### セルの種類\n",
    "\n",
    "**Code**：プログラムを記述\n",
    "\n",
    "**Markdown**:説明を記述"
   ]
  },
  {
   "cell_type": "markdown",
   "metadata": {},
   "source": [
    "## Print文\n",
    "Pythonの基本です\n",
    "プログラム実行時に任意の文字列を出力します\n",
    "\n",
    "「プリント文」と呼びます\n",
    "\n",
    "世の中の全てのプログラミング言語において、入門者が最初に出力する文字列は慣習的に「Hello World」と決まっています"
   ]
  },
  {
   "cell_type": "code",
   "execution_count": 1,
   "metadata": {},
   "outputs": [
    {
     "name": "stdout",
     "output_type": "stream",
     "text": [
      "Hello World!!\n"
     ]
    }
   ],
   "source": [
    "\"\"\"通常のprint\n",
    "\"\"\"\n",
    "print(\"Hello World!!\")"
   ]
  },
  {
   "cell_type": "code",
   "execution_count": 2,
   "metadata": {},
   "outputs": [
    {
     "name": "stdout",
     "output_type": "stream",
     "text": [
      "\n",
      "Hello World!\n",
      "\n"
     ]
    }
   ],
   "source": [
    "\"\"\"複数行にわたるprint\n",
    "\"\"\"\n",
    "print(\"\"\"\n",
    "Hello World!\n",
    "\"\"\")"
   ]
  },
  {
   "cell_type": "code",
   "execution_count": 1,
   "metadata": {},
   "outputs": [
    {
     "name": "stdout",
     "output_type": "stream",
     "text": [
      "Hello World! Good Morning!\n",
      "Hello World! 1000\n"
     ]
    }
   ],
   "source": [
    "\"\"\"%\n",
    "%d/%sで既存の文字列に代入できる\n",
    "\"\"\"\n",
    "print(\"Hello World! %s\"%\"Good Morning!\")\n",
    "print(\"Hello World! %d\"%1000)"
   ]
  },
  {
   "cell_type": "code",
   "execution_count": 3,
   "metadata": {},
   "outputs": [
    {
     "name": "stdout",
     "output_type": "stream",
     "text": [
      "abcd\n",
      "efgh\n",
      "abcd\\nefgh\n",
      "\"\n",
      "\"\n"
     ]
    }
   ],
   "source": [
    "\"\"\"エスケープシーケンス\n",
    "「\\」と特定の文字の組み合わせで、特殊な文字に変化する組み合わせがあります\n",
    "\"\"\"\n",
    "# 「\\n」は改行を意味する\n",
    "print(\"abcd\\nefgh\")\n",
    "\n",
    "# 「\\n」をそのまま出力したい\n",
    "print(r\"abcd\\nefgh\")\n",
    "\n",
    "# 「ダブルクォーテーション」を出力したい\n",
    "print(\"\\\"\")\n",
    "print('\"')"
   ]
  },
  {
   "cell_type": "markdown",
   "metadata": {},
   "source": [
    "## コメントアウト\n",
    "プログラムを作る際、各処理について注意事項やどういった処理をしているかプログラム内部に説明を記述しておかなくてはいけません。\n",
    "\n",
    "一人で小規模なシステムを作るのなら問題はないのですが、複数人で大規模なシステムを作る際、ほかの人が書いたコードを自分が使用しなければならない場面が頻繁にあります。\n",
    "\n",
    "この説明書きのことを「**コメントアウト**」といいます。コメントアウトされた部分は、プログラムでは実行されません"
   ]
  },
  {
   "cell_type": "code",
   "execution_count": 10,
   "metadata": {},
   "outputs": [
    {
     "name": "stdout",
     "output_type": "stream",
     "text": [
      "Hello World!!\n"
     ]
    }
   ],
   "source": [
    "# これはコメントアウトです\n",
    "\n",
    "\"\"\"\n",
    "上記のコメントアウトは1行しかコメントアウトできませんが、\n",
    "このコメントアウトは複数行のコメントアウトが可能です\n",
    "\"\"\"\n",
    "\n",
    "'''\n",
    "上記はダブルクォーテーション×3で囲われていましたが、\n",
    "シングルクォーテーション×3でも同様に複数行コメントアウトが可能です\n",
    "'''\n",
    "#これもコメントアウトです\n",
    "print(\"Hello World!!\")"
   ]
  },
  {
   "cell_type": "markdown",
   "metadata": {},
   "source": [
    "## インデント\n",
    "Pythonには「**インデント**」という概念があります。\n",
    "\n",
    "インデントはTabキーでもスペース4つでも作ることができます。\n",
    "\n",
    "このインデントでプログラムの段落構成を制御しています。\n",
    "\n",
    "下記に「関数を用いた」例を示しますが、ここでは「あ～、そういうことなんだ」という感じで流してもらえれば結構です"
   ]
  },
  {
   "cell_type": "code",
   "execution_count": 1,
   "metadata": {},
   "outputs": [
    {
     "name": "stdout",
     "output_type": "stream",
     "text": [
      "Hellow World!!\n"
     ]
    }
   ],
   "source": [
    "#下記のような構造でfunc1という関数を生成し、func1という関数はprint(\"Hellow World!!\")という動作をすることを意味します\n",
    "#そして、func1関数の外側で、func1関数を実行すればprint(\"Hellow World!!\")が実行されるという内容になっています\n",
    "def func1():\n",
    "    print(\"Hellow World!!\") #このprint文の前にある空白がインデントです\n",
    "func1()"
   ]
  },
  {
   "cell_type": "markdown",
   "metadata": {},
   "source": [
    "## エラー対応\n",
    "プログラミング初学者にとって、陥りやすいミスの一つに「**エラー内容の読み飛ばし**」があげられます。エラー内容を理解することは、プログラミングを習得するにあたって、最も重要な項目の一つです。初学者の方の多くは、以下のステップを踏みます\n",
    "+ プログラムを回し、エラーが出る\n",
    "+ エラー内容を読まず、なんとなく、いろいろいじっていたらエラーが出なくなった\n",
    "+ そのまま、なぜエラーになったのかを理解せず先へ進む\n",
    "+ それ以降も、エラーが出るたびに、理解せずに先へ進む\n",
    "+ 表面上プログラムをかけるプログラマーになる\n",
    "\n",
    "## エラー内容はきっちり読むこと！！\n",
    "\n",
    "## 大抵のエラーはWEBで検索すれば、詳しい解説が載ってます\n",
    "\n"
   ]
  },
  {
   "cell_type": "markdown",
   "metadata": {},
   "source": [
    "# 英語を勉強すること\n",
    "ある程度学習が進むと、高度なプログラムを作成するようになりますが、高度なプログラムの解説のほとんどは英語で書かれています。英語が読めるようにならなければ、それ以上先へは進めません"
   ]
  }
 ],
 "metadata": {
  "kernelspec": {
   "display_name": "Python 3",
   "language": "python",
   "name": "python3"
  },
  "language_info": {
   "codemirror_mode": {
    "name": "ipython",
    "version": 3
   },
   "file_extension": ".py",
   "mimetype": "text/x-python",
   "name": "python",
   "nbconvert_exporter": "python",
   "pygments_lexer": "ipython3",
   "version": "3.7.2"
  }
 },
 "nbformat": 4,
 "nbformat_minor": 2
}
