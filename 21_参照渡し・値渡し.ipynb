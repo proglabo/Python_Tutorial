{
 "cells": [
  {
   "cell_type": "markdown",
   "metadata": {},
   "source": [
    "## 値渡しと参照渡し\n",
    "これまで見てきた関数は引数を取る場合がありましたが、与える引数の型によって、挙動が変わってくるので、引数を与える際には十分な注意が必要です\n",
    "\n",
    "**値渡し**：引数に何か変更が加えられても、元の変数には影響を与えない\n",
    "\n",
    "**参照渡し**：引数に何か変更が加えられれば、元の変数にも同様の影響が与えられる"
   ]
  },
  {
   "cell_type": "code",
   "execution_count": null,
   "metadata": {},
   "outputs": [],
   "source": [
    "\"\"\"単一変数・タプルは値渡し\n",
    "単一変数：int/float/str/boolean\n",
    "\"\"\"\n",
    "x=1\n",
    "def func(x):\n",
    "    x=2\n",
    "func(x)"
   ]
  },
  {
   "cell_type": "code",
   "execution_count": 43,
   "metadata": {},
   "outputs": [
    {
     "name": "stdout",
     "output_type": "stream",
     "text": [
      "1\n"
     ]
    }
   ],
   "source": [
    "print(x)"
   ]
  },
  {
   "cell_type": "code",
   "execution_count": 44,
   "metadata": {},
   "outputs": [],
   "source": [
    "\"\"\"リストは参照渡し\n",
    "\"\"\"\n",
    "x=[1,2,3]\n",
    "def func(x):\n",
    "    x.append(4)\n",
    "func(x)"
   ]
  },
  {
   "cell_type": "code",
   "execution_count": 45,
   "metadata": {},
   "outputs": [
    {
     "name": "stdout",
     "output_type": "stream",
     "text": [
      "[1, 2, 3, 4]\n"
     ]
    }
   ],
   "source": [
    "print(x)"
   ]
  },
  {
   "cell_type": "code",
   "execution_count": 46,
   "metadata": {},
   "outputs": [],
   "source": [
    "\"\"\"辞書は参照渡し\n",
    "\"\"\"\n",
    "x={\"1\":\"a\"}\n",
    "def func(x):\n",
    "    x[\"2\"]=\"b\"\n",
    "func(x)"
   ]
  },
  {
   "cell_type": "code",
   "execution_count": 47,
   "metadata": {},
   "outputs": [
    {
     "name": "stdout",
     "output_type": "stream",
     "text": [
      "{'1': 'a', '2': 'b'}\n"
     ]
    }
   ],
   "source": [
    "print(x)"
   ]
  },
  {
   "cell_type": "markdown",
   "metadata": {},
   "source": [
    "# 参照渡し・値渡し（応用）\n",
    "\n",
    "## 変数の代入\n",
    "\n",
    "**値渡し**：変数に何か変更が加えられても、代入先の変数も代入元の変数も独立して動く\n",
    "\n",
    "**参照渡し**：変数に何か変更が加えられれば、代入先の変数も代入元の変数も同じ変更が加えられる"
   ]
  },
  {
   "cell_type": "code",
   "execution_count": 48,
   "metadata": {},
   "outputs": [
    {
     "name": "stdout",
     "output_type": "stream",
     "text": [
      "1\n",
      "0\n"
     ]
    }
   ],
   "source": [
    "\"\"\"値渡し\n",
    "\"\"\"\n",
    "x=0\n",
    "y=x\n",
    "x=1\n",
    "print(x)\n",
    "print(y)"
   ]
  },
  {
   "cell_type": "code",
   "execution_count": 49,
   "metadata": {},
   "outputs": [
    {
     "name": "stdout",
     "output_type": "stream",
     "text": [
      "{'python': 'プログラミング言語のひとつ', 'java': 'プログラミング言語のひとつ'}\n",
      "{'python': 'プログラミング言語のひとつ', 'java': 'プログラミング言語のひとつ'}\n"
     ]
    }
   ],
   "source": [
    "\"\"\"参照渡し\n",
    "\"\"\"\n",
    "x={\"python\":\"プログラミング言語のひとつ\"}\n",
    "y=x\n",
    "x[\"java\"]=\"プログラミング言語のひとつ\"\n",
    "print(x)\n",
    "print(y)"
   ]
  }
 ],
 "metadata": {
  "kernelspec": {
   "display_name": "Python 3",
   "language": "python",
   "name": "python3"
  },
  "language_info": {
   "codemirror_mode": {
    "name": "ipython",
    "version": 3
   },
   "file_extension": ".py",
   "mimetype": "text/x-python",
   "name": "python",
   "nbconvert_exporter": "python",
   "pygments_lexer": "ipython3",
   "version": "3.6.8"
  }
 },
 "nbformat": 4,
 "nbformat_minor": 2
}
