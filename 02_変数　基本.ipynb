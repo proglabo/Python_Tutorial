{
 "cells": [
  {
   "cell_type": "markdown",
   "metadata": {},
   "source": [
    "## int型\n",
    "いわゆる整数型になります。"
   ]
  },
  {
   "cell_type": "code",
   "execution_count": 63,
   "metadata": {},
   "outputs": [
    {
     "name": "stdout",
     "output_type": "stream",
     "text": [
      "1\n",
      "<class 'int'>\n"
     ]
    }
   ],
   "source": [
    "x=1\n",
    "print(x) #xを出力します\n",
    "print(type(x)) #xのtypeを出力します"
   ]
  },
  {
   "cell_type": "markdown",
   "metadata": {},
   "source": [
    "## float型\n",
    "いわゆる小数点型になります。"
   ]
  },
  {
   "cell_type": "code",
   "execution_count": 64,
   "metadata": {},
   "outputs": [
    {
     "name": "stdout",
     "output_type": "stream",
     "text": [
      "1.0\n",
      "<class 'float'>\n"
     ]
    }
   ],
   "source": [
    "x=1.0\n",
    "print(x) #xを出力します\n",
    "print(type(x)) #xのtypeを出力します"
   ]
  },
  {
   "cell_type": "markdown",
   "metadata": {},
   "source": [
    "## str型\n",
    "いわゆる文字列型になります。\n",
    "\n",
    "**ダブルクォーテーション**　か　**シングルクォーテーション**　で囲うことでStr型となります"
   ]
  },
  {
   "cell_type": "code",
   "execution_count": 65,
   "metadata": {},
   "outputs": [
    {
     "name": "stdout",
     "output_type": "stream",
     "text": [
      "1.0\n",
      "<class 'str'>\n"
     ]
    }
   ],
   "source": [
    "x=\"1.0\"\n",
    "print(x) #xを出力します\n",
    "print(type(x)) #xのtypeを出力します"
   ]
  },
  {
   "cell_type": "markdown",
   "metadata": {},
   "source": [
    "## bool型\n",
    "いわゆる論理型です。True/Falseのどちらかの値をとります\n",
    "\n",
    "「03_条件文　(if)」の講座で詳しく出てきます。"
   ]
  },
  {
   "cell_type": "code",
   "execution_count": 67,
   "metadata": {},
   "outputs": [
    {
     "name": "stdout",
     "output_type": "stream",
     "text": [
      "True\n",
      "<class 'bool'>\n"
     ]
    }
   ],
   "source": [
    "x=True\n",
    "print(x)#xを出力します\n",
    "print(type(x))#xのtypeを出力します"
   ]
  },
  {
   "cell_type": "markdown",
   "metadata": {},
   "source": [
    "## Nontype型\n",
    "Nonetype型は何も値が入っていない場合、この型になります"
   ]
  },
  {
   "cell_type": "code",
   "execution_count": 68,
   "metadata": {},
   "outputs": [
    {
     "name": "stdout",
     "output_type": "stream",
     "text": [
      "None\n",
      "<class 'NoneType'>\n"
     ]
    }
   ],
   "source": [
    "x=None\n",
    "print(x)#xを出力します\n",
    "print(type(x))#xのtypeを出力します"
   ]
  },
  {
   "cell_type": "markdown",
   "metadata": {},
   "source": [
    "## 演算\n",
    "+：足す\n",
    "\n",
    "-：引く\n",
    "\n",
    "\\*：掛ける\n",
    "\n",
    "/：割る\n",
    "\n",
    "\\*\\*：乗数倍"
   ]
  },
  {
   "cell_type": "markdown",
   "metadata": {},
   "source": [
    "## int型の演算"
   ]
  },
  {
   "cell_type": "code",
   "execution_count": 69,
   "metadata": {},
   "outputs": [],
   "source": [
    "\"\"\"int型同士の演算は大体int型になる\n",
    "\"\"\"\n",
    "x_int_1=1\n",
    "x_int_2=10"
   ]
  },
  {
   "cell_type": "code",
   "execution_count": 70,
   "metadata": {},
   "outputs": [
    {
     "name": "stdout",
     "output_type": "stream",
     "text": [
      "11 <class 'int'>\n"
     ]
    }
   ],
   "source": [
    "#足し算\n",
    "y=x_int_1+x_int_2\n",
    "print(y,type(y))"
   ]
  },
  {
   "cell_type": "code",
   "execution_count": 10,
   "metadata": {},
   "outputs": [
    {
     "name": "stdout",
     "output_type": "stream",
     "text": [
      "-9 <class 'int'>\n"
     ]
    }
   ],
   "source": [
    "#引き算\n",
    "y=x_int_1-x_int_2\n",
    "print(y,type(y))"
   ]
  },
  {
   "cell_type": "code",
   "execution_count": 11,
   "metadata": {},
   "outputs": [
    {
     "name": "stdout",
     "output_type": "stream",
     "text": [
      "10 <class 'int'>\n"
     ]
    }
   ],
   "source": [
    "#掛け算\n",
    "y=x_int_1*x_int_2\n",
    "print(y,type(y))"
   ]
  },
  {
   "cell_type": "code",
   "execution_count": 12,
   "metadata": {},
   "outputs": [
    {
     "name": "stdout",
     "output_type": "stream",
     "text": [
      "0.1 <class 'float'>\n"
     ]
    }
   ],
   "source": [
    "#割り算\n",
    "y=x_int_1/x_int_2\n",
    "print(y,type(y))"
   ]
  },
  {
   "cell_type": "code",
   "execution_count": 72,
   "metadata": {},
   "outputs": [
    {
     "name": "stdout",
     "output_type": "stream",
     "text": [
      "1 <class 'int'>\n"
     ]
    }
   ],
   "source": [
    "#乗数\n",
    "y=x_int_1**x_int_2\n",
    "print(y,type(y))"
   ]
  },
  {
   "cell_type": "markdown",
   "metadata": {},
   "source": [
    "## float型の演算"
   ]
  },
  {
   "cell_type": "code",
   "execution_count": 51,
   "metadata": {},
   "outputs": [],
   "source": [
    "\"\"\"float型の演算は全てfloat型になる\n",
    "\"\"\"\n",
    "x_float_1=1.0\n",
    "x_float_2=10.0"
   ]
  },
  {
   "cell_type": "code",
   "execution_count": 53,
   "metadata": {},
   "outputs": [
    {
     "name": "stdout",
     "output_type": "stream",
     "text": [
      "11.0 <class 'float'>\n"
     ]
    }
   ],
   "source": [
    "#足し算\n",
    "y=x_float_1+x_float_2\n",
    "print(y,type(y))"
   ]
  },
  {
   "cell_type": "code",
   "execution_count": 17,
   "metadata": {},
   "outputs": [
    {
     "name": "stdout",
     "output_type": "stream",
     "text": [
      "-9.0 <class 'float'>\n"
     ]
    }
   ],
   "source": [
    "#引き算\n",
    "y=x_float_1-x_float_2\n",
    "print(y,type(y))"
   ]
  },
  {
   "cell_type": "code",
   "execution_count": 54,
   "metadata": {},
   "outputs": [
    {
     "name": "stdout",
     "output_type": "stream",
     "text": [
      "10.0 <class 'float'>\n"
     ]
    }
   ],
   "source": [
    "#掛け算\n",
    "y=x_float_1*x_float_2\n",
    "print(y,type(y))"
   ]
  },
  {
   "cell_type": "code",
   "execution_count": 20,
   "metadata": {},
   "outputs": [
    {
     "name": "stdout",
     "output_type": "stream",
     "text": [
      "0.1 <class 'float'>\n"
     ]
    }
   ],
   "source": [
    "#割り算\n",
    "y=x_float_1/x_float_2\n",
    "print(y,type(y))"
   ]
  },
  {
   "cell_type": "code",
   "execution_count": 21,
   "metadata": {},
   "outputs": [
    {
     "name": "stdout",
     "output_type": "stream",
     "text": [
      "1.0 <class 'float'>\n"
     ]
    }
   ],
   "source": [
    "#乗数\n",
    "y=x_float_1**x_float_2\n",
    "print(y,type(y))"
   ]
  },
  {
   "cell_type": "markdown",
   "metadata": {},
   "source": [
    "## int型とfloat型の混合演算"
   ]
  },
  {
   "cell_type": "code",
   "execution_count": 55,
   "metadata": {},
   "outputs": [],
   "source": [
    "\"\"\"float型が一つでももじっていれば、計算結果はfloat型になる\n",
    "\"\"\"\n",
    "x_int=1\n",
    "x_float=1.0"
   ]
  },
  {
   "cell_type": "code",
   "execution_count": 24,
   "metadata": {},
   "outputs": [
    {
     "name": "stdout",
     "output_type": "stream",
     "text": [
      "2.0 <class 'float'>\n"
     ]
    }
   ],
   "source": [
    "#足し算\n",
    "y=x_int+x_float\n",
    "print(y,type(y))"
   ]
  },
  {
   "cell_type": "code",
   "execution_count": 25,
   "metadata": {},
   "outputs": [
    {
     "name": "stdout",
     "output_type": "stream",
     "text": [
      "0.0 <class 'float'>\n"
     ]
    }
   ],
   "source": [
    "#引き算\n",
    "y=x_int-x_float\n",
    "print(y,type(y))"
   ]
  },
  {
   "cell_type": "code",
   "execution_count": 26,
   "metadata": {},
   "outputs": [
    {
     "name": "stdout",
     "output_type": "stream",
     "text": [
      "1.0 <class 'float'>\n"
     ]
    }
   ],
   "source": [
    "#掛け算\n",
    "y=x_int*x_float\n",
    "print(y,type(y))"
   ]
  },
  {
   "cell_type": "code",
   "execution_count": 27,
   "metadata": {},
   "outputs": [
    {
     "name": "stdout",
     "output_type": "stream",
     "text": [
      "1.0 <class 'float'>\n"
     ]
    }
   ],
   "source": [
    "#割り算\n",
    "y=x_int/x_float\n",
    "print(y,type(y))"
   ]
  },
  {
   "cell_type": "code",
   "execution_count": 28,
   "metadata": {},
   "outputs": [
    {
     "name": "stdout",
     "output_type": "stream",
     "text": [
      "1.0 <class 'float'>\n"
     ]
    }
   ],
   "source": [
    "#乗数\n",
    "y=x_int**x_float\n",
    "print(y,type(y))"
   ]
  },
  {
   "cell_type": "markdown",
   "metadata": {},
   "source": [
    "## 型変換1\n",
    "int型/float型をstr型に変換します"
   ]
  },
  {
   "cell_type": "code",
   "execution_count": 76,
   "metadata": {},
   "outputs": [
    {
     "name": "stdout",
     "output_type": "stream",
     "text": [
      "1 <class 'str'>\n"
     ]
    }
   ],
   "source": [
    "#int型をstr型にします\n",
    "x_int=str(1)\n",
    "print(x_int,type(x_int))"
   ]
  },
  {
   "cell_type": "code",
   "execution_count": 78,
   "metadata": {},
   "outputs": [
    {
     "name": "stdout",
     "output_type": "stream",
     "text": [
      "1.0 <class 'str'>\n"
     ]
    }
   ],
   "source": [
    "#float型をstr型にします\n",
    "x_float=str(1.0)\n",
    "print(x_float,type(x_float))"
   ]
  },
  {
   "cell_type": "markdown",
   "metadata": {},
   "source": [
    "## 型変換2\n",
    "float型/str型をint型に変換します"
   ]
  },
  {
   "cell_type": "code",
   "execution_count": 81,
   "metadata": {},
   "outputs": [
    {
     "name": "stdout",
     "output_type": "stream",
     "text": [
      "1.0 <class 'float'>\n"
     ]
    }
   ],
   "source": [
    "#float型をint型にします\n",
    "x_float=1.0\n",
    "print(x_float,type(x_float))"
   ]
  },
  {
   "cell_type": "code",
   "execution_count": 84,
   "metadata": {},
   "outputs": [
    {
     "name": "stdout",
     "output_type": "stream",
     "text": [
      "1 <class 'str'>\n"
     ]
    }
   ],
   "source": [
    "#str型をint型にします\n",
    "x_str=\"1\"\n",
    "print(x_str,type(x_str))"
   ]
  },
  {
   "cell_type": "markdown",
   "metadata": {},
   "source": [
    "## 型変換3\n",
    "int型/str型をfloat型に変換します"
   ]
  },
  {
   "cell_type": "code",
   "execution_count": 87,
   "metadata": {},
   "outputs": [
    {
     "name": "stdout",
     "output_type": "stream",
     "text": [
      "1 <class 'int'>\n"
     ]
    }
   ],
   "source": [
    "#int型をfloat型にします\n",
    "x_int=1\n",
    "print(x_int,type(x_int))"
   ]
  },
  {
   "cell_type": "code",
   "execution_count": 90,
   "metadata": {},
   "outputs": [
    {
     "name": "stdout",
     "output_type": "stream",
     "text": [
      "1 <class 'str'>\n"
     ]
    }
   ],
   "source": [
    "#str型をfloat型にします\n",
    "x_str=\"1\"\n",
    "print(x_str,type(x_str))"
   ]
  }
 ],
 "metadata": {
  "kernelspec": {
   "display_name": "Python 3",
   "language": "python",
   "name": "python3"
  },
  "language_info": {
   "codemirror_mode": {
    "name": "ipython",
    "version": 3
   },
   "file_extension": ".py",
   "mimetype": "text/x-python",
   "name": "python",
   "nbconvert_exporter": "python",
   "pygments_lexer": "ipython3",
   "version": "3.7.2"
  }
 },
 "nbformat": 4,
 "nbformat_minor": 2
}
