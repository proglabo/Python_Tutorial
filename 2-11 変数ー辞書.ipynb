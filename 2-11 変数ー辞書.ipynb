{
 "cells": [
  {
   "cell_type": "markdown",
   "metadata": {},
   "source": [
    "# 辞書\n",
    "辞書と呼ばれる変数の形です。\n",
    "\n",
    "その名の通り、皆さんが良く見る辞書と同様、keyとvalueで構成されています\n",
    "\n",
    "例えば、広辞苑で「プログラム」を調べるとその説明文が出てくると思います\n",
    "\n",
    "この「プログラム」という単語がkeyに該当し、その説明文がvalueに該当します"
   ]
  },
  {
   "cell_type": "code",
   "execution_count": 9,
   "metadata": {},
   "outputs": [
    {
     "name": "stdout",
     "output_type": "stream",
     "text": [
      "{'プログラム': 'コンピュータに対する命令', 'Python': 'オブジェクト指向のプログラミング言語のひとつ', 'アンパンマン': '餡子のパン'}\n",
      "<class 'dict'>\n"
     ]
    }
   ],
   "source": [
    "\"\"\"\n",
    "辞書の基本形\n",
    "\"\"\"\n",
    "x={\n",
    "    \"プログラム\":\"コンピュータに対する命令\",\n",
    "    \"Python\":\"オブジェクト指向のプログラミング言語のひとつ\",\n",
    "    \"アンパンマン\":\"餡子のパン\"\n",
    "}\n",
    "print(x)\n",
    "print(type(x))"
   ]
  },
  {
   "cell_type": "code",
   "execution_count": 11,
   "metadata": {},
   "outputs": [
    {
     "name": "stdout",
     "output_type": "stream",
     "text": [
      "オブジェクト指向のプログラミング言語のひとつ\n"
     ]
    }
   ],
   "source": [
    "\"\"\"\n",
    "要素へのアクセス\n",
    "\"\"\"\n",
    "x={\n",
    "    \"プログラム\":\"コンピュータに対する命令\",\n",
    "    \"Python\":\"オブジェクト指向のプログラミング言語のひとつ\",\n",
    "    \"アンパンマン\":\"餡子のパン\"\n",
    "}\n",
    "print(x[\"Python\"])"
   ]
  },
  {
   "cell_type": "code",
   "execution_count": 15,
   "metadata": {},
   "outputs": [
    {
     "name": "stdout",
     "output_type": "stream",
     "text": [
      "dict_keys(['プログラム', 'Python', 'アンパンマン'])\n",
      "['プログラム', 'Python', 'アンパンマン']\n"
     ]
    }
   ],
   "source": [
    "\"\"\"\n",
    "keyをすべて取り出す\n",
    "\"\"\"\n",
    "x={\n",
    "    \"プログラム\":\"コンピュータに対する命令\",\n",
    "    \"Python\":\"オブジェクト指向のプログラミング言語のひとつ\",\n",
    "    \"アンパンマン\":\"餡子のパン\"\n",
    "}\n",
    "print(x.keys())\n",
    "#print(list(x.keys()))"
   ]
  },
  {
   "cell_type": "code",
   "execution_count": 16,
   "metadata": {},
   "outputs": [
    {
     "name": "stdout",
     "output_type": "stream",
     "text": [
      "dict_values(['コンピュータに対する命令', 'オブジェクト指向のプログラミング言語のひとつ', '餡子のパン'])\n"
     ]
    }
   ],
   "source": [
    "\"\"\"\n",
    "valueをすべて取り出す\n",
    "\"\"\"\n",
    "x={\n",
    "    \"プログラム\":\"コンピュータに対する命令\",\n",
    "    \"Python\":\"オブジェクト指向のプログラミング言語のひとつ\",\n",
    "    \"アンパンマン\":\"餡子のパン\"\n",
    "}\n",
    "print(x.values())\n",
    "#print(list(x.values()))"
   ]
  }
 ],
 "metadata": {
  "kernelspec": {
   "display_name": "Python 3",
   "language": "python",
   "name": "python3"
  },
  "language_info": {
   "codemirror_mode": {
    "name": "ipython",
    "version": 3
   },
   "file_extension": ".py",
   "mimetype": "text/x-python",
   "name": "python",
   "nbconvert_exporter": "python",
   "pygments_lexer": "ipython3",
   "version": "3.7.2"
  }
 },
 "nbformat": 4,
 "nbformat_minor": 2
}
