{
 "cells": [
  {
   "cell_type": "markdown",
   "metadata": {},
   "source": [
    "# Pythonとは\n",
    "+ オブジェクト指向\n",
    "+ 人工知能の分野でNo1\n",
    "\n",
    "**是非、すべての講座動画を見て、習得してください**"
   ]
  },
  {
   "cell_type": "markdown",
   "metadata": {},
   "source": [
    "# Jupyter Notebook\n",
    "+ 皆様がいま目にしているこの画面はJupyter Notebookというブラウザベースの開発環境になります\n",
    "\n",
    "+ 人工知能の分野ではこのツールは必須のツールになりますので、ぜひ使用方法を覚えてください"
   ]
  },
  {
   "cell_type": "markdown",
   "metadata": {},
   "source": [
    "この細長い四角をセルと呼びます\n",
    "\n",
    "ここにプログラムを記述していきます\n",
    "\n",
    "セルには大きく分けて二つの種類があります\n",
    "\n",
    "+ Code：プログラムを記述\n",
    "+ Markdown：説明文を記述"
   ]
  },
  {
   "cell_type": "markdown",
   "metadata": {},
   "source": [
    "セルの追加と削除\n",
    "\n",
    "+ 追加：任意のセルを選択した上で、 Insert > Insert Cell Above/Insert Cell Below \n",
    "\n",
    "+ 削除：任意のセルを選択した上で、 Edit > Delete cells "
   ]
  },
  {
   "cell_type": "markdown",
   "metadata": {},
   "source": [
    "セルの選択\n",
    "+ セルが選択されると表示が変わります"
   ]
  },
  {
   "cell_type": "markdown",
   "metadata": {},
   "source": [
    "Codeセルにプログラムを入力してみましょう"
   ]
  },
  {
   "cell_type": "code",
   "execution_count": 6,
   "metadata": {},
   "outputs": [
    {
     "name": "stdout",
     "output_type": "stream",
     "text": [
      "Python\n"
     ]
    }
   ],
   "source": [
    "print(\"Python\")"
   ]
  },
  {
   "cell_type": "markdown",
   "metadata": {},
   "source": [
    "セルの実行ショートカット\n",
    "\n",
    "+ 通常：セルを選択した状態で、 Ctrl+Enter\n",
    "\n",
    "+ 実行&追加：セルを選択した状態で、 Alt+Enter\n",
    "\n",
    "+ 実行&次セルをアクティブ：セルを選択した状態で、Shift+Enter"
   ]
  },
  {
   "cell_type": "code",
   "execution_count": 8,
   "metadata": {},
   "outputs": [
    {
     "name": "stdout",
     "output_type": "stream",
     "text": [
      "Python\n"
     ]
    }
   ],
   "source": [
    "print(\"Python\")"
   ]
  },
  {
   "cell_type": "markdown",
   "metadata": {},
   "source": [
    "Markdownセルに変換\n",
    "\n",
    "+ セルの状態選択ボックスで、Markdownを選ぶ"
   ]
  },
  {
   "cell_type": "markdown",
   "metadata": {},
   "source": [
    "# Title\n",
    "+ test"
   ]
  },
  {
   "cell_type": "markdown",
   "metadata": {},
   "source": [
    "# コメントアウト\n",
    "プログラムを作成する際、各処理がどういった処理か、説明書きをプログラム内部に残しておかなくてはなりません。\n",
    "\n",
    "その際に使われる手法が**コメントアウト**といわれるものです\n",
    "\n",
    "コメントアウトされた箇所は、コンピュータはプログラムとしては認識しません"
   ]
  },
  {
   "cell_type": "code",
   "execution_count": 9,
   "metadata": {},
   "outputs": [
    {
     "name": "stdout",
     "output_type": "stream",
     "text": [
      "Python\n"
     ]
    }
   ],
   "source": [
    "# 1行のコメントアウト\n",
    "print(\"Python\")"
   ]
  },
  {
   "cell_type": "code",
   "execution_count": 10,
   "metadata": {},
   "outputs": [
    {
     "name": "stdout",
     "output_type": "stream",
     "text": [
      "Python\n"
     ]
    }
   ],
   "source": [
    "\"\"\"\n",
    "複数行のコメントアウト\n",
    "複数行のコメントアウト\n",
    "複数行のコメントアウト\n",
    "\"\"\"\n",
    "print(\"Python\")"
   ]
  },
  {
   "cell_type": "code",
   "execution_count": 12,
   "metadata": {},
   "outputs": [
    {
     "name": "stdout",
     "output_type": "stream",
     "text": [
      "Python\n"
     ]
    }
   ],
   "source": [
    "'''\n",
    "複数行のコメントアウト\n",
    "複数行のコメントアウト\n",
    "複数行のコメントアウト\n",
    "'''\n",
    "print(\"Python\")"
   ]
  },
  {
   "cell_type": "markdown",
   "metadata": {},
   "source": [
    "# Print文の応用"
   ]
  },
  {
   "cell_type": "code",
   "execution_count": 13,
   "metadata": {},
   "outputs": [
    {
     "name": "stdout",
     "output_type": "stream",
     "text": [
      "Python Python\n"
     ]
    }
   ],
   "source": [
    "\"\"\"\n",
    "複数出力\n",
    "\"\"\"\n",
    "print(\"Python\",\"Python\")"
   ]
  },
  {
   "cell_type": "code",
   "execution_count": 14,
   "metadata": {},
   "outputs": [
    {
     "name": "stdout",
     "output_type": "stream",
     "text": [
      "Pythonはプログラミング言語です\n"
     ]
    }
   ],
   "source": [
    "\"\"\"\n",
    "文字列代入\n",
    "\"\"\"\n",
    "print(\"%sはプログラミング言語です\"%\"Python\")"
   ]
  },
  {
   "cell_type": "code",
   "execution_count": 15,
   "metadata": {},
   "outputs": [
    {
     "name": "stdout",
     "output_type": "stream",
     "text": [
      "リンゴが5個あります\n"
     ]
    }
   ],
   "source": [
    "\"\"\"\n",
    "数字列代入\n",
    "\"\"\"\n",
    "print(\"リンゴが%d個あります\"%5)"
   ]
  },
  {
   "cell_type": "code",
   "execution_count": 16,
   "metadata": {},
   "outputs": [
    {
     "name": "stdout",
     "output_type": "stream",
     "text": [
      "Python\n",
      "Python\n"
     ]
    }
   ],
   "source": [
    "\"\"\"\n",
    "特殊文字\n",
    "\\nで改行を意味する\n",
    "\"\"\"\n",
    "print(\"Python\\nPython\")"
   ]
  },
  {
   "cell_type": "code",
   "execution_count": null,
   "metadata": {},
   "outputs": [],
   "source": [
    "\"\"\"\n",
    "特殊文字の扱い方\n",
    "\"\"\"\n",
    "print(r\"Python\\nPython\")"
   ]
  }
 ],
 "metadata": {
  "kernelspec": {
   "display_name": "Python 3",
   "language": "python",
   "name": "python3"
  },
  "language_info": {
   "codemirror_mode": {
    "name": "ipython",
    "version": 3
   },
   "file_extension": ".py",
   "mimetype": "text/x-python",
   "name": "python",
   "nbconvert_exporter": "python",
   "pygments_lexer": "ipython3",
   "version": "3.6.8"
  }
 },
 "nbformat": 4,
 "nbformat_minor": 2
}
