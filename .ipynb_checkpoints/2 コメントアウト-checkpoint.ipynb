{
 "cells": [
  {
   "cell_type": "markdown",
   "metadata": {},
   "source": [
    "# コメントアウト\n",
    "プログラムを作成する際、各処理がどういった処理か、説明書きをプログラム内部に残しておかなくてはなりません。\n",
    "\n",
    "その際に使われる手法が**コメントアウト**といわれるものです\n",
    "\n",
    "コメントアウトされた箇所は、コンピュータはプログラムとしては認識しません"
   ]
  },
  {
   "cell_type": "code",
   "execution_count": null,
   "metadata": {},
   "outputs": [],
   "source": [
    "print(\"Python\")"
   ]
  },
  {
   "cell_type": "code",
   "execution_count": null,
   "metadata": {},
   "outputs": [],
   "source": [
    "# 1行のコメントアウト\n",
    "print(\"Python\")"
   ]
  },
  {
   "cell_type": "code",
   "execution_count": null,
   "metadata": {},
   "outputs": [],
   "source": [
    "\"\"\"\n",
    "複数行のコメントアウト\n",
    "複数行のコメントアウト\n",
    "複数行のコメントアウト\n",
    "\"\"\"\n",
    "print(\"Python\")"
   ]
  },
  {
   "cell_type": "code",
   "execution_count": null,
   "metadata": {},
   "outputs": [],
   "source": [
    "'''\n",
    "複数行のコメントアウト\n",
    "複数行のコメントアウト\n",
    "複数行のコメントアウト\n",
    "'''\n",
    "print(\"Python\")"
   ]
  }
 ],
 "metadata": {
  "kernelspec": {
   "display_name": "Python 3",
   "language": "python",
   "name": "python3"
  },
  "language_info": {
   "codemirror_mode": {
    "name": "ipython",
    "version": 3
   },
   "file_extension": ".py",
   "mimetype": "text/x-python",
   "name": "python",
   "nbconvert_exporter": "python",
   "pygments_lexer": "ipython3",
   "version": "3.6.8"
  }
 },
 "nbformat": 4,
 "nbformat_minor": 2
}
