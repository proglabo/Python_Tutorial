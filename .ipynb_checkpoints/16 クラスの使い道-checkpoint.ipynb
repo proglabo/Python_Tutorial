{
 "cells": [
  {
   "cell_type": "markdown",
   "metadata": {},
   "source": [
    "## クラスの使い道\n",
    "\n",
    "* クラスはインスタンスにより複製されることを前提に作られる\n",
    "\n",
    "### 例えば\n",
    "-----\n",
    "ある工場で色違いのパンツを何種類か作るとします。\n",
    "\n",
    "パンツの縦横のサイズは同じなのに、色が違うだけで、何枚もの設計書を作るのは無駄ですよね？\n",
    "\n",
    "そこで、使われる概念が**クラスとインスタンス**です\n",
    "\n",
    "ここまで学び進めた皆さんなら、何となく想像がつく方もいると思いますが、\n",
    "\n",
    "**クラス**：パンツの構造（縦横のサイズ）についての設計書\n",
    "\n",
    "　　→クラス変数に縦横のサイズを指定\n",
    "\n",
    "**インスタンス**：色に関する指示書\n",
    "\n",
    "　　→メンバ変数に色を指定\n",
    "\n",
    "実際に例でみてみましょう"
   ]
  },
  {
   "cell_type": "code",
   "execution_count": 1,
   "metadata": {},
   "outputs": [],
   "source": [
    "\"\"\"パンツクラス\n",
    "\"\"\"\n",
    "class Punty():\n",
    "    height=100 #パンツの高さ\n",
    "    width=200 #パンツの幅\n",
    "    def __init__(self,color):\n",
    "        self.color=color\n",
    "    def create_punty(self):\n",
    "        print(\"高さ：%s\"%Punty.height)\n",
    "        print(\"幅：%s\"%Punty.width)\n",
    "        print(\"色：%s\"%self.color)"
   ]
  },
  {
   "cell_type": "code",
   "execution_count": 4,
   "metadata": {},
   "outputs": [
    {
     "name": "stdout",
     "output_type": "stream",
     "text": [
      "高さ：100\n",
      "幅：200\n",
      "色：赤\n"
     ]
    }
   ],
   "source": [
    "red_punty = Punty(\"赤\")\n",
    "red_punty.create_punty()"
   ]
  },
  {
   "cell_type": "code",
   "execution_count": 5,
   "metadata": {},
   "outputs": [
    {
     "name": "stdout",
     "output_type": "stream",
     "text": [
      "高さ：100\n",
      "幅：200\n",
      "色：青\n"
     ]
    }
   ],
   "source": [
    "blue_punty = Punty(\"青\")\n",
    "blue_punty.create_punty()"
   ]
  }
 ],
 "metadata": {
  "kernelspec": {
   "display_name": "Python 3",
   "language": "python",
   "name": "python3"
  },
  "language_info": {
   "codemirror_mode": {
    "name": "ipython",
    "version": 3
   },
   "file_extension": ".py",
   "mimetype": "text/x-python",
   "name": "python",
   "nbconvert_exporter": "python",
   "pygments_lexer": "ipython3",
   "version": "3.6.8"
  }
 },
 "nbformat": 4,
 "nbformat_minor": 2
}
