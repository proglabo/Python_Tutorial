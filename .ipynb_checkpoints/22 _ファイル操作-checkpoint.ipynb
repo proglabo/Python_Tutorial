{
 "cells": [
  {
   "cell_type": "markdown",
   "metadata": {},
   "source": [
    "## ファイル操作\n",
    "データ分析を行う際、本来はデータベースという専用のデータ格納システムを用いますが、csvファイルやエクセルからデータを読み込んで分析することもあります。ここでは、様々なファイルの扱い方（読み込み方・書き込み方）について記述します\n",
    "\n",
    "**ファイル操作の基本**\n",
    "\n",
    "    ファイルは開いたら閉じる\n",
    "\n",
    "**プログラミング全般の基本**\n",
    "\n",
    "    何かを開いたら閉じる\n",
    "    ファイル操作だけでなく、「データベースとの接続」「ドライバーの起動」など、プログラムがプログラム外部と何らかの「つながり」を持つことを「XXXを開く/起動する/起こす」などと表現しますが、外部と何らかの「つながり」を持ったら、一連の処理が終わったら、必ず「つながり」を閉じてください"
   ]
  },
  {
   "cell_type": "code",
   "execution_count": 1,
   "metadata": {},
   "outputs": [
    {
     "name": "stdout",
     "output_type": "stream",
     "text": [
      "試し読み用\n"
     ]
    }
   ],
   "source": [
    "\"\"\"テキストデータ\n",
    "\"\"\"\n",
    "file = open(r'./data/test_read.txt',encoding=\"utf8\")\n",
    "data = file.read() \n",
    "file.close()\n",
    "print(data)"
   ]
  },
  {
   "cell_type": "markdown",
   "metadata": {},
   "source": [
    "## パス(ファイルの場所)の指定の仕方\n",
    "**パスの種類**\n",
    "\n",
    "絶対パス：コンピュータ「頭」から順番に指定する方法\n",
    "\n",
    "相対パス：現在の位置から指定する方法"
   ]
  },
  {
   "cell_type": "code",
   "execution_count": 2,
   "metadata": {},
   "outputs": [
    {
     "name": "stdout",
     "output_type": "stream",
     "text": [
      "C:\\Users\\root\\Desktop\\a_作業場\\e_programing-school\\e_教材\\Python_Tutorial\n"
     ]
    }
   ],
   "source": [
    "\"\"\"絶対パス\n",
    "\"\"\"\n",
    "# osライブラリを使って現在のディレクトリのフルパスを取得します\n",
    "import os\n",
    "print(os.path.abspath(\".\"))"
   ]
  },
  {
   "cell_type": "markdown",
   "metadata": {},
   "source": [
    "すると、今は、Cディレクトリの頭から順番にたどってきて、「PythonTutrial」ディレクトリにいることがわかります\n",
    "よって、先ほどのテキストファイルの絶対パスは\n",
    "C:\\Users\\root\\Desktop\\a_作業場\\e_programing-school\\e_教材\\Python_Tutorial\\data\\test_read.txt\n",
    "となることがわかります\n",
    "ファイルパスの記述方法は、区切りに「\\」を使う表記法と「/」を使う表記法があります。"
   ]
  },
  {
   "cell_type": "code",
   "execution_count": 25,
   "metadata": {},
   "outputs": [
    {
     "name": "stdout",
     "output_type": "stream",
     "text": [
      "試し読み用\n"
     ]
    }
   ],
   "source": [
    "\"\"\"絶対パスへの書き換え\n",
    "\"\"\"\n",
    "file = open(r'C:\\Users\\root\\Desktop\\a_作業場\\e_programing-school\\e_教材\\Python_Tutorial\\data\\test_read.txt',encoding=\"utf8\")\n",
    "data = file.read() \n",
    "file.close()\n",
    "print(data)"
   ]
  },
  {
   "cell_type": "markdown",
   "metadata": {},
   "source": [
    "## with句\n",
    "open-closeは一連の流れですが、closeをし忘れてしまうことがあります。\n",
    "短いプログラムなら何の問題もありませんが、大きなプログラムになると、一つのファイルの締め忘れが重大な事故を招くことがあります\n",
    "\n",
    "そこでwith句というものを用います。これは決まった書き方をすると自動的にファイルを閉じてくれる便利な奴です\n",
    "\n",
    "    file = open('./data/11_ファイル操作/test.txt',encoding=\"utf8\")\n",
    "    data = file.read() \n",
    "    file.close()\n",
    "    print(data)\n",
    "    print(type(data))"
   ]
  },
  {
   "cell_type": "code",
   "execution_count": 26,
   "metadata": {},
   "outputs": [
    {
     "name": "stdout",
     "output_type": "stream",
     "text": [
      "試し読み用\n"
     ]
    }
   ],
   "source": [
    "with open('./data/test_read.txt',encoding=\"utf8\") as file:\n",
    "    data = file.read() \n",
    "print(data)"
   ]
  },
  {
   "cell_type": "markdown",
   "metadata": {},
   "source": [
    "## 文字コード\n",
    "\n",
    "プログラムには「文字コード」という厄介な奴があります。\n",
    "コンピュータには「あ」が「あ」と登録されているわけではありません。記号で登録されています。「あ」なら「0xE3」という記号が割り振られています。\n",
    "\n",
    "しかし、この文字コードは、統一的なものではありません。IT技術は、全世界で同時多発的に発達してきたので、このような文字コードが統一されないまま、現在に至っています。文字コードには\n",
    "* UTF8\n",
    "* SHIFT-JIS\n",
    "* ASCII\n",
    "など様々な規格があります。\n",
    "\n",
    "ファイルやOSによって、文字コードが違うことがあります。\n",
    "\n",
    "**「このファイルは、この文字コードを使って開きます」**というのを適切に指定しなければ、ファイルを読むことはできません\n",
    "\n",
    "Windowsの場合は大体UTF8で開きます"
   ]
  },
  {
   "cell_type": "code",
   "execution_count": 27,
   "metadata": {},
   "outputs": [
    {
     "name": "stdout",
     "output_type": "stream",
     "text": [
      "試し読み用\n"
     ]
    }
   ],
   "source": [
    "with open('./data/test_read.txt',encoding=\"utf8\") as file:\n",
    "    data = file.read() \n",
    "print(data)"
   ]
  },
  {
   "cell_type": "code",
   "execution_count": 28,
   "metadata": {},
   "outputs": [
    {
     "name": "stdout",
     "output_type": "stream",
     "text": [
      "隧ｦ縺苓ｪｭ縺ｿ逕ｨ\n"
     ]
    }
   ],
   "source": [
    "with open('./data/test_read.txt',encoding=\"shift-jis\") as file:\n",
    "    data = file.read() \n",
    "print(data)"
   ]
  },
  {
   "cell_type": "markdown",
   "metadata": {},
   "source": [
    "## バイナリデータ\n",
    "**テキストデータ以外のデータ**もしくは**文字や改行以外の情報を含んでいるデータ**を通常「**バイナリデータ**」と呼びます。画像データはバイナリデータに当たります"
   ]
  },
  {
   "cell_type": "markdown",
   "metadata": {},
   "source": [
    "## openのモード\n",
    "本来は、ファイルを開くとき、**「このファイルは、この文字コードを使って、このモードで開きます**」という風に指定してあげる必要がある場合があります。\n",
    "\n",
    "モードは下記のモードがあります\n",
    "\n",
    "* r : 読み込み\n",
    "* w : 書き込み\n",
    "* b : バイナリモード"
   ]
  },
  {
   "cell_type": "code",
   "execution_count": 29,
   "metadata": {},
   "outputs": [
    {
     "name": "stdout",
     "output_type": "stream",
     "text": [
      "試し読み用\n"
     ]
    }
   ],
   "source": [
    "\"\"\"読み込み\n",
    "\"\"\"\n",
    "with open(\"./data/test_read.txt\",encoding=\"utf8\",mode=\"r\") as file:\n",
    "    data = file.read() \n",
    "print(data)"
   ]
  },
  {
   "cell_type": "code",
   "execution_count": 30,
   "metadata": {},
   "outputs": [],
   "source": [
    "\"\"\"書き込み\n",
    "\"\"\"\n",
    "with open(\"./data/test_write.txt\",encoding=\"utf8\",mode=\"w\") as file:\n",
    "    file.write(\"書き込み用\") "
   ]
  },
  {
   "cell_type": "code",
   "execution_count": 31,
   "metadata": {},
   "outputs": [
    {
     "name": "stdout",
     "output_type": "stream",
     "text": [
      "b'\\xe8\\xa9\\xa6\\xe3\\x81\\x97\\xe8\\xaa\\xad\\xe3\\x81\\xbf\\xe7\\x94\\xa8'\n"
     ]
    }
   ],
   "source": [
    "\"\"\"バイナリ形式で開く\n",
    "「読み込みか or 書き込みか」＋「バイナリ」を指定する\n",
    "例：　mode=\"rb\"　\n",
    "例：　mode=\"wb\"\n",
    "バイナリ形式の場合、エンコード方式は指定できない\n",
    "\"\"\"\n",
    "with open(\"./data/test_read.txt\",mode=\"rb\") as file:\n",
    "    data = file.read() \n",
    "print(data)"
   ]
  },
  {
   "cell_type": "markdown",
   "metadata": {},
   "source": [
    "## 色んなファイルを読み書きしてみます"
   ]
  },
  {
   "cell_type": "markdown",
   "metadata": {},
   "source": [
    "### CSV"
   ]
  },
  {
   "cell_type": "code",
   "execution_count": 32,
   "metadata": {},
   "outputs": [
    {
     "name": "stdout",
     "output_type": "stream",
     "text": [
      "['1', '2', '3']\n",
      "['4', '5', '6']\n",
      "['7', '8', '9']\n"
     ]
    }
   ],
   "source": [
    "\"\"\"csvファイルの読み込み\n",
    "\"\"\"\n",
    "import csv\n",
    "with open(\"./data/test_read.csv\",encoding=\"utf8\",mode=\"r\") as file:\n",
    "    reader = csv.reader(file)\n",
    "    for row in reader:\n",
    "        print(row)"
   ]
  },
  {
   "cell_type": "code",
   "execution_count": 33,
   "metadata": {},
   "outputs": [],
   "source": [
    "\"\"\"csvファイルの書き込み\n",
    "\"\"\"\n",
    "import csv\n",
    "x=[1,2,3]\n",
    "with open(\"./data/test_write.csv\",encoding=\"utf8\",mode=\"w\") as file:\n",
    "    writer = csv.writer(file, lineterminator='\\n')\n",
    "    writer.writerow(x) "
   ]
  },
  {
   "cell_type": "code",
   "execution_count": 34,
   "metadata": {},
   "outputs": [],
   "source": [
    "\"\"\"csvファイルの書き込み\n",
    "\"\"\"\n",
    "import csv\n",
    "x=[[1,2,3],[4,5,6],[7,8,9]]\n",
    "with open(\"./data/test_write.csv\",encoding=\"utf8\",mode=\"w\") as file:\n",
    "    writer = csv.writer(file, lineterminator='\\n')\n",
    "    writer.writerows(x) "
   ]
  },
  {
   "cell_type": "markdown",
   "metadata": {},
   "source": [
    "### Excel"
   ]
  },
  {
   "cell_type": "code",
   "execution_count": 35,
   "metadata": {},
   "outputs": [
    {
     "name": "stdout",
     "output_type": "stream",
     "text": [
      "['Sheet1', 'Sheet2', 'Sheet3']\n",
      "empty:''\n"
     ]
    }
   ],
   "source": [
    "\"\"\"エクセルファイルの読み込み\n",
    "\"\"\"\n",
    "import xlrd\n",
    "wb = xlrd.open_workbook(\"./data/test_read.xlsx\")\n",
    "#シートの種類出力\n",
    "print(wb.sheet_names())\n",
    "#どのシートを読み込むか決定\n",
    "sheet = wb.sheet_by_name('Sheet1')\n",
    "#どこのセルを読み込むか\n",
    "cell = sheet.cell(1, 2)\n",
    "print(cell)"
   ]
  }
 ],
 "metadata": {
  "kernelspec": {
   "display_name": "Python 3",
   "language": "python",
   "name": "python3"
  },
  "language_info": {
   "codemirror_mode": {
    "name": "ipython",
    "version": 3
   },
   "file_extension": ".py",
   "mimetype": "text/x-python",
   "name": "python",
   "nbconvert_exporter": "python",
   "pygments_lexer": "ipython3",
   "version": "3.6.8"
  }
 },
 "nbformat": 4,
 "nbformat_minor": 2
}
