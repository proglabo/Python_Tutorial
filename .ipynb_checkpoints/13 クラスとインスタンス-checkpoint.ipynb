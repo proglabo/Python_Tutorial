{
 "cells": [
  {
   "cell_type": "markdown",
   "metadata": {},
   "source": [
    "## クラス\n",
    "\n",
    "-------------\n",
    "\n",
    "1. **関数の集まり**"
   ]
  },
  {
   "cell_type": "code",
   "execution_count": 3,
   "metadata": {},
   "outputs": [
    {
     "ename": "NameError",
     "evalue": "name 'func' is not defined",
     "output_type": "error",
     "traceback": [
      "\u001b[1;31m---------------------------------------------------------------------------\u001b[0m",
      "\u001b[1;31mNameError\u001b[0m                                 Traceback (most recent call last)",
      "\u001b[1;32m<ipython-input-3-3987d74515e3>\u001b[0m in \u001b[0;36m<module>\u001b[1;34m\u001b[0m\n\u001b[0;32m      7\u001b[0m         \u001b[0mprint\u001b[0m\u001b[1;33m(\u001b[0m\u001b[1;34m\"クラスの持ち物です\"\u001b[0m\u001b[1;33m)\u001b[0m\u001b[1;33m\u001b[0m\u001b[1;33m\u001b[0m\u001b[0m\n\u001b[0;32m      8\u001b[0m \u001b[1;31m#これは呼び出せない\u001b[0m\u001b[1;33m\u001b[0m\u001b[1;33m\u001b[0m\u001b[1;33m\u001b[0m\u001b[0m\n\u001b[1;32m----> 9\u001b[1;33m \u001b[0mfunc\u001b[0m\u001b[1;33m(\u001b[0m\u001b[1;33m)\u001b[0m\u001b[1;33m\u001b[0m\u001b[1;33m\u001b[0m\u001b[0m\n\u001b[0m",
      "\u001b[1;31mNameError\u001b[0m: name 'func' is not defined"
     ]
    }
   ],
   "source": [
    "\"\"\"基本形ー関数\n",
    "クラスを宣言し、その中に関数を書いていきます\n",
    "func関数はTestクラスの持ち物です\n",
    "\"\"\"\n",
    "class Test():\n",
    "    def func():\n",
    "        print(\"クラスの持ち物です\")\n",
    "#これは呼び出せない\n",
    "func()"
   ]
  },
  {
   "cell_type": "code",
   "execution_count": 4,
   "metadata": {},
   "outputs": [
    {
     "name": "stdout",
     "output_type": "stream",
     "text": [
      "クラスの持ち物です\n"
     ]
    }
   ],
   "source": [
    "\"\"\"基本形ー関数\n",
    "クラスを宣言し、その中に関数を書いていきます\n",
    "func関数はTestクラスの持ち物です\n",
    "\"\"\"\n",
    "class Test():\n",
    "    def func():\n",
    "        print(\"クラスの持ち物です\")\n",
    "Test.func() #クラス関数を呼び出し"
   ]
  },
  {
   "cell_type": "markdown",
   "metadata": {},
   "source": [
    "クラスは複製できます\n",
    "\n",
    "## インスタンス\n",
    "\n",
    "----\n",
    "\n",
    "1. クラスから作られたクローン\n",
    "2. 一つのクラスからいくつでも作ることができる"
   ]
  },
  {
   "cell_type": "code",
   "execution_count": 5,
   "metadata": {},
   "outputs": [],
   "source": [
    "\"\"\"インスタンス作成（クローン）\n",
    "インスタンス名　＝　クラス名（）\n",
    "でインスタンスを作成できる\n",
    "\"\"\"\n",
    "class Test():\n",
    "    def func():\n",
    "        print(\"クラスの持ち物です\")\n",
    "test_instance = Test()"
   ]
  },
  {
   "cell_type": "code",
   "execution_count": 6,
   "metadata": {},
   "outputs": [
    {
     "ename": "TypeError",
     "evalue": "func() takes 0 positional arguments but 1 was given",
     "output_type": "error",
     "traceback": [
      "\u001b[1;31m---------------------------------------------------------------------------\u001b[0m",
      "\u001b[1;31mTypeError\u001b[0m                                 Traceback (most recent call last)",
      "\u001b[1;32m<ipython-input-6-f6a3a9427e3c>\u001b[0m in \u001b[0;36m<module>\u001b[1;34m\u001b[0m\n\u001b[0;32m      6\u001b[0m         \u001b[0mprint\u001b[0m\u001b[1;33m(\u001b[0m\u001b[1;34m\"クラスの持ち物です\"\u001b[0m\u001b[1;33m)\u001b[0m\u001b[1;33m\u001b[0m\u001b[1;33m\u001b[0m\u001b[0m\n\u001b[0;32m      7\u001b[0m \u001b[0mtest_instance\u001b[0m \u001b[1;33m=\u001b[0m \u001b[0mTest\u001b[0m\u001b[1;33m(\u001b[0m\u001b[1;33m)\u001b[0m\u001b[1;33m\u001b[0m\u001b[1;33m\u001b[0m\u001b[0m\n\u001b[1;32m----> 8\u001b[1;33m \u001b[0mtest_instance\u001b[0m\u001b[1;33m.\u001b[0m\u001b[0mfunc\u001b[0m\u001b[1;33m(\u001b[0m\u001b[1;33m)\u001b[0m\u001b[1;33m\u001b[0m\u001b[1;33m\u001b[0m\u001b[0m\n\u001b[0m",
      "\u001b[1;31mTypeError\u001b[0m: func() takes 0 positional arguments but 1 was given"
     ]
    }
   ],
   "source": [
    "\"\"\"インスタンスの利用（失敗例）\n",
    "インスタンスはクラスと同様の機能を引き継ぐ\n",
    "\"\"\"\n",
    "class Test():\n",
    "    def func():\n",
    "        print(\"クラスの持ち物です\")\n",
    "test_instance = Test()\n",
    "test_instance.func()"
   ]
  },
  {
   "cell_type": "code",
   "execution_count": 7,
   "metadata": {},
   "outputs": [
    {
     "name": "stdout",
     "output_type": "stream",
     "text": [
      "インスタンスの持ち物です\n"
     ]
    }
   ],
   "source": [
    "\"\"\"インスタンスの利用（成功例）\n",
    "インスタンスはクラスと同様の機能を引き継ぐが、\n",
    "何を引き継ぐかはこちらが定義してやらないといけない\n",
    "\"\"\"\n",
    "class Test():\n",
    "    def func(self):\n",
    "        print(\"インスタンスの持ち物です\")\n",
    "test_instance = Test()\n",
    "test_instance.func()"
   ]
  },
  {
   "cell_type": "markdown",
   "metadata": {},
   "source": [
    "## 用語の定義\n",
    "\n",
    "**クラス関数**：クラスだけがアクセスできる関数\n",
    "\n",
    "**クラス変数**：クラスだけがアクセスできる変数\n",
    "\n",
    "**メンバ関数**：インスタンスのみがアクセスできる関数\n",
    "\n",
    "**メンバ変数**：インスタンスのみがアクセスできる変数"
   ]
  }
 ],
 "metadata": {
  "kernelspec": {
   "display_name": "Python 3",
   "language": "python",
   "name": "python3"
  },
  "language_info": {
   "codemirror_mode": {
    "name": "ipython",
    "version": 3
   },
   "file_extension": ".py",
   "mimetype": "text/x-python",
   "name": "python",
   "nbconvert_exporter": "python",
   "pygments_lexer": "ipython3",
   "version": "3.6.8"
  }
 },
 "nbformat": 4,
 "nbformat_minor": 2
}
