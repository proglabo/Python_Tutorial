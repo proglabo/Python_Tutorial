{
 "cells": [
  {
   "cell_type": "markdown",
   "metadata": {},
   "source": [
    "# 演算\n",
    "+：足す\n",
    "\n",
    "-：引く\n",
    "\n",
    "\\*：掛ける\n",
    "\n",
    "/：割る\n",
    "\n",
    "//：商\n",
    "\n",
    "%：余り\n",
    "\n",
    "\\*\\*：乗数"
   ]
  },
  {
   "cell_type": "markdown",
   "metadata": {},
   "source": [
    "まずは変数の定義です"
   ]
  },
  {
   "cell_type": "code",
   "execution_count": 5,
   "metadata": {},
   "outputs": [],
   "source": [
    "x1=100\n",
    "x2=3"
   ]
  },
  {
   "cell_type": "markdown",
   "metadata": {},
   "source": [
    "それでは、計算していきます"
   ]
  },
  {
   "cell_type": "code",
   "execution_count": 9,
   "metadata": {},
   "outputs": [
    {
     "name": "stdout",
     "output_type": "stream",
     "text": [
      "103\n"
     ]
    }
   ],
   "source": [
    "\"\"\"\n",
    "足し算\n",
    "\"\"\"\n",
    "y=x1+x2\n",
    "print(y)"
   ]
  },
  {
   "cell_type": "code",
   "execution_count": 10,
   "metadata": {},
   "outputs": [
    {
     "name": "stdout",
     "output_type": "stream",
     "text": [
      "97\n"
     ]
    }
   ],
   "source": [
    "\"\"\"\n",
    "引き算\n",
    "\"\"\"\n",
    "y=x1-x2\n",
    "print(y)"
   ]
  },
  {
   "cell_type": "code",
   "execution_count": 11,
   "metadata": {},
   "outputs": [
    {
     "name": "stdout",
     "output_type": "stream",
     "text": [
      "33.333333333333336\n"
     ]
    }
   ],
   "source": [
    "\"\"\"\n",
    "割り算\n",
    "\"\"\"\n",
    "y=x1/x2\n",
    "print(y)"
   ]
  },
  {
   "cell_type": "code",
   "execution_count": 12,
   "metadata": {},
   "outputs": [
    {
     "name": "stdout",
     "output_type": "stream",
     "text": [
      "33\n"
     ]
    }
   ],
   "source": [
    "\"\"\"\n",
    "商\n",
    "\"\"\"\n",
    "y=x1//x2\n",
    "print(y)"
   ]
  },
  {
   "cell_type": "code",
   "execution_count": 13,
   "metadata": {},
   "outputs": [
    {
     "name": "stdout",
     "output_type": "stream",
     "text": [
      "1\n"
     ]
    }
   ],
   "source": [
    "\"\"\"\n",
    "余り\n",
    "\"\"\"\n",
    "y=x1%x2\n",
    "print(y)"
   ]
  },
  {
   "cell_type": "code",
   "execution_count": 6,
   "metadata": {},
   "outputs": [
    {
     "name": "stdout",
     "output_type": "stream",
     "text": [
      "1000000\n"
     ]
    }
   ],
   "source": [
    "\"\"\"\n",
    "乗数\n",
    "\"\"\"\n",
    "y=x1**x2\n",
    "print(y)"
   ]
  },
  {
   "cell_type": "markdown",
   "metadata": {},
   "source": [
    "# 演算後の型\n",
    "+ int型同士の演算は「見たまんま」の型になります\n",
    "+ float型が一つでも混じっていれば、計算結果は必ずfloat型になります"
   ]
  },
  {
   "cell_type": "code",
   "execution_count": 15,
   "metadata": {},
   "outputs": [],
   "source": [
    "x1=100\n",
    "x2=3"
   ]
  },
  {
   "cell_type": "code",
   "execution_count": 16,
   "metadata": {},
   "outputs": [
    {
     "name": "stdout",
     "output_type": "stream",
     "text": [
      "103\n",
      "<class 'int'>\n"
     ]
    }
   ],
   "source": [
    "\"\"\"\n",
    "足し算\n",
    "\"\"\"\n",
    "y=x1+x2\n",
    "print(y)\n",
    "print(type(y))"
   ]
  },
  {
   "cell_type": "code",
   "execution_count": 17,
   "metadata": {},
   "outputs": [
    {
     "name": "stdout",
     "output_type": "stream",
     "text": [
      "33.333333333333336\n",
      "<class 'float'>\n"
     ]
    }
   ],
   "source": [
    "\"\"\"\n",
    "割り算\n",
    "\"\"\"\n",
    "y=x1/x2\n",
    "print(y)\n",
    "print(type(y))"
   ]
  },
  {
   "cell_type": "code",
   "execution_count": 18,
   "metadata": {},
   "outputs": [],
   "source": [
    "x1=100.0\n",
    "x2=3"
   ]
  },
  {
   "cell_type": "code",
   "execution_count": 19,
   "metadata": {},
   "outputs": [
    {
     "name": "stdout",
     "output_type": "stream",
     "text": [
      "103.0\n",
      "<class 'float'>\n"
     ]
    }
   ],
   "source": [
    "\"\"\"\n",
    "足し算\n",
    "\"\"\"\n",
    "y=x1+x2\n",
    "print(y)\n",
    "print(type(y))"
   ]
  },
  {
   "cell_type": "markdown",
   "metadata": {},
   "source": [
    "# 文字列型の演算\n",
    "文字列も演算可能です"
   ]
  },
  {
   "cell_type": "markdown",
   "metadata": {},
   "source": [
    "まずは変数を定義します"
   ]
  },
  {
   "cell_type": "code",
   "execution_count": 20,
   "metadata": {},
   "outputs": [],
   "source": [
    "x1=\"文字列1\"\n",
    "x2=\"文字列2\""
   ]
  },
  {
   "cell_type": "code",
   "execution_count": 21,
   "metadata": {},
   "outputs": [
    {
     "name": "stdout",
     "output_type": "stream",
     "text": [
      "文字列1文字列2\n"
     ]
    }
   ],
   "source": [
    "\"\"\"\n",
    "結合\n",
    "\"\"\"\n",
    "y=x1+x2\n",
    "print(y)"
   ]
  },
  {
   "cell_type": "code",
   "execution_count": 22,
   "metadata": {},
   "outputs": [
    {
     "name": "stdout",
     "output_type": "stream",
     "text": [
      "文字列1文字列1文字列1文字列1文字列1文字列1文字列1文字列1文字列1文字列1\n"
     ]
    }
   ],
   "source": [
    "\"\"\"\n",
    "繰り返し\n",
    "\"\"\"\n",
    "y=x1*10\n",
    "print(y)"
   ]
  }
 ],
 "metadata": {
  "kernelspec": {
   "display_name": "Python 3",
   "language": "python",
   "name": "python3"
  },
  "language_info": {
   "codemirror_mode": {
    "name": "ipython",
    "version": 3
   },
   "file_extension": ".py",
   "mimetype": "text/x-python",
   "name": "python",
   "nbconvert_exporter": "python",
   "pygments_lexer": "ipython3",
   "version": "3.7.2"
  }
 },
 "nbformat": 4,
 "nbformat_minor": 2
}
