{
 "cells": [
  {
   "cell_type": "markdown",
   "metadata": {},
   "source": [
    "## try-except\n",
    "プログラムにエラーはつきものです。そうしたエラーが出た時にどう対処するかをtry文を使って記述します"
   ]
  },
  {
   "cell_type": "code",
   "execution_count": 1,
   "metadata": {},
   "outputs": [
    {
     "ename": "NameError",
     "evalue": "name 'x' is not defined",
     "output_type": "error",
     "traceback": [
      "\u001b[1;31m---------------------------------------------------------------------------\u001b[0m",
      "\u001b[1;31mNameError\u001b[0m                                 Traceback (most recent call last)",
      "\u001b[1;32m<ipython-input-1-9ecf51366705>\u001b[0m in \u001b[0;36m<module>\u001b[1;34m\u001b[0m\n\u001b[0;32m      2\u001b[0m \u001b[0m変数を定義していないときにおこるエラー\u001b[0m\u001b[1;33m\u001b[0m\u001b[1;33m\u001b[0m\u001b[0m\n\u001b[0;32m      3\u001b[0m \"\"\"\n\u001b[1;32m----> 4\u001b[1;33m \u001b[0mprint\u001b[0m\u001b[1;33m(\u001b[0m\u001b[0mx\u001b[0m\u001b[1;33m)\u001b[0m\u001b[1;33m\u001b[0m\u001b[1;33m\u001b[0m\u001b[0m\n\u001b[0m",
      "\u001b[1;31mNameError\u001b[0m: name 'x' is not defined"
     ]
    }
   ],
   "source": [
    "\"\"\"\n",
    "変数を定義していないときにおこるエラー\n",
    "\"\"\"\n",
    "print(x)"
   ]
  },
  {
   "cell_type": "code",
   "execution_count": 2,
   "metadata": {},
   "outputs": [
    {
     "name": "stdout",
     "output_type": "stream",
     "text": [
      "エラーです\n"
     ]
    }
   ],
   "source": [
    "\"\"\"基本的なtry-except文\n",
    "\"\"\"\n",
    "try:\n",
    "    print(x)\n",
    "except:\n",
    "    print(\"エラーです\")"
   ]
  },
  {
   "cell_type": "code",
   "execution_count": 3,
   "metadata": {},
   "outputs": [
    {
     "name": "stdout",
     "output_type": "stream",
     "text": [
      "エラー内容は「name 'dbfgstefg' is not defined」です\n"
     ]
    }
   ],
   "source": [
    "\"\"\"except文でエラー内容を取得する\n",
    "\"\"\"\n",
    "try:\n",
    "    print(dbfgstefg)\n",
    "except NameError as e:\n",
    "    print(\"エラー内容は「%s」です\"%e)"
   ]
  },
  {
   "cell_type": "code",
   "execution_count": 11,
   "metadata": {},
   "outputs": [
    {
     "ename": "ZeroDivisionError",
     "evalue": "division by zero",
     "output_type": "error",
     "traceback": [
      "\u001b[1;31m---------------------------------------------------------------------------\u001b[0m",
      "\u001b[1;31mZeroDivisionError\u001b[0m                         Traceback (most recent call last)",
      "\u001b[1;32m<ipython-input-11-9e1622b385b6>\u001b[0m in \u001b[0;36m<module>\u001b[1;34m()\u001b[0m\n\u001b[1;32m----> 1\u001b[1;33m \u001b[1;36m1\u001b[0m\u001b[1;33m/\u001b[0m\u001b[1;36m0\u001b[0m\u001b[1;33m\u001b[0m\u001b[0m\n\u001b[0m",
      "\u001b[1;31mZeroDivisionError\u001b[0m: division by zero"
     ]
    }
   ],
   "source": [
    "\"\"\" 0割りエラー\n",
    "\"\"\"\n",
    "1/0"
   ]
  },
  {
   "cell_type": "code",
   "execution_count": 13,
   "metadata": {},
   "outputs": [
    {
     "name": "stdout",
     "output_type": "stream",
     "text": [
      "ZeroDivisionError\n"
     ]
    }
   ],
   "source": [
    "\"\"\"エラー内容によって処理を変える\n",
    "\"\"\"\n",
    "try:\n",
    "    1/0\n",
    "except NameError as e:\n",
    "    print(\"NameError\")\n",
    "except ZeroDivisionError as e:\n",
    "    print(\"ZeroDivisionError\")"
   ]
  },
  {
   "cell_type": "markdown",
   "metadata": {},
   "source": [
    "## try-except-else\n",
    "try文内でエラーが発生しなかった場合、elseが呼ばれます"
   ]
  },
  {
   "cell_type": "code",
   "execution_count": 18,
   "metadata": {},
   "outputs": [
    {
     "name": "stdout",
     "output_type": "stream",
     "text": [
      "エラーは発生しませんでした\n",
      "0.1\n"
     ]
    }
   ],
   "source": [
    "try:\n",
    "    x=1/10\n",
    "except NameError as e:\n",
    "    print(\"NameError\")\n",
    "except ZeroDivisionError as e:\n",
    "    print(\"ZeroDivisionError\")\n",
    "else:\n",
    "    print(\"エラーは発生しませんでした\")\n",
    "print(x)"
   ]
  },
  {
   "cell_type": "markdown",
   "metadata": {},
   "source": [
    "## try-except-finally\n",
    "エラーの有無にかかわらず、最後に呼ばれます"
   ]
  },
  {
   "cell_type": "code",
   "execution_count": 22,
   "metadata": {},
   "outputs": [
    {
     "name": "stdout",
     "output_type": "stream",
     "text": [
      "ZeroDivisionError\n",
      "エラーなんて関係なし\n"
     ]
    }
   ],
   "source": [
    "try:\n",
    "    x=1/0\n",
    "except NameError as e:\n",
    "    print(\"NameError\")\n",
    "except ZeroDivisionError as e:\n",
    "    print(\"ZeroDivisionError\")\n",
    "else:\n",
    "    print(\"エラーは発生しませんでした\")\n",
    "finally:\n",
    "    print(\"エラーなんて関係なし\")"
   ]
  }
 ],
 "metadata": {
  "kernelspec": {
   "display_name": "Python 3",
   "language": "python",
   "name": "python3"
  },
  "language_info": {
   "codemirror_mode": {
    "name": "ipython",
    "version": 3
   },
   "file_extension": ".py",
   "mimetype": "text/x-python",
   "name": "python",
   "nbconvert_exporter": "python",
   "pygments_lexer": "ipython3",
   "version": "3.7.2"
  }
 },
 "nbformat": 4,
 "nbformat_minor": 2
}
