{
 "cells": [
  {
   "cell_type": "markdown",
   "metadata": {},
   "source": [
    "# リスト\n",
    "+ [　]の中にカンマ区切りで値が格納されています\n",
    "\n",
    "+ カンマ区切りになった各値を「**要素**」と呼びます\n",
    "\n",
    "+ プログラミング言語では、N番目の数え方が現実とは違いますのでご注意下さい\n",
    "\n",
    "    1番初めにある要素を0番目として数えます\n",
    "\n",
    "+ 要素の位置をインデックスといいます\n",
    "\n",
    "    「インデックス0にある要素」とは「1番初めの位置にある要素」と言い換えることができます\n",
    "+ リストは「配列」と覚えてください"
   ]
  },
  {
   "cell_type": "code",
   "execution_count": 78,
   "metadata": {},
   "outputs": [
    {
     "name": "stdout",
     "output_type": "stream",
     "text": [
      "[1, 2, 3, 4, 5]\n",
      "<class 'list'>\n"
     ]
    }
   ],
   "source": [
    "\"\"\"\n",
    "リストの基本形\n",
    "\"\"\"\n",
    "x=[1,2,3,4,5]\n",
    "print(x)\n",
    "print(type(x))"
   ]
  },
  {
   "cell_type": "code",
   "execution_count": 79,
   "metadata": {},
   "outputs": [
    {
     "name": "stdout",
     "output_type": "stream",
     "text": [
      "['1', '2', '3', '4', '5']\n",
      "<class 'list'>\n"
     ]
    }
   ],
   "source": [
    "\"\"\"\n",
    "リストの基本形\n",
    "様々な型の変数を格納できます\n",
    "\"\"\"\n",
    "x=[\"1\",\"2\",\"3\",\"4\",\"5\"]\n",
    "print(x)\n",
    "print(type(x))"
   ]
  },
  {
   "cell_type": "code",
   "execution_count": 82,
   "metadata": {},
   "outputs": [
    {
     "name": "stdout",
     "output_type": "stream",
     "text": [
      "1\n"
     ]
    }
   ],
   "source": [
    "\"\"\"\n",
    "要素へのアクセス\n",
    "1番初めにある要素を0番目として数えます\n",
    "[任意のインデックス]\n",
    "\"\"\"\n",
    "x=[1,2,3,4,5]\n",
    "print(x[0])"
   ]
  },
  {
   "cell_type": "code",
   "execution_count": 83,
   "metadata": {},
   "outputs": [
    {
     "name": "stdout",
     "output_type": "stream",
     "text": [
      "[1, 2, 3]\n"
     ]
    }
   ],
   "source": [
    "\"\"\"\n",
    "要素への特別なアクセス 1\n",
    "[開始インデックス:終了インデックス+1]\n",
    "\"\"\"\n",
    "x=[1,2,3,4,5]\n",
    "print(x[0:3])"
   ]
  },
  {
   "cell_type": "code",
   "execution_count": 86,
   "metadata": {},
   "outputs": [
    {
     "name": "stdout",
     "output_type": "stream",
     "text": [
      "[1, 2, 3, 4, 5]\n"
     ]
    }
   ],
   "source": [
    "\"\"\"\n",
    "要素への特別なアクセス 2\n",
    "[開始インデックス:]\n",
    "\"\"\"\n",
    "x=[1,2,3,4,5]\n",
    "print(x[0:])"
   ]
  },
  {
   "cell_type": "code",
   "execution_count": 87,
   "metadata": {},
   "outputs": [
    {
     "name": "stdout",
     "output_type": "stream",
     "text": [
      "[1, 2, 3]\n"
     ]
    }
   ],
   "source": [
    "\"\"\"\n",
    "要素への特別なアクセス 3\n",
    "[:終了インデックス+1]\n",
    "\"\"\"\n",
    "x=[1,2,3,4,5]\n",
    "print(x[:3])"
   ]
  },
  {
   "cell_type": "code",
   "execution_count": 90,
   "metadata": {},
   "outputs": [
    {
     "name": "stdout",
     "output_type": "stream",
     "text": [
      "5\n"
     ]
    }
   ],
   "source": [
    "\"\"\"\n",
    "要素への特別なアクセス 4\n",
    "[-末尾からの位置]\n",
    "\"\"\"\n",
    "x=[1,2,3,4,5]\n",
    "print(x[-1])"
   ]
  },
  {
   "cell_type": "markdown",
   "metadata": {},
   "source": [
    "# リストの計算"
   ]
  },
  {
   "cell_type": "code",
   "execution_count": 91,
   "metadata": {},
   "outputs": [
    {
     "name": "stdout",
     "output_type": "stream",
     "text": [
      "[1, 2, 3, 10, 20, 30]\n"
     ]
    }
   ],
   "source": [
    "\"\"\"\n",
    "結合\n",
    "\"\"\"\n",
    "x1=[1,2,3]\n",
    "x2=[10,20,30]\n",
    "\n",
    "y=x1+x2\n",
    "print(y)"
   ]
  },
  {
   "cell_type": "code",
   "execution_count": 92,
   "metadata": {},
   "outputs": [
    {
     "name": "stdout",
     "output_type": "stream",
     "text": [
      "[1, 2, 3, 1, 2, 3, 1, 2, 3, 1, 2, 3, 1, 2, 3, 1, 2, 3, 1, 2, 3, 1, 2, 3, 1, 2, 3, 1, 2, 3]\n"
     ]
    }
   ],
   "source": [
    "\"\"\"\n",
    "繰り返し\n",
    "\"\"\"\n",
    "x=[1,2,3]\n",
    "\n",
    "y=x*10\n",
    "print(y)"
   ]
  },
  {
   "cell_type": "markdown",
   "metadata": {},
   "source": [
    "# リストの統計値\n",
    "len(list)：要素の数\n",
    "\n",
    "max(list)：最大値\n",
    "\n",
    "min(list)：最小値\n",
    "\n",
    "sum(list)：合計値"
   ]
  },
  {
   "cell_type": "code",
   "execution_count": 93,
   "metadata": {},
   "outputs": [
    {
     "name": "stdout",
     "output_type": "stream",
     "text": [
      "3\n"
     ]
    }
   ],
   "source": [
    "\"\"\"\n",
    "要素の数\n",
    "\"\"\"\n",
    "x=[1,2,3]\n",
    "x_len=len(x)\n",
    "print(x_len)"
   ]
  },
  {
   "cell_type": "code",
   "execution_count": 94,
   "metadata": {},
   "outputs": [
    {
     "name": "stdout",
     "output_type": "stream",
     "text": [
      "3\n"
     ]
    }
   ],
   "source": [
    "\"\"\"\n",
    "最大値\n",
    "\"\"\"\n",
    "x=[1,2,3]\n",
    "x_max=max(x)\n",
    "print(x_max)"
   ]
  },
  {
   "cell_type": "code",
   "execution_count": 95,
   "metadata": {},
   "outputs": [
    {
     "name": "stdout",
     "output_type": "stream",
     "text": [
      "1\n"
     ]
    }
   ],
   "source": [
    "\"\"\"\n",
    "最小値\n",
    "\"\"\"\n",
    "x=[1,2,3]\n",
    "x_min=min(x)\n",
    "print(x_min)"
   ]
  },
  {
   "cell_type": "code",
   "execution_count": 96,
   "metadata": {},
   "outputs": [
    {
     "name": "stdout",
     "output_type": "stream",
     "text": [
      "6\n"
     ]
    }
   ],
   "source": [
    "\"\"\"\n",
    "合計値\n",
    "\"\"\"\n",
    "x=[1,2,3]\n",
    "x_sum=sum(x)\n",
    "print(x_sum)"
   ]
  },
  {
   "cell_type": "markdown",
   "metadata": {},
   "source": [
    "# 要素の操作\n",
    "要素の変更・追加について紹介いたします"
   ]
  },
  {
   "cell_type": "code",
   "execution_count": 99,
   "metadata": {},
   "outputs": [
    {
     "name": "stdout",
     "output_type": "stream",
     "text": [
      "[1000, 2, 3]\n"
     ]
    }
   ],
   "source": [
    "\"\"\"\n",
    "特定インデックスの要素の変更\n",
    "\"\"\"\n",
    "x=[1,2,3]\n",
    "x[0]=1000\n",
    "print(x)"
   ]
  },
  {
   "cell_type": "code",
   "execution_count": 100,
   "metadata": {},
   "outputs": [
    {
     "name": "stdout",
     "output_type": "stream",
     "text": [
      "[1, 2, 3, 4]\n"
     ]
    }
   ],
   "source": [
    "\"\"\"\n",
    "要素の追加\n",
    "\"\"\"\n",
    "x=[1,2,3]\n",
    "x.append(4)\n",
    "print(x)"
   ]
  },
  {
   "cell_type": "code",
   "execution_count": 101,
   "metadata": {},
   "outputs": [
    {
     "name": "stdout",
     "output_type": "stream",
     "text": [
      "[1, 1000, 2, 3]\n"
     ]
    }
   ],
   "source": [
    "\"\"\"\n",
    "要素の挿入\n",
    "\"\"\"\n",
    "x=[1,2,3]\n",
    "x.insert(1,1000)\n",
    "print(x)"
   ]
  },
  {
   "cell_type": "code",
   "execution_count": 102,
   "metadata": {},
   "outputs": [
    {
     "name": "stdout",
     "output_type": "stream",
     "text": [
      "[2, 3]\n"
     ]
    }
   ],
   "source": [
    "\"\"\"\n",
    "特定インデックスの要素の削除\n",
    "\"\"\"\n",
    "x=[1,2,3]\n",
    "x.pop(0)\n",
    "print(x)"
   ]
  },
  {
   "cell_type": "code",
   "execution_count": 103,
   "metadata": {},
   "outputs": [
    {
     "name": "stdout",
     "output_type": "stream",
     "text": [
      "[1, 3]\n"
     ]
    }
   ],
   "source": [
    "\"\"\"\n",
    "特定の値の要素の削除\n",
    "\"\"\"\n",
    "x=[1,2,3]\n",
    "x.remove(2)\n",
    "print(x)"
   ]
  },
  {
   "cell_type": "code",
   "execution_count": 106,
   "metadata": {},
   "outputs": [
    {
     "name": "stdout",
     "output_type": "stream",
     "text": [
      "0\n"
     ]
    }
   ],
   "source": [
    "\"\"\"\n",
    "特定の値があるインデックス番号を探す\n",
    "\"\"\"\n",
    "x=[1,2,3]\n",
    "x_index=x.index(1)\n",
    "print(x_index)"
   ]
  },
  {
   "cell_type": "code",
   "execution_count": 109,
   "metadata": {},
   "outputs": [
    {
     "name": "stdout",
     "output_type": "stream",
     "text": [
      "True\n"
     ]
    }
   ],
   "source": [
    "\"\"\"\n",
    "要素があるか否かの確認\n",
    "ある：True\n",
    "ない：False\n",
    "\"\"\"\n",
    "x=[1,2,3]\n",
    "in_list= 3 in x\n",
    "print(in_list)"
   ]
  },
  {
   "cell_type": "code",
   "execution_count": 112,
   "metadata": {},
   "outputs": [
    {
     "name": "stdout",
     "output_type": "stream",
     "text": [
      "1\n"
     ]
    }
   ],
   "source": [
    "\"\"\"\n",
    "要素の数を数える\n",
    "\"\"\"\n",
    "x=[1,2,3]\n",
    "x_count=x.count(3)\n",
    "print(x_count)"
   ]
  },
  {
   "cell_type": "code",
   "execution_count": 113,
   "metadata": {},
   "outputs": [
    {
     "name": "stdout",
     "output_type": "stream",
     "text": [
      "[3, 100, 200]\n"
     ]
    }
   ],
   "source": [
    "\"\"\"\n",
    "要素を小さい順に並べる\n",
    "\"\"\"\n",
    "x=[100,200,3]\n",
    "x.sort()\n",
    "print(x)"
   ]
  },
  {
   "cell_type": "code",
   "execution_count": 114,
   "metadata": {},
   "outputs": [
    {
     "name": "stdout",
     "output_type": "stream",
     "text": [
      "[200, 100, 3]\n"
     ]
    }
   ],
   "source": [
    "\"\"\"\n",
    "要素を大きい順に並べる\n",
    "\"\"\"\n",
    "x=[100,200,3]\n",
    "x.sort(reverse=True)\n",
    "print(x)"
   ]
  }
 ],
 "metadata": {
  "kernelspec": {
   "display_name": "Python 3",
   "language": "python",
   "name": "python3"
  },
  "language_info": {
   "codemirror_mode": {
    "name": "ipython",
    "version": 3
   },
   "file_extension": ".py",
   "mimetype": "text/x-python",
   "name": "python",
   "nbconvert_exporter": "python",
   "pygments_lexer": "ipython3",
   "version": "3.6.8"
  }
 },
 "nbformat": 4,
 "nbformat_minor": 2
}
