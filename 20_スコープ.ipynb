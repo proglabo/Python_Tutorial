{
 "cells": [
  {
   "cell_type": "markdown",
   "metadata": {},
   "source": [
    "## スコープ\n",
    "Pythonでは、スコープという概念を作り、変数同士の干渉を防ぐ仕組みがあります。\n",
    "\n",
    "そこで重要になってくるのが、グローバル領域とローカル領域です。\n",
    "\n",
    "ローカル領域から、グローバル領域にある変数を参照は出来ますが、変更はできません。"
   ]
  },
  {
   "cell_type": "code",
   "execution_count": 3,
   "metadata": {},
   "outputs": [],
   "source": [
    "\"\"\"領域\n",
    "関数の内側：ローカル領域\n",
    "関数の外側：グローバル領域\n",
    "\"\"\"\n",
    "gloval_x=0\n",
    "def func():\n",
    "    local_x=0"
   ]
  },
  {
   "cell_type": "code",
   "execution_count": 4,
   "metadata": {},
   "outputs": [
    {
     "name": "stdout",
     "output_type": "stream",
     "text": [
      "0\n"
     ]
    }
   ],
   "source": [
    "\"\"\"同じ領域内の変数にアクセス\n",
    "関数の内側（ローカル領域）\n",
    "\"\"\"\n",
    "def func():\n",
    "    local_x=0\n",
    "    print(local_x)\n",
    "func()"
   ]
  },
  {
   "cell_type": "code",
   "execution_count": 5,
   "metadata": {},
   "outputs": [
    {
     "name": "stdout",
     "output_type": "stream",
     "text": [
      "0\n"
     ]
    }
   ],
   "source": [
    "\"\"\"同じ領域内の変数にアクセス\n",
    "関数の外側（グローバル領域）\n",
    "\"\"\"\n",
    "gloval_x=0\n",
    "def func():\n",
    "    local_x=0\n",
    "    print(local_x)\n",
    "print(gloval_x)"
   ]
  },
  {
   "cell_type": "code",
   "execution_count": 6,
   "metadata": {},
   "outputs": [
    {
     "name": "stdout",
     "output_type": "stream",
     "text": [
      "0\n"
     ]
    }
   ],
   "source": [
    "\"\"\"関数のスコープ（参照）\n",
    "関数の内側（ローカル領域）から\n",
    "関数の外側（グローバル領域）の\n",
    "変数の値を参照することは可能です\n",
    "\"\"\"\n",
    "gloval_x=0\n",
    "def func():\n",
    "    print(gloval_x)\n",
    "func()"
   ]
  },
  {
   "cell_type": "code",
   "execution_count": 7,
   "metadata": {},
   "outputs": [
    {
     "name": "stdout",
     "output_type": "stream",
     "text": [
      "1\n"
     ]
    }
   ],
   "source": [
    "\"\"\"関数のスコープ（変更）\n",
    "関数の内側（ローカル領域）から\n",
    "関数の外側（グローバル領域）の\n",
    "変数の値を変更することはできません\n",
    "また、参照は基本的にローカル領域にある変数を優先して探します\n",
    "\"\"\"\n",
    "x=0\n",
    "def func():\n",
    "    x=1\n",
    "    print(x)\n",
    "func()"
   ]
  },
  {
   "cell_type": "code",
   "execution_count": 8,
   "metadata": {},
   "outputs": [
    {
     "name": "stdout",
     "output_type": "stream",
     "text": [
      "0\n"
     ]
    }
   ],
   "source": [
    "print(x)"
   ]
  },
  {
   "cell_type": "code",
   "execution_count": 9,
   "metadata": {},
   "outputs": [
    {
     "name": "stdout",
     "output_type": "stream",
     "text": [
      "1\n"
     ]
    }
   ],
   "source": [
    "\"\"\"グローバル宣言\n",
    "関数の内側（ローカル領域）から\n",
    "関数の外側（グローバル領域）の\n",
    "変数の値を変更出来るようにする処理を\n",
    "global宣言といい、以下のように記述します\n",
    "\"\"\"\n",
    "x=0\n",
    "def func():\n",
    "    global x\n",
    "    x=1\n",
    "    print(x)\n",
    "func()"
   ]
  },
  {
   "cell_type": "code",
   "execution_count": 10,
   "metadata": {},
   "outputs": [
    {
     "name": "stdout",
     "output_type": "stream",
     "text": [
      "1\n"
     ]
    }
   ],
   "source": [
    "print(x)"
   ]
  }
 ],
 "metadata": {
  "kernelspec": {
   "display_name": "Python 3",
   "language": "python",
   "name": "python3"
  },
  "language_info": {
   "codemirror_mode": {
    "name": "ipython",
    "version": 3
   },
   "file_extension": ".py",
   "mimetype": "text/x-python",
   "name": "python",
   "nbconvert_exporter": "python",
   "pygments_lexer": "ipython3",
   "version": "3.6.8"
  }
 },
 "nbformat": 4,
 "nbformat_minor": 2
}
