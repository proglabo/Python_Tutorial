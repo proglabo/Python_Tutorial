{
 "cells": [
  {
   "cell_type": "markdown",
   "metadata": {},
   "source": [
    "## スコープ\n",
    "Pythonでは、スコープという概念を作り、変数同士の干渉を防ぐ仕組みがあります。\n",
    "\n",
    "そこで重要になってくるのが、グローバル領域とローカル領域です。\n",
    "\n",
    "ローカル領域から、グローバル領域にある変数を参照は出来ますが、変更はできません。"
   ]
  },
  {
   "cell_type": "code",
   "execution_count": 6,
   "metadata": {},
   "outputs": [
    {
     "name": "stdout",
     "output_type": "stream",
     "text": [
      "0\n"
     ]
    }
   ],
   "source": [
    "\"\"\"関数のスコープ（参照）\n",
    "関数の内側をローカル領域、外側をグローバル領域といいます\n",
    "関数の内側（ローカル領域）から関数の外側（グローバル領域）の変数の値を見ることは可能です\n",
    "\"\"\"\n",
    "x=0\n",
    "def func():\n",
    "    print(x)\n",
    "func()"
   ]
  },
  {
   "cell_type": "code",
   "execution_count": 12,
   "metadata": {},
   "outputs": [
    {
     "name": "stdout",
     "output_type": "stream",
     "text": [
      "1\n",
      "0\n"
     ]
    }
   ],
   "source": [
    "\"\"\"関数のスコープ（変更）\n",
    "関数の内側（ローカル領域）から関数の外側（グローバル領域）の変数の値を変更することはできません\n",
    "また、参照は基本的にローカル領域にある変数を優先して探します\n",
    "\"\"\"\n",
    "x=0\n",
    "def func():\n",
    "    x=1\n",
    "    print(x)\n",
    "func()\n",
    "print(x)"
   ]
  },
  {
   "cell_type": "code",
   "execution_count": 9,
   "metadata": {},
   "outputs": [
    {
     "name": "stdout",
     "output_type": "stream",
     "text": [
      "1\n",
      "1\n"
     ]
    }
   ],
   "source": [
    "\"\"\"グローバル宣言\n",
    "関数の内側（ローカル領域）から関数の外側（グローバル領域）の変数の値を変更出来るようにする処理を\n",
    "global宣言といい、以下のように記述します\n",
    "\"\"\"\n",
    "x=0\n",
    "def func():\n",
    "    global x\n",
    "    x=1\n",
    "    print(x)\n",
    "func()\n",
    "print(x)"
   ]
  }
 ],
 "metadata": {
  "kernelspec": {
   "display_name": "Python 3",
   "language": "python",
   "name": "python3"
  },
  "language_info": {
   "codemirror_mode": {
    "name": "ipython",
    "version": 3
   },
   "file_extension": ".py",
   "mimetype": "text/x-python",
   "name": "python",
   "nbconvert_exporter": "python",
   "pygments_lexer": "ipython3",
   "version": "3.7.2"
  }
 },
 "nbformat": 4,
 "nbformat_minor": 2
}
