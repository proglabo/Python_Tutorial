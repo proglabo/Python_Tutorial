{
 "cells": [
  {
   "cell_type": "markdown",
   "metadata": {},
   "source": [
    "## コンストラクタとデストラクタ\n",
    "\n",
    "#### 特殊関数\n",
    "\n",
    "**コンストラクタ** ：インスタンス生成時に自動的に呼び出される\n",
    " \n",
    "**デストラクタ** ：インスタンス消滅時に自動的に呼び出される"
   ]
  },
  {
   "cell_type": "code",
   "execution_count": 3,
   "metadata": {},
   "outputs": [
    {
     "name": "stdout",
     "output_type": "stream",
     "text": [
      "コンストラクタが自動的に呼ばれました\n",
      "メンバ関数が呼ばれました\n"
     ]
    }
   ],
   "source": [
    "\"\"\"コンストラクタ\n",
    "インスタンス生成時に呼ばれる特殊関数\n",
    "インスタンスを作成しただけなのに__init__関数が呼ばれます\n",
    "\"\"\"\n",
    "class Test():\n",
    "    def __init__(self):\n",
    "        print(\"コンストラクタが自動的に呼ばれました\")\n",
    "    def func(self):\n",
    "        print(\"メンバ関数が呼ばれました\")\n",
    "    \n",
    "test_instance=Test()\n",
    "test_instance.func()"
   ]
  },
  {
   "cell_type": "code",
   "execution_count": 6,
   "metadata": {},
   "outputs": [
    {
     "name": "stdout",
     "output_type": "stream",
     "text": [
      "コンストラクタが自動的に呼ばれました\n",
      "インスタンスが消滅しました\n"
     ]
    }
   ],
   "source": [
    "\"\"\"デストラクタ\n",
    "インスタンス消滅時に呼ばれる\n",
    "だが、Pythonのデストラクタはプログラムでの制御がしにくいので本来は使用しない方がいい\n",
    "\"\"\"\n",
    "class Test():\n",
    "    def __init__(self):\n",
    "        print(\"コンストラクタが自動的に呼ばれました\")\n",
    "    def __del__(self):\n",
    "        print(\"インスタンスが消滅しました\")\n",
    "test_instance=Test()\n",
    "#test_instance=None "
   ]
  }
 ],
 "metadata": {
  "kernelspec": {
   "display_name": "Python 3",
   "language": "python",
   "name": "python3"
  },
  "language_info": {
   "codemirror_mode": {
    "name": "ipython",
    "version": 3
   },
   "file_extension": ".py",
   "mimetype": "text/x-python",
   "name": "python",
   "nbconvert_exporter": "python",
   "pygments_lexer": "ipython3",
   "version": "3.7.2"
  }
 },
 "nbformat": 4,
 "nbformat_minor": 2
}
