{
 "cells": [
  {
   "cell_type": "markdown",
   "metadata": {},
   "source": [
    "## ライブラリ\n",
    "ライブラリとは、いわゆる「**便利な関数郡**」のことです。\n",
    "\n",
    "Pythonは標準で使える様々なライブラリを用意しています\n",
    "\n",
    "    https://docs.python.jp/3/library/index.html\n",
    "\n",
    "Python標準搭載でないライブラリでもinstallすることで様々な拡張機能を使用できるようになります"
   ]
  },
  {
   "cell_type": "markdown",
   "metadata": {},
   "source": [
    "### 例1　数学ライブラリ(math)\n",
    "\n",
    "処理の流れ\n",
    "\n",
    "1. 「import math」　でライブラリを読み込みます\n",
    "2. 「math.関数名(引数)」　で様々なことができるようになります"
   ]
  },
  {
   "cell_type": "code",
   "execution_count": 3,
   "metadata": {},
   "outputs": [],
   "source": [
    "import math"
   ]
  },
  {
   "cell_type": "code",
   "execution_count": 4,
   "metadata": {},
   "outputs": [
    {
     "name": "stdout",
     "output_type": "stream",
     "text": [
      "7.083736\n",
      "-7\n",
      "0.0008386341511940439\n"
     ]
    }
   ],
   "source": [
    "x=-7.083736\n",
    "\n",
    "#絶対値を返す\n",
    "print(math.fabs(x))\n",
    "\n",
    "#xを超える最小の整数値を返す\n",
    "print(math.ceil(x))\n",
    "\n",
    "#e^xを返す\n",
    "print(math.exp(x))"
   ]
  },
  {
   "cell_type": "markdown",
   "metadata": {},
   "source": [
    "### 例2 日付ライブラリ(datetime)\n",
    "\n",
    "処理の流れ\n",
    "\n",
    "1. 「import datetime」　でライブラリを読み込みます\n",
    "2. 「datetime.関数名(引数)」　で様々なことができるようになります"
   ]
  },
  {
   "cell_type": "code",
   "execution_count": 5,
   "metadata": {},
   "outputs": [],
   "source": [
    "import datetime "
   ]
  },
  {
   "cell_type": "code",
   "execution_count": 6,
   "metadata": {},
   "outputs": [
    {
     "name": "stdout",
     "output_type": "stream",
     "text": [
      "2019-08-14\n",
      "2019\n",
      "8\n",
      "14\n"
     ]
    }
   ],
   "source": [
    "#現在日時の取得\n",
    "today=datetime.date.today()\n",
    "print(today)\n",
    "print(today.year)\n",
    "print(today.month)\n",
    "print(today.day)"
   ]
  },
  {
   "cell_type": "code",
   "execution_count": 7,
   "metadata": {},
   "outputs": [
    {
     "name": "stdout",
     "output_type": "stream",
     "text": [
      "2019-08-14 23:42:02.742143\n",
      "2019\n",
      "8\n",
      "14\n",
      "23\n",
      "42\n",
      "2\n",
      "742143\n"
     ]
    }
   ],
   "source": [
    "#現在時刻の取得\n",
    "now=datetime.datetime.now()\n",
    "print(now)\n",
    "print(now.year)\n",
    "print(now.month)\n",
    "print(now.day)\n",
    "print(now.hour)\n",
    "print(now.minute)\n",
    "print(now.second)\n",
    "print(now.microsecond)"
   ]
  },
  {
   "cell_type": "markdown",
   "metadata": {},
   "source": [
    "### 特殊な読み込み\n",
    "\n",
    "ライブラリの読み込みには、時間のかかるものがあったり、不要な機能を読み込んで動作を遅くさせたりすることもあります\n",
    "そこで、必要最小限の読み込みが推奨される場合があります"
   ]
  },
  {
   "cell_type": "markdown",
   "metadata": {},
   "source": [
    "### 例1\n",
    "from math import fabs\n",
    "\n",
    "で先ほど使用したmathライブラリのfabs関数のみ読み込むことができます\n",
    "\n",
    "すると、先ほどは、math.fabs(x)としないとエラーが起きたのに、今回はfabs(x)だけで実行できてしまいます"
   ]
  },
  {
   "cell_type": "code",
   "execution_count": 8,
   "metadata": {},
   "outputs": [
    {
     "name": "stdout",
     "output_type": "stream",
     "text": [
      "1.0\n"
     ]
    }
   ],
   "source": [
    "from math import fabs\n",
    "x=1.0\n",
    "print(fabs(x))"
   ]
  },
  {
   "cell_type": "markdown",
   "metadata": {},
   "source": [
    "これはPythonが内部的に\n",
    "\n",
    "from math import fabsだからfabsはmathライブラリの持ち物だな？\n",
    "\n",
    "math.fabs()としなくても、fabsだけでmath.fabs()としたと認めてあげるよ(^▽^)/\n",
    "\n",
    "としてくれているのです"
   ]
  },
  {
   "cell_type": "code",
   "execution_count": 9,
   "metadata": {},
   "outputs": [
    {
     "name": "stdout",
     "output_type": "stream",
     "text": [
      "2019-08-14 23:44:21.833917\n"
     ]
    }
   ],
   "source": [
    "#datetimeに関しても同様\n",
    "from datetime import datetime \n",
    "print(datetime.now())"
   ]
  },
  {
   "cell_type": "markdown",
   "metadata": {},
   "source": [
    "## 自作ライブラリ\n",
    "mathやdatetimeなどのライブラリのようなものを自分で作ることもできます\n",
    "\n",
    "例として、このファイルと同階層にtest_libフォルダを作ります（このフォルダがライブラリです）\n",
    "\n",
    "その中に__init__.pyとtest.pyというPythonファイルを置きます。それぞれ内容は以下の通りです。\n",
    "\n",
    "__init__.py\n",
    "\n",
    "    from test_lib import test\n",
    "\n",
    "test.py\n",
    "\n",
    "    def func():\n",
    "        print(\"testフォルダの中のtest.pyのtest関数を実行しました\")\n",
    "        \n",
    "処理の流れとしては、＿init＿は「クラスとインスタンス」の話でも出てきた「**初期化**」を意味するものです。よって、パッケージがimportされたら、最初に呼ばれます。__init__が呼ばれると、test_libの中のtestファイルを読み込んでいることがわかります。乞う記述することでtest.pyがtest_libライブラリの一部として認識され、test_libライブラリーはtest.pyのすべての機能にアクセスできるようになります"
   ]
  },
  {
   "cell_type": "code",
   "execution_count": 10,
   "metadata": {},
   "outputs": [
    {
     "name": "stdout",
     "output_type": "stream",
     "text": [
      "testフォルダの中のtest.pyのtest関数を実行しました\n"
     ]
    }
   ],
   "source": [
    "\"\"\"自作ライブラリの使用\n",
    "\"\"\"\n",
    "from test_lib import test\n",
    "test.func()"
   ]
  }
 ],
 "metadata": {
  "kernelspec": {
   "display_name": "Python 3",
   "language": "python",
   "name": "python3"
  },
  "language_info": {
   "codemirror_mode": {
    "name": "ipython",
    "version": 3
   },
   "file_extension": ".py",
   "mimetype": "text/x-python",
   "name": "python",
   "nbconvert_exporter": "python",
   "pygments_lexer": "ipython3",
   "version": "3.6.8"
  }
 },
 "nbformat": 4,
 "nbformat_minor": 2
}
