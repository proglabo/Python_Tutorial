{
 "cells": [
  {
   "cell_type": "markdown",
   "metadata": {},
   "source": [
    "## list(リスト)\n",
    "Pythonには前述したような変数だけでなく、ベクトルを格納できる変数も存在します\n",
    "\n",
    "カンマ区切りになった各値を「**要素**」と呼びます\n",
    "\n",
    "プログラミング言語では、「1番」を1番目ではなく0番目として数えます"
   ]
  },
  {
   "cell_type": "code",
   "execution_count": 2,
   "metadata": {},
   "outputs": [
    {
     "name": "stdout",
     "output_type": "stream",
     "text": [
      "[1, 2, 3, 4, 5]\n",
      "<class 'list'>\n"
     ]
    }
   ],
   "source": [
    "\"\"\"リストの基本形\n",
    "\"\"\"\n",
    "x_list=[1,2,3,4,5]\n",
    "print(x_list)\n",
    "print(type(x_list))"
   ]
  },
  {
   "cell_type": "code",
   "execution_count": 3,
   "metadata": {},
   "outputs": [
    {
     "name": "stdout",
     "output_type": "stream",
     "text": [
      "1 <class 'int'>\n",
      "2 <class 'int'>\n",
      "3 <class 'int'>\n"
     ]
    }
   ],
   "source": [
    "#要素へのアクセス\n",
    "print(x_list[0],type(x_list[0]))\n",
    "print(x_list[1],type(x_list[1]))\n",
    "print(x_list[2],type(x_list[2]))"
   ]
  },
  {
   "cell_type": "code",
   "execution_count": 4,
   "metadata": {},
   "outputs": [
    {
     "name": "stdout",
     "output_type": "stream",
     "text": [
      "[2, 3, 4, 5]\n",
      "[1, 2]\n",
      "[2]\n",
      "5\n",
      "4\n"
     ]
    }
   ],
   "source": [
    "#特別なアクセス\n",
    "print(x_list[1:])\n",
    "print(x_list[:2])\n",
    "print(x_list[1:2])\n",
    "print(x_list[-1])\n",
    "print(x_list[-2])"
   ]
  },
  {
   "cell_type": "code",
   "execution_count": 5,
   "metadata": {},
   "outputs": [
    {
     "name": "stdout",
     "output_type": "stream",
     "text": [
      "5\n",
      "5\n",
      "1\n",
      "15\n"
     ]
    }
   ],
   "source": [
    "#リストの統計値の取得\n",
    "x_list=[1,2,3,4,5]\n",
    "print(len(x_list))\n",
    "print(max(x_list))\n",
    "print(min(x_list))\n",
    "print(sum(x_list))"
   ]
  },
  {
   "cell_type": "code",
   "execution_count": 6,
   "metadata": {},
   "outputs": [
    {
     "name": "stdout",
     "output_type": "stream",
     "text": [
      "[10, 2, 3, 4, 5]\n"
     ]
    }
   ],
   "source": [
    "#特定インデックスの要素の変更\n",
    "x_list[0]=10\n",
    "print(x_list)"
   ]
  },
  {
   "cell_type": "code",
   "execution_count": 7,
   "metadata": {},
   "outputs": [
    {
     "name": "stdout",
     "output_type": "stream",
     "text": [
      "[10, 2, 3, 4, 5, 6]\n"
     ]
    }
   ],
   "source": [
    "#要素を末尾に追加\n",
    "x_list.append(6)\n",
    "print(x_list)"
   ]
  },
  {
   "cell_type": "code",
   "execution_count": 8,
   "metadata": {},
   "outputs": [
    {
     "name": "stdout",
     "output_type": "stream",
     "text": [
      "[10, 2, 3, 4, 5, 6, 7, 8]\n"
     ]
    }
   ],
   "source": [
    "#リスト同士の結合\n",
    "x_list_sub1=[7,8]\n",
    "x_list=x_list+x_list_sub1\n",
    "print(x_list)"
   ]
  },
  {
   "cell_type": "code",
   "execution_count": 9,
   "metadata": {},
   "outputs": [
    {
     "name": "stdout",
     "output_type": "stream",
     "text": [
      "[10, 2, 3, 4, 5, 6, 7, 8, 9, 10]\n"
     ]
    }
   ],
   "source": [
    "#リスト同士の結合\n",
    "x_list_sub2=[9,10]\n",
    "x_list.extend(x_list_sub2)\n",
    "print(x_list)"
   ]
  },
  {
   "cell_type": "code",
   "execution_count": 10,
   "metadata": {},
   "outputs": [
    {
     "name": "stdout",
     "output_type": "stream",
     "text": [
      "[0, 10, 2, 3, 4, 5, 6, 7, 8, 9, 10]\n"
     ]
    }
   ],
   "source": [
    "#インデックスを指定して代入\n",
    "x_list.insert(0,0)\n",
    "print(x_list)"
   ]
  },
  {
   "cell_type": "code",
   "execution_count": 11,
   "metadata": {},
   "outputs": [
    {
     "name": "stdout",
     "output_type": "stream",
     "text": [
      "[10, 2, 3, 4, 5, 6, 7, 8, 9, 10]\n"
     ]
    }
   ],
   "source": [
    "#特定インデックスの要素を削除\n",
    "del x_list[0]\n",
    "print(x_list)"
   ]
  },
  {
   "cell_type": "code",
   "execution_count": 12,
   "metadata": {},
   "outputs": [
    {
     "name": "stdout",
     "output_type": "stream",
     "text": [
      "[2, 3, 4, 5, 6, 7, 8, 9, 10]\n"
     ]
    }
   ],
   "source": [
    "#特定インデックスの要素を削除\n",
    "x_list.pop(0)\n",
    "print(x_list)"
   ]
  },
  {
   "cell_type": "code",
   "execution_count": 13,
   "metadata": {},
   "outputs": [
    {
     "name": "stdout",
     "output_type": "stream",
     "text": [
      "[2, 3, 4, 5, 6, 7, 8, 9]\n"
     ]
    }
   ],
   "source": [
    "#特定の値の要素を削除\n",
    "x_list.remove(10)\n",
    "print(x_list)"
   ]
  },
  {
   "cell_type": "code",
   "execution_count": 14,
   "metadata": {},
   "outputs": [],
   "source": [
    "\"\"\"リストの便利な使い方\n",
    "\"\"\"\n",
    "x_list=[1,2,3,4,5]"
   ]
  },
  {
   "cell_type": "code",
   "execution_count": 15,
   "metadata": {},
   "outputs": [
    {
     "name": "stdout",
     "output_type": "stream",
     "text": [
      "4\n"
     ]
    }
   ],
   "source": [
    "#要素のインデックス番号を探す\n",
    "a_index=x_list.index(5)\n",
    "print(a_index)"
   ]
  },
  {
   "cell_type": "code",
   "execution_count": 16,
   "metadata": {},
   "outputs": [
    {
     "name": "stdout",
     "output_type": "stream",
     "text": [
      "True\n",
      "False\n"
     ]
    }
   ],
   "source": [
    "#要素がリストにあるか否か\n",
    "a_bool=1 in x_list\n",
    "print(a_bool)\n",
    "a_bool=100 in x_list\n",
    "print(a_bool)"
   ]
  },
  {
   "cell_type": "code",
   "execution_count": 17,
   "metadata": {},
   "outputs": [
    {
     "name": "stdout",
     "output_type": "stream",
     "text": [
      "1\n",
      "0\n"
     ]
    }
   ],
   "source": [
    "#要素の数を数える\n",
    "a_count=x_list.count(5)\n",
    "print(a_count)\n",
    "a_count=x_list.count(\"a\")\n",
    "print(a_count)"
   ]
  },
  {
   "cell_type": "code",
   "execution_count": 18,
   "metadata": {},
   "outputs": [
    {
     "name": "stdout",
     "output_type": "stream",
     "text": [
      "[1, 2, 3, 4, 5]\n",
      "[5, 4, 3, 2, 1]\n"
     ]
    }
   ],
   "source": [
    "#要素をソートする\n",
    "x_list.sort()\n",
    "print(x_list)\n",
    "x_list.sort(reverse=True)\n",
    "print(x_list)"
   ]
  },
  {
   "cell_type": "markdown",
   "metadata": {},
   "source": [
    "## tuple(タプル)\n",
    "リストと似た造りになっていますが、タプルは一度定義してしまうとリストのようには変更ができません"
   ]
  },
  {
   "cell_type": "code",
   "execution_count": 21,
   "metadata": {},
   "outputs": [
    {
     "name": "stdout",
     "output_type": "stream",
     "text": [
      "(1, 2, 3, 4, 5)\n",
      "<class 'tuple'>\n"
     ]
    }
   ],
   "source": [
    "\"\"\"タプルの基本形\n",
    "\"\"\"\n",
    "x_tuple=(1,2,3,4,5)\n",
    "print(x_tuple)\n",
    "print(type(x_tuple))"
   ]
  },
  {
   "cell_type": "code",
   "execution_count": 22,
   "metadata": {},
   "outputs": [
    {
     "name": "stdout",
     "output_type": "stream",
     "text": [
      "1 <class 'int'>\n",
      "2 <class 'int'>\n",
      "3 <class 'int'>\n",
      "(2, 3, 4, 5)\n",
      "(1, 2)\n",
      "(2,)\n",
      "5\n",
      "4\n",
      "5\n",
      "5\n",
      "1\n",
      "15\n"
     ]
    }
   ],
   "source": [
    "\"\"\"アクセスの仕方はリストと同じです\n",
    "\"\"\"\n",
    "#要素へのアクセス\n",
    "print(x_tuple[0],type(x_tuple[0]))\n",
    "print(x_tuple[1],type(x_tuple[1]))\n",
    "print(x_tuple[2],type(x_tuple[2]))\n",
    "#特定なアクセス\n",
    "print(x_tuple[1:])\n",
    "print(x_tuple[:2])\n",
    "print(x_tuple[1:2])\n",
    "print(x_tuple[-1])\n",
    "print(x_tuple[-2])\n",
    "#の統計値の取得\n",
    "x_tuple=(1,2,3,4,5)\n",
    "print(len(x_tuple))\n",
    "print(max(x_tuple))\n",
    "print(min(x_tuple))\n",
    "print(sum(x_tuple))"
   ]
  },
  {
   "cell_type": "code",
   "execution_count": 23,
   "metadata": {},
   "outputs": [
    {
     "name": "stdout",
     "output_type": "stream",
     "text": [
      "0\n",
      "1\n"
     ]
    }
   ],
   "source": [
    "#タプルの要素に変更を加える以外の操作はリストと同様にできます\n",
    "#x_tuple[0]=1000\n",
    "a_index=x_tuple.index(1)\n",
    "print(a_index)\n",
    "a_count=x_tuple.count(1)\n",
    "print(a_count)"
   ]
  },
  {
   "cell_type": "markdown",
   "metadata": {},
   "source": [
    "## listとtupleの型変換\n",
    "listとtupleは相互に変換可能です"
   ]
  },
  {
   "cell_type": "code",
   "execution_count": 24,
   "metadata": {},
   "outputs": [
    {
     "name": "stdout",
     "output_type": "stream",
     "text": [
      "(1, 2, 3, 4, 5) <class 'tuple'>\n",
      "[1, 2, 3, 4, 5] <class 'list'>\n"
     ]
    }
   ],
   "source": [
    "x_list=[1,2,3,4,5]\n",
    "x_tuple=(1,2,3,4,5)\n",
    "\n",
    "#print(x_list,type(x_list))\n",
    "#print(x_tuple,type(x_tuple))\n",
    "\n",
    "x_list=tuple(x_list)\n",
    "x_tuple=list(x_tuple)\n",
    "\n",
    "print(x_list,type(x_list))\n",
    "print(x_tuple,type(x_tuple))"
   ]
  },
  {
   "cell_type": "markdown",
   "metadata": {},
   "source": [
    "## ネストされたlist\n",
    "\n",
    "プログラミング言語では、「何かに包まれた」ということを「ネストされた」といいます\n",
    "\n",
    "ここで言う「ネストされたlist」とは「listの中にlistがある」という意味になります"
   ]
  },
  {
   "cell_type": "code",
   "execution_count": 26,
   "metadata": {},
   "outputs": [
    {
     "name": "stdout",
     "output_type": "stream",
     "text": [
      "[1, 2]\n",
      "2\n",
      "[3, 4]\n",
      "4\n"
     ]
    }
   ],
   "source": [
    "x_nest_list=[[1,2],[3,4]]\n",
    "print(x_nest_list[0])\n",
    "print(x_nest_list[0][1])\n",
    "print(x_nest_list[1])\n",
    "print(x_nest_list[1][1])"
   ]
  },
  {
   "cell_type": "markdown",
   "metadata": {},
   "source": [
    "## set\n",
    "list/tupleと似ていますが、要素の重複を許さず、自動的に削除されます\n",
    "\n",
    "そして、セットにはインデックス（順番）という概念が存在しないため、list/tupleのようにインデックスでの要素へのアクセスができません\n",
    "\n",
    "また、重複を許さないという性質上「集合」を考えるときに、用いられることが多いです"
   ]
  },
  {
   "cell_type": "code",
   "execution_count": 27,
   "metadata": {},
   "outputs": [
    {
     "name": "stdout",
     "output_type": "stream",
     "text": [
      "{1, 2, 3, 4, 5}\n",
      "<class 'set'>\n"
     ]
    }
   ],
   "source": [
    "\"\"\"セットの基本形\n",
    "リストをset()でsetに変換します\n",
    "\"\"\"\n",
    "x_set=set([1,2,3,4,5,3,4])\n",
    "print(x_set)\n",
    "print(type(x_set))"
   ]
  },
  {
   "cell_type": "code",
   "execution_count": 28,
   "metadata": {},
   "outputs": [
    {
     "name": "stdout",
     "output_type": "stream",
     "text": [
      "{1, 2, 3, 4, 5, 6}\n"
     ]
    }
   ],
   "source": [
    "#要素を加える\n",
    "x_set.add(6)\n",
    "print(x_set)"
   ]
  },
  {
   "cell_type": "code",
   "execution_count": 29,
   "metadata": {},
   "outputs": [
    {
     "name": "stdout",
     "output_type": "stream",
     "text": [
      "{1, 2, 3, 4, 5}\n"
     ]
    }
   ],
   "source": [
    "#要素を除去する\n",
    "x_set.remove(6)\n",
    "print(x_set)"
   ]
  },
  {
   "cell_type": "code",
   "execution_count": 30,
   "metadata": {},
   "outputs": [
    {
     "name": "stdout",
     "output_type": "stream",
     "text": [
      "set()\n"
     ]
    }
   ],
   "source": [
    "#初期化する\n",
    "x_set.clear()\n",
    "print(x_set)"
   ]
  },
  {
   "cell_type": "code",
   "execution_count": 31,
   "metadata": {},
   "outputs": [],
   "source": [
    "\"\"\"セットと集合\n",
    "\"\"\"\n",
    "x_set1=set([1,2,3,4,5])\n",
    "x_set2=set([1,5,10])"
   ]
  },
  {
   "cell_type": "code",
   "execution_count": 32,
   "metadata": {},
   "outputs": [
    {
     "name": "stdout",
     "output_type": "stream",
     "text": [
      "{1, 5}\n"
     ]
    }
   ],
   "source": [
    "#共通集合\n",
    "y=x_set1&x_set2\n",
    "print(y)"
   ]
  },
  {
   "cell_type": "code",
   "execution_count": 33,
   "metadata": {},
   "outputs": [
    {
     "name": "stdout",
     "output_type": "stream",
     "text": [
      "{1, 2, 3, 4, 5, 10}\n"
     ]
    }
   ],
   "source": [
    "#和集合(論理和)\n",
    "y=x_set1|x_set2\n",
    "print(y)"
   ]
  },
  {
   "cell_type": "code",
   "execution_count": 34,
   "metadata": {},
   "outputs": [
    {
     "name": "stdout",
     "output_type": "stream",
     "text": [
      "{2, 3, 4}\n",
      "{10}\n"
     ]
    }
   ],
   "source": [
    "#差集合\n",
    "y1=x_set1-x_set2\n",
    "print(y1)\n",
    "y2=x_set2-x_set1\n",
    "print(y2)"
   ]
  },
  {
   "cell_type": "code",
   "execution_count": 35,
   "metadata": {},
   "outputs": [
    {
     "name": "stdout",
     "output_type": "stream",
     "text": [
      "{2, 3, 4, 10}\n"
     ]
    }
   ],
   "source": [
    "#排他的論理和\n",
    "y=x_set1^x_set2\n",
    "print(y)"
   ]
  },
  {
   "cell_type": "code",
   "execution_count": 36,
   "metadata": {},
   "outputs": [
    {
     "name": "stdout",
     "output_type": "stream",
     "text": [
      "True\n",
      "False\n",
      "True\n",
      "False\n"
     ]
    }
   ],
   "source": [
    "\"\"\"セットの便利な使い方\n",
    "issubset:セットが指定した要素の中に含まれるか\n",
    "issuperset:セットが指定した要素を含むか\n",
    "\"\"\"\n",
    "x_set=set([1,2,3,4,5])\n",
    "print(x_set.issubset([1,2,3,4,5,6]))\n",
    "print(x_set.issubset([1,2,3,4]))\n",
    "print(x_set.issuperset([1,2,3,4]))\n",
    "print(x_set.issuperset([1,2,3,4,5,6]))"
   ]
  },
  {
   "cell_type": "markdown",
   "metadata": {},
   "source": [
    "## dict(辞書)\n",
    "辞書と呼ばれる変数の形です。その名の通り、皆さんが良く見る辞書と同様、keyとvalueで構成されています。\n",
    "\n",
    "例えば、広辞苑で「プログラム」を調べるとします。この「プログラム」という単語がkeyに該当し、その説明文がvalueに該当します"
   ]
  },
  {
   "cell_type": "code",
   "execution_count": 39,
   "metadata": {},
   "outputs": [
    {
     "name": "stdout",
     "output_type": "stream",
     "text": [
      "{'プログラム': 'コンピュータに対する命令', 'Python': 'オブジェクト指向のプログラミング言語のひとつ'}\n",
      "<class 'dict'>\n"
     ]
    }
   ],
   "source": [
    "\"\"\"辞書の基本形\n",
    "\"\"\"\n",
    "x_dict={\n",
    "    \"プログラム\":\"コンピュータに対する命令\",\n",
    "    \"Python\":\"オブジェクト指向のプログラミング言語のひとつ\",\n",
    "}\n",
    "print(x_dict)\n",
    "print(type(x_dict))"
   ]
  },
  {
   "cell_type": "code",
   "execution_count": 40,
   "metadata": {},
   "outputs": [
    {
     "name": "stdout",
     "output_type": "stream",
     "text": [
      "dict_items([('プログラム', 'コンピュータに対する命令'), ('Python', 'オブジェクト指向のプログラミング言語のひとつ')])\n",
      "<class 'dict_items'>\n"
     ]
    }
   ],
   "source": [
    "#keyとvalueをセットで取り出します\n",
    "#dict_itemという型ですが、list()/tuple()で変換可能です\n",
    "print(x_dict.items())\n",
    "print(type(x_dict.items()))"
   ]
  },
  {
   "cell_type": "code",
   "execution_count": 41,
   "metadata": {},
   "outputs": [
    {
     "name": "stdout",
     "output_type": "stream",
     "text": [
      "dict_keys(['プログラム', 'Python'])\n"
     ]
    }
   ],
   "source": [
    "#keyのみ取得\n",
    "#dict_keysという型ですが、list()/tuple()で変換可能です\n",
    "print(x_dict.keys())"
   ]
  },
  {
   "cell_type": "code",
   "execution_count": 42,
   "metadata": {},
   "outputs": [
    {
     "name": "stdout",
     "output_type": "stream",
     "text": [
      "dict_values(['コンピュータに対する命令', 'オブジェクト指向のプログラミング言語のひとつ'])\n"
     ]
    }
   ],
   "source": [
    "#valueのみ取得\n",
    "#dict_valuesという型ですが、list()/tuple()で変換可能です\n",
    "print(x_dict.values())"
   ]
  },
  {
   "cell_type": "code",
   "execution_count": 43,
   "metadata": {},
   "outputs": [
    {
     "name": "stdout",
     "output_type": "stream",
     "text": [
      "コンピュータに対する命令\n",
      "オブジェクト指向のプログラミング言語のひとつ\n"
     ]
    }
   ],
   "source": [
    "#要素にアクセス\n",
    "print(x_dict[\"プログラム\"])\n",
    "print(x_dict[\"Python\"])"
   ]
  },
  {
   "cell_type": "code",
   "execution_count": 44,
   "metadata": {},
   "outputs": [
    {
     "name": "stdout",
     "output_type": "stream",
     "text": [
      "True\n"
     ]
    }
   ],
   "source": [
    "#辞書が特定のkeyを持っているか否か\n",
    "print(\"Python\" in x_dict)"
   ]
  },
  {
   "cell_type": "code",
   "execution_count": 45,
   "metadata": {},
   "outputs": [
    {
     "name": "stdout",
     "output_type": "stream",
     "text": [
      "True\n"
     ]
    }
   ],
   "source": [
    "#辞書が特定のvalueを持っているか否か\n",
    "print(\"オブジェクト指向のプログラミング言語のひとつ\" in x_dict.values())"
   ]
  },
  {
   "cell_type": "markdown",
   "metadata": {},
   "source": [
    "## 総合\n",
    "\n",
    "この章で出てきた全ての変数を使ってみます"
   ]
  },
  {
   "cell_type": "code",
   "execution_count": 47,
   "metadata": {},
   "outputs": [],
   "source": [
    "x_all={\n",
    "    \"int\":1,\n",
    "    \"float\":1.0,\n",
    "    \"str\":\"1\",\n",
    "    \"bool\":True,\n",
    "    \"Nonetype\":None,\n",
    "    \"list\":[1,2.0,\"3\",[1,2],(1,2),{\"プログラム\":\"コンピュータに対する命令\"}],\n",
    "    \"tuple\":(1,2.0,\"3\",[1,2],(1,2),{\"プログラム\":\"コンピュータに対する命令\"}),\n",
    "    \"set\":set([1,2,3,4,5]),\n",
    "    \"dict\":{\"プログラム\":\"コンピュータに対する命令\"}\n",
    "}"
   ]
  },
  {
   "cell_type": "code",
   "execution_count": 48,
   "metadata": {},
   "outputs": [
    {
     "name": "stdout",
     "output_type": "stream",
     "text": [
      "{'int': 1, 'float': 1.0, 'str': '1', 'bool': True, 'Nonetype': None, 'list': [1, 2.0, '3', [1, 2], (1, 2), {'プログラム': 'コンピュータに対する命令'}], 'tuple': (1, 2.0, '3', [1, 2], (1, 2), {'プログラム': 'コンピュータに対する命令'}), 'set': {1, 2, 3, 4, 5}, 'dict': {'プログラム': 'コンピュータに対する命令'}}\n",
      "1\n",
      "1.0\n",
      "1\n",
      "True\n",
      "[1, 2.0, '3', [1, 2], (1, 2), {'プログラム': 'コンピュータに対する命令'}]\n",
      "コンピュータに対する命令\n",
      "(1, 2.0, '3', [1, 2], (1, 2), {'プログラム': 'コンピュータに対する命令'})\n",
      "{1, 2, 3, 4, 5}\n",
      "{'プログラム': 'コンピュータに対する命令'}\n"
     ]
    }
   ],
   "source": [
    "#参考までに\n",
    "print(x_all)\n",
    "print(x_all[\"int\"])\n",
    "print(x_all[\"float\"])\n",
    "print(x_all[\"str\"])\n",
    "print(x_all[\"bool\"])\n",
    "print(x_all[\"list\"])\n",
    "print(x_all[\"list\"][5][\"プログラム\"])\n",
    "print(x_all[\"tuple\"])\n",
    "print(x_all[\"set\"])\n",
    "print(x_all[\"dict\"])"
   ]
  }
 ],
 "metadata": {
  "kernelspec": {
   "display_name": "Python 3",
   "language": "python",
   "name": "python3"
  },
  "language_info": {
   "codemirror_mode": {
    "name": "ipython",
    "version": 3
   },
   "file_extension": ".py",
   "mimetype": "text/x-python",
   "name": "python",
   "nbconvert_exporter": "python",
   "pygments_lexer": "ipython3",
   "version": "3.6.5"
  }
 },
 "nbformat": 4,
 "nbformat_minor": 2
}
