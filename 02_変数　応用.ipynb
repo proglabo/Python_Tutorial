{
 "cells": [
  {
   "cell_type": "markdown",
   "metadata": {},
   "source": [
    "## list(リスト)\n",
    "カンマ区切りで格納されています\n",
    "\n",
    "カンマ区切りになった各値を「**要素**」と呼びます\n",
    "\n",
    "プログラミング言語では、N番目の数え方が現実とは違いますのでご注意下さい"
   ]
  },
  {
   "cell_type": "code",
   "execution_count": 52,
   "metadata": {},
   "outputs": [
    {
     "name": "stdout",
     "output_type": "stream",
     "text": [
      "[1, 2, 3, 4, 5]\n",
      "<class 'list'>\n"
     ]
    }
   ],
   "source": [
    "\"\"\"リストの基本形\n",
    "\"\"\"\n",
    "x_list=[1,2,3,4,5]\n",
    "print(x_list)\n",
    "print(type(x_list))"
   ]
  },
  {
   "cell_type": "code",
   "execution_count": 54,
   "metadata": {},
   "outputs": [
    {
     "name": "stdout",
     "output_type": "stream",
     "text": [
      "1 <class 'int'>\n",
      "2 <class 'int'>\n",
      "3 <class 'int'>\n"
     ]
    }
   ],
   "source": [
    "#要素へのアクセス\n",
    "x_list=[1,2,3,4,5]\n",
    "print(x_list[0],type(x_list[0]))\n",
    "print(x_list[1],type(x_list[1]))\n",
    "print(x_list[2],type(x_list[2]))"
   ]
  },
  {
   "cell_type": "code",
   "execution_count": 63,
   "metadata": {},
   "outputs": [
    {
     "name": "stdout",
     "output_type": "stream",
     "text": [
      "[2]\n",
      "[2, 3, 4, 5]\n",
      "[1, 2]\n",
      "5\n",
      "4\n"
     ]
    }
   ],
   "source": [
    "## 特別なアクセス\n",
    "x_list=[1,2,3,4,5]\n",
    "print(x_list[1:2])\n",
    "print(x_list[1:])\n",
    "print(x_list[:2])\n",
    "\n",
    "print(x_list[-1])\n",
    "print(x_list[-2])"
   ]
  },
  {
   "cell_type": "code",
   "execution_count": 64,
   "metadata": {},
   "outputs": [
    {
     "name": "stdout",
     "output_type": "stream",
     "text": [
      "5\n",
      "5\n",
      "1\n",
      "15\n"
     ]
    }
   ],
   "source": [
    "#リストの統計値の取得\n",
    "x_list=[1,2,3,4,5]\n",
    "print(len(x_list))\n",
    "print(max(x_list))\n",
    "print(min(x_list))\n",
    "print(sum(x_list))"
   ]
  },
  {
   "cell_type": "code",
   "execution_count": 66,
   "metadata": {},
   "outputs": [
    {
     "name": "stdout",
     "output_type": "stream",
     "text": [
      "[10, 2, 3, 4, 5]\n"
     ]
    }
   ],
   "source": [
    "#特定インデックスの要素の変更\n",
    "#インデックス：リストの中での順番\n",
    "x_list=[1,2,3,4,5]\n",
    "x_list[0]=10\n",
    "print(x_list)"
   ]
  },
  {
   "cell_type": "code",
   "execution_count": 67,
   "metadata": {},
   "outputs": [
    {
     "name": "stdout",
     "output_type": "stream",
     "text": [
      "[1, 2, 3, 4, 5, 6]\n"
     ]
    }
   ],
   "source": [
    "#要素を末尾に追加\n",
    "x_list=[1,2,3,4,5]\n",
    "x_list.append(6)\n",
    "print(x_list)"
   ]
  },
  {
   "cell_type": "code",
   "execution_count": 68,
   "metadata": {},
   "outputs": [
    {
     "name": "stdout",
     "output_type": "stream",
     "text": [
      "[1, 2, 3, 4, 5, 6, 7, 8]\n"
     ]
    }
   ],
   "source": [
    "#リスト同士の結合\n",
    "x_list=[1,2,3,4,5]\n",
    "x_list_sub=[6,7,8]\n",
    "x_list=x_list+x_list_sub\n",
    "print(x_list)"
   ]
  },
  {
   "cell_type": "code",
   "execution_count": 69,
   "metadata": {},
   "outputs": [
    {
     "name": "stdout",
     "output_type": "stream",
     "text": [
      "[1, 2, 3, 4, 5, 6, 7, 8]\n"
     ]
    }
   ],
   "source": [
    "#リスト同士の結合\n",
    "x_list=[1,2,3,4,5]\n",
    "x_list_sub=[6,7,8]\n",
    "x_list.extend(x_list_sub)\n",
    "print(x_list)"
   ]
  },
  {
   "cell_type": "code",
   "execution_count": 71,
   "metadata": {},
   "outputs": [
    {
     "name": "stdout",
     "output_type": "stream",
     "text": [
      "[100000, 1, 2, 3, 4, 5]\n"
     ]
    }
   ],
   "source": [
    "#インデックスを指定して代入\n",
    "#インデックス：リストの中での順番\n",
    "x_list=[1,2,3,4,5]\n",
    "x_list.insert(0,0)\n",
    "print(x_list)"
   ]
  },
  {
   "cell_type": "code",
   "execution_count": 72,
   "metadata": {},
   "outputs": [
    {
     "name": "stdout",
     "output_type": "stream",
     "text": [
      "[2, 3, 4, 5]\n"
     ]
    }
   ],
   "source": [
    "#特定インデックスの要素を削除\n",
    "#インデックス：リストの中での順番\n",
    "x_list=[1,2,3,4,5]\n",
    "del x_list[0]\n",
    "print(x_list)"
   ]
  },
  {
   "cell_type": "code",
   "execution_count": 73,
   "metadata": {},
   "outputs": [
    {
     "name": "stdout",
     "output_type": "stream",
     "text": [
      "[2, 3, 4, 5]\n"
     ]
    }
   ],
   "source": [
    "#特定インデックスの要素を削除\n",
    "x_list=[1,2,3,4,5]\n",
    "x_list.pop(0)\n",
    "print(x_list)"
   ]
  },
  {
   "cell_type": "code",
   "execution_count": 74,
   "metadata": {},
   "outputs": [
    {
     "name": "stdout",
     "output_type": "stream",
     "text": [
      "[1, 2, 4, 5]\n"
     ]
    }
   ],
   "source": [
    "#特定の値の要素を削除\n",
    "x_list=[1,2,3,4,5]\n",
    "x_list.remove(3)\n",
    "print(x_list)"
   ]
  },
  {
   "cell_type": "code",
   "execution_count": 77,
   "metadata": {},
   "outputs": [
    {
     "name": "stdout",
     "output_type": "stream",
     "text": [
      "4\n"
     ]
    }
   ],
   "source": [
    "#要素のインデックス番号を探す\n",
    "x_list=[1,2,3,4,5]\n",
    "index=x_list.index(5)\n",
    "print(index)"
   ]
  },
  {
   "cell_type": "code",
   "execution_count": 80,
   "metadata": {},
   "outputs": [
    {
     "name": "stdout",
     "output_type": "stream",
     "text": [
      "True\n"
     ]
    }
   ],
   "source": [
    "#要素がリストにあるか否か\n",
    "x_list=[1,2,3,4,5]\n",
    "bool=1 in x_list\n",
    "print(bool)"
   ]
  },
  {
   "cell_type": "code",
   "execution_count": 81,
   "metadata": {},
   "outputs": [
    {
     "name": "stdout",
     "output_type": "stream",
     "text": [
      "False\n"
     ]
    }
   ],
   "source": [
    "#要素がリストにあるか否か\n",
    "x_list=[1,2,3,4,5]\n",
    "bool=100 in x_list\n",
    "print(bool)"
   ]
  },
  {
   "cell_type": "code",
   "execution_count": 84,
   "metadata": {},
   "outputs": [
    {
     "name": "stdout",
     "output_type": "stream",
     "text": [
      "1\n"
     ]
    }
   ],
   "source": [
    "#要素の数を数える\n",
    "x_list=[1,2,3,4,5]\n",
    "count=x_list.count(5)\n",
    "print(count)"
   ]
  },
  {
   "cell_type": "code",
   "execution_count": 85,
   "metadata": {},
   "outputs": [
    {
     "name": "stdout",
     "output_type": "stream",
     "text": [
      "0\n"
     ]
    }
   ],
   "source": [
    "#要素の数を数える\n",
    "x_list=[1,2,3,4,5]\n",
    "count=x_list.count(\"a\")\n",
    "print(count)"
   ]
  },
  {
   "cell_type": "code",
   "execution_count": 89,
   "metadata": {},
   "outputs": [
    {
     "name": "stdout",
     "output_type": "stream",
     "text": [
      "[1, 2, 3, 4, 5]\n"
     ]
    }
   ],
   "source": [
    "#要素をソートする\n",
    "x_list=[1,2,3,4,5]\n",
    "x_list.sort()\n",
    "print(x_list)"
   ]
  },
  {
   "cell_type": "code",
   "execution_count": 90,
   "metadata": {},
   "outputs": [
    {
     "name": "stdout",
     "output_type": "stream",
     "text": [
      "[5, 4, 3, 2, 1]\n"
     ]
    }
   ],
   "source": [
    "#要素をソートする\n",
    "x_list=[1,2,3,4,5]\n",
    "x_list.sort(reverse=True)\n",
    "print(x_list)"
   ]
  },
  {
   "cell_type": "markdown",
   "metadata": {},
   "source": [
    "## tuple(タプル)\n",
    "リストと似た造りになっていますが、タプルは一度定義してしまうとリストのようには変更ができません"
   ]
  },
  {
   "cell_type": "code",
   "execution_count": 91,
   "metadata": {},
   "outputs": [
    {
     "name": "stdout",
     "output_type": "stream",
     "text": [
      "(1, 2, 3, 4, 5)\n",
      "<class 'tuple'>\n"
     ]
    }
   ],
   "source": [
    "\"\"\"タプルの基本形\n",
    "\"\"\"\n",
    "x_tuple=(1,2,3,4,5)\n",
    "print(x_tuple)\n",
    "print(type(x_tuple))"
   ]
  },
  {
   "cell_type": "code",
   "execution_count": 41,
   "metadata": {},
   "outputs": [
    {
     "name": "stdout",
     "output_type": "stream",
     "text": [
      "1 <class 'int'>\n",
      "2 <class 'int'>\n",
      "3 <class 'int'>\n",
      "(2, 3, 4, 5)\n",
      "(1, 2)\n",
      "(2,)\n",
      "5\n",
      "4\n",
      "5\n",
      "5\n",
      "1\n",
      "15\n"
     ]
    }
   ],
   "source": [
    "\"\"\"アクセスの仕方はリストと同じです\n",
    "\"\"\"\n",
    "x_tuple=(1,2,3,4,5)\n",
    "#要素へのアクセス\n",
    "print(x_tuple[0],type(x_tuple[0]))\n",
    "print(x_tuple[1],type(x_tuple[1]))\n",
    "print(x_tuple[2],type(x_tuple[2]))\n",
    "#特定なアクセス\n",
    "print(x_tuple[1:])\n",
    "print(x_tuple[:2])\n",
    "print(x_tuple[1:2])\n",
    "print(x_tuple[-1])\n",
    "print(x_tuple[-2])\n",
    "#統計値の取得\n",
    "x_tuple=(1,2,3,4,5)\n",
    "print(len(x_tuple))\n",
    "print(max(x_tuple))\n",
    "print(min(x_tuple))\n",
    "print(sum(x_tuple))"
   ]
  },
  {
   "cell_type": "code",
   "execution_count": 94,
   "metadata": {},
   "outputs": [
    {
     "name": "stdout",
     "output_type": "stream",
     "text": [
      "0\n",
      "1\n"
     ]
    }
   ],
   "source": [
    "#タプルの要素に変更を加える以外の操作はリストと同様にできます\n",
    "x_tuple=(1,2,3,4,5)\n",
    "#特定要素のインデックスを求める\n",
    "index=x_tuple.index(1)\n",
    "print(index)\n",
    "#特定要素の数を求める\n",
    "count=x_tuple.count(1)\n",
    "print(count)"
   ]
  },
  {
   "cell_type": "code",
   "execution_count": 95,
   "metadata": {},
   "outputs": [
    {
     "ename": "TypeError",
     "evalue": "'tuple' object does not support item assignment",
     "output_type": "error",
     "traceback": [
      "\u001b[1;31m---------------------------------------------------------------------------\u001b[0m",
      "\u001b[1;31mTypeError\u001b[0m                                 Traceback (most recent call last)",
      "\u001b[1;32m<ipython-input-95-9823d9b5f692>\u001b[0m in \u001b[0;36m<module>\u001b[1;34m\u001b[0m\n\u001b[0;32m      1\u001b[0m \u001b[1;31m#要素の変更はできない\u001b[0m\u001b[1;33m\u001b[0m\u001b[1;33m\u001b[0m\u001b[1;33m\u001b[0m\u001b[0m\n\u001b[0;32m      2\u001b[0m \u001b[0mx_tuple\u001b[0m\u001b[1;33m=\u001b[0m\u001b[1;33m(\u001b[0m\u001b[1;36m1\u001b[0m\u001b[1;33m,\u001b[0m\u001b[1;36m2\u001b[0m\u001b[1;33m,\u001b[0m\u001b[1;36m3\u001b[0m\u001b[1;33m,\u001b[0m\u001b[1;36m4\u001b[0m\u001b[1;33m,\u001b[0m\u001b[1;36m5\u001b[0m\u001b[1;33m)\u001b[0m\u001b[1;33m\u001b[0m\u001b[1;33m\u001b[0m\u001b[0m\n\u001b[1;32m----> 3\u001b[1;33m \u001b[0mx_tuple\u001b[0m\u001b[1;33m[\u001b[0m\u001b[1;36m0\u001b[0m\u001b[1;33m]\u001b[0m\u001b[1;33m=\u001b[0m\u001b[1;36m10000000\u001b[0m\u001b[1;33m\u001b[0m\u001b[1;33m\u001b[0m\u001b[0m\n\u001b[0m",
      "\u001b[1;31mTypeError\u001b[0m: 'tuple' object does not support item assignment"
     ]
    }
   ],
   "source": [
    "#要素の変更はできない\n",
    "x_tuple=(1,2,3,4,5)\n",
    "x_tuple[0]=10000000"
   ]
  },
  {
   "cell_type": "markdown",
   "metadata": {},
   "source": [
    "## listとtupleの型変換\n",
    "listとtupleは相互に変換可能です"
   ]
  },
  {
   "cell_type": "code",
   "execution_count": 96,
   "metadata": {},
   "outputs": [
    {
     "name": "stdout",
     "output_type": "stream",
     "text": [
      "(1, 2, 3, 4, 5) <class 'tuple'>\n"
     ]
    }
   ],
   "source": [
    "x_list=[1,2,3,4,5]\n",
    "\n",
    "converted_x_list=tuple(x_list)\n",
    "\n",
    "print(converted_x_list,type(converted_x_list))"
   ]
  },
  {
   "cell_type": "code",
   "execution_count": 98,
   "metadata": {},
   "outputs": [
    {
     "name": "stdout",
     "output_type": "stream",
     "text": [
      "[1, 2, 3, 4, 5] <class 'list'>\n"
     ]
    }
   ],
   "source": [
    "x_tuple=(1,2,3,4,5)\n",
    "\n",
    "converted_x_tuple=list(x_tuple)\n",
    "\n",
    "print(converted_x_tuple,type(converted_x_tuple))"
   ]
  },
  {
   "cell_type": "markdown",
   "metadata": {},
   "source": [
    "## ネストされたlist\n",
    "\n",
    "プログラミング言語では、「何かに包まれた」ということを「ネストされた」といいます\n",
    "\n",
    "ここで言う「ネストされたlist」とは「listの中にlistがある」という意味になります"
   ]
  },
  {
   "cell_type": "code",
   "execution_count": 99,
   "metadata": {},
   "outputs": [
    {
     "name": "stdout",
     "output_type": "stream",
     "text": [
      "[1, 2]\n"
     ]
    }
   ],
   "source": [
    "#要素の取り出し\n",
    "x_nest_list=[\n",
    "    [1,2],\n",
    "    [3,4]\n",
    "]\n",
    "print(x_nest_list[0])"
   ]
  },
  {
   "cell_type": "code",
   "execution_count": 103,
   "metadata": {},
   "outputs": [
    {
     "name": "stdout",
     "output_type": "stream",
     "text": [
      "4\n"
     ]
    }
   ],
   "source": [
    "#要素の取り出し\n",
    "x_nest_list=[\n",
    "    [1,2],\n",
    "    [3,4]\n",
    "]\n",
    "print(x_nest_list[1][1])"
   ]
  },
  {
   "cell_type": "markdown",
   "metadata": {},
   "source": [
    "## set\n",
    "list/tupleと似ていますが、要素の重複を許さず、自動的に削除されます\n",
    "\n",
    "そして、セットにはインデックス（順番）という概念が存在しないため、list/tupleのようにインデックスでの要素へのアクセスができません\n",
    "\n",
    "また、重複を許さないという性質上「集合」を考えるときに、用いられることが多いです"
   ]
  },
  {
   "cell_type": "code",
   "execution_count": 104,
   "metadata": {},
   "outputs": [
    {
     "name": "stdout",
     "output_type": "stream",
     "text": [
      "{1, 2, 3, 4, 5}\n",
      "<class 'set'>\n"
     ]
    }
   ],
   "source": [
    "\"\"\"セットの基本形\n",
    "リストをset()でsetに変換します\n",
    "\"\"\"\n",
    "x_set=set([1,2,3,4,5,3,4])\n",
    "print(x_set)\n",
    "print(type(x_set))"
   ]
  },
  {
   "cell_type": "code",
   "execution_count": 105,
   "metadata": {},
   "outputs": [
    {
     "name": "stdout",
     "output_type": "stream",
     "text": [
      "{1, 2, 3, 4, 5, 6}\n"
     ]
    }
   ],
   "source": [
    "#要素を加える\n",
    "x_set=set([1,2,3,4,5,3,4])\n",
    "x_set.add(6)\n",
    "print(x_set)"
   ]
  },
  {
   "cell_type": "code",
   "execution_count": 107,
   "metadata": {},
   "outputs": [
    {
     "name": "stdout",
     "output_type": "stream",
     "text": [
      "{1, 2, 3, 5}\n"
     ]
    }
   ],
   "source": [
    "#要素を除去する\n",
    "x_set=set([1,2,3,4,5,3,4])\n",
    "x_set.remove(4)\n",
    "print(x_set)"
   ]
  },
  {
   "cell_type": "code",
   "execution_count": 108,
   "metadata": {},
   "outputs": [
    {
     "name": "stdout",
     "output_type": "stream",
     "text": [
      "set()\n"
     ]
    }
   ],
   "source": [
    "#初期化する\n",
    "x_set=set([1,2,3,4,5,3,4])\n",
    "x_set.clear()\n",
    "print(x_set)"
   ]
  },
  {
   "cell_type": "code",
   "execution_count": 31,
   "metadata": {},
   "outputs": [],
   "source": [
    "\"\"\"セットと集合\n",
    "\"\"\"\n",
    "x_set1=set([1,2,3,4,5])\n",
    "x_set2=set([1,5,10])"
   ]
  },
  {
   "cell_type": "code",
   "execution_count": 32,
   "metadata": {},
   "outputs": [
    {
     "name": "stdout",
     "output_type": "stream",
     "text": [
      "{1, 5}\n"
     ]
    }
   ],
   "source": [
    "#共通集合\n",
    "y=x_set1&x_set2\n",
    "print(y)"
   ]
  },
  {
   "cell_type": "code",
   "execution_count": 33,
   "metadata": {},
   "outputs": [
    {
     "name": "stdout",
     "output_type": "stream",
     "text": [
      "{1, 2, 3, 4, 5, 10}\n"
     ]
    }
   ],
   "source": [
    "#和集合(論理和)\n",
    "y=x_set1|x_set2\n",
    "print(y)"
   ]
  },
  {
   "cell_type": "code",
   "execution_count": 34,
   "metadata": {},
   "outputs": [
    {
     "name": "stdout",
     "output_type": "stream",
     "text": [
      "{2, 3, 4}\n",
      "{10}\n"
     ]
    }
   ],
   "source": [
    "#差集合\n",
    "y1=x_set1-x_set2\n",
    "print(y1)\n",
    "y2=x_set2-x_set1\n",
    "print(y2)"
   ]
  },
  {
   "cell_type": "code",
   "execution_count": 35,
   "metadata": {},
   "outputs": [
    {
     "name": "stdout",
     "output_type": "stream",
     "text": [
      "{2, 3, 4, 10}\n"
     ]
    }
   ],
   "source": [
    "#排他的論理和\n",
    "y=x_set1^x_set2\n",
    "print(y)"
   ]
  },
  {
   "cell_type": "code",
   "execution_count": 109,
   "metadata": {},
   "outputs": [
    {
     "name": "stdout",
     "output_type": "stream",
     "text": [
      "True\n",
      "False\n"
     ]
    }
   ],
   "source": [
    "\"\"\"\n",
    "issubset:セットが指定した要素を含むか\n",
    "\"\"\"\n",
    "x_set=set([1,2,3,4,5])\n",
    "print(x_set.issubset([1,2,3,4,5,6]))\n",
    "print(x_set.issubset([1,2,3,4]))\n"
   ]
  },
  {
   "cell_type": "code",
   "execution_count": 110,
   "metadata": {},
   "outputs": [
    {
     "name": "stdout",
     "output_type": "stream",
     "text": [
      "True\n",
      "False\n"
     ]
    }
   ],
   "source": [
    "\"\"\"\n",
    "issuperset:セットが指定した要素を含むか\n",
    "\"\"\"\n",
    "x_set=set([1,2,3,4,5])\n",
    "print(x_set.issuperset([1,2,3,4]))\n",
    "print(x_set.issuperset([1,2,3,4,5,6]))"
   ]
  },
  {
   "cell_type": "markdown",
   "metadata": {},
   "source": [
    "## dict(辞書)\n",
    "辞書と呼ばれる変数の形です。その名の通り、皆さんが良く見る辞書と同様、keyとvalueで構成されています。\n",
    "\n",
    "例えば、広辞苑で「プログラム」を調べるとします。この「プログラム」という単語がkeyに該当し、その説明文がvalueに該当します"
   ]
  },
  {
   "cell_type": "code",
   "execution_count": 112,
   "metadata": {},
   "outputs": [
    {
     "name": "stdout",
     "output_type": "stream",
     "text": [
      "{'プログラム': 'コンピュータに対する命令', 'Python': 'オブジェクト指向のプログラミング言語のひとつ', 'アンパンマン': '餡子のパン'}\n",
      "<class 'dict'>\n"
     ]
    }
   ],
   "source": [
    "\"\"\"辞書の基本形\n",
    "\"\"\"\n",
    "x_dict={\n",
    "    \"プログラム\":\"コンピュータに対する命令\",\n",
    "    \"Python\":\"オブジェクト指向のプログラミング言語のひとつ\",\n",
    "    \"アンパンマン\":\"餡子のパン\"\n",
    "}\n",
    "print(x_dict)\n",
    "print(type(x_dict))"
   ]
  },
  {
   "cell_type": "code",
   "execution_count": 113,
   "metadata": {},
   "outputs": [
    {
     "name": "stdout",
     "output_type": "stream",
     "text": [
      "コンピュータに対する命令\n",
      "オブジェクト指向のプログラミング言語のひとつ\n"
     ]
    }
   ],
   "source": [
    "#要素にアクセス\n",
    "print(x_dict[\"プログラム\"])\n",
    "print(x_dict[\"Python\"])"
   ]
  },
  {
   "cell_type": "code",
   "execution_count": 40,
   "metadata": {},
   "outputs": [
    {
     "name": "stdout",
     "output_type": "stream",
     "text": [
      "dict_items([('プログラム', 'コンピュータに対する命令'), ('Python', 'オブジェクト指向のプログラミング言語のひとつ')])\n",
      "<class 'dict_items'>\n"
     ]
    }
   ],
   "source": [
    "#keyとvalueをセットで取り出します\n",
    "#dict_itemという型ですが、list()/tuple()で変換可能です\n",
    "print(x_dict.items())\n",
    "print(type(x_dict.items()))"
   ]
  },
  {
   "cell_type": "code",
   "execution_count": 119,
   "metadata": {},
   "outputs": [
    {
     "name": "stdout",
     "output_type": "stream",
     "text": [
      "dict_keys(['プログラム', 'Python', 'アンパンマン'])\n"
     ]
    }
   ],
   "source": [
    "#keyのみ取得\n",
    "#dict_keysという型ですが、list()/tuple()で変換可能です\n",
    "print(x_dict.keys())"
   ]
  },
  {
   "cell_type": "code",
   "execution_count": 118,
   "metadata": {},
   "outputs": [
    {
     "name": "stdout",
     "output_type": "stream",
     "text": [
      "dict_values(['コンピュータに対する命令', 'オブジェクト指向のプログラミング言語のひとつ', '餡子のパン'])\n"
     ]
    }
   ],
   "source": [
    "#valueのみ取得\n",
    "#dict_valuesという型ですが、list()/tuple()で変換可能です\n",
    "print(x_dict.values())"
   ]
  },
  {
   "cell_type": "code",
   "execution_count": 120,
   "metadata": {},
   "outputs": [
    {
     "name": "stdout",
     "output_type": "stream",
     "text": [
      "True\n"
     ]
    }
   ],
   "source": [
    "#辞書が特定のkeyを持っているか否か\n",
    "print(\"Python\" in x_dict)"
   ]
  },
  {
   "cell_type": "code",
   "execution_count": 121,
   "metadata": {},
   "outputs": [
    {
     "name": "stdout",
     "output_type": "stream",
     "text": [
      "True\n"
     ]
    }
   ],
   "source": [
    "#辞書が特定のvalueを持っているか否か\n",
    "print(\"オブジェクト指向のプログラミング言語のひとつ\" in x_dict.values())"
   ]
  },
  {
   "cell_type": "markdown",
   "metadata": {},
   "source": [
    "## 総合\n",
    "\n",
    "この章で出てきた全ての変数を使ってみます"
   ]
  },
  {
   "cell_type": "code",
   "execution_count": 122,
   "metadata": {},
   "outputs": [],
   "source": [
    "x_all={\n",
    "    \"int\":1,\n",
    "    \"float\":1.0,\n",
    "    \"str\":\"1\",\n",
    "    \"bool\":True,\n",
    "    \"Nonetype\":None,\n",
    "    \"list\":[1,2.0,\"3\",[1,2],(1,2),{\"プログラム\":\"コンピュータに対する命令\"}],\n",
    "    \"tuple\":(1,2.0,\"3\",[1,2],(1,2),{\"プログラム\":\"コンピュータに対する命令\"}),\n",
    "    \"set\":set([1,2,3,4,5]),\n",
    "    \"dict\":{\"プログラム\":\"コンピュータに対する命令\"}\n",
    "}"
   ]
  },
  {
   "cell_type": "code",
   "execution_count": 123,
   "metadata": {},
   "outputs": [
    {
     "name": "stdout",
     "output_type": "stream",
     "text": [
      "{'int': 1, 'float': 1.0, 'str': '1', 'bool': True, 'Nonetype': None, 'list': [1, 2.0, '3', [1, 2], (1, 2), {'プログラム': 'コンピュータに対する命令'}], 'tuple': (1, 2.0, '3', [1, 2], (1, 2), {'プログラム': 'コンピュータに対する命令'}), 'set': {1, 2, 3, 4, 5}, 'dict': {'プログラム': 'コンピュータに対する命令'}}\n",
      "1\n",
      "1.0\n",
      "1\n",
      "True\n",
      "[1, 2.0, '3', [1, 2], (1, 2), {'プログラム': 'コンピュータに対する命令'}]\n",
      "コンピュータに対する命令\n",
      "(1, 2.0, '3', [1, 2], (1, 2), {'プログラム': 'コンピュータに対する命令'})\n",
      "{1, 2, 3, 4, 5}\n",
      "{'プログラム': 'コンピュータに対する命令'}\n"
     ]
    }
   ],
   "source": [
    "#参考までに\n",
    "print(x_all)\n",
    "print(x_all[\"int\"])\n",
    "print(x_all[\"float\"])\n",
    "print(x_all[\"str\"])\n",
    "print(x_all[\"bool\"])\n",
    "print(x_all[\"list\"])\n",
    "print(x_all[\"list\"][5][\"プログラム\"])\n",
    "print(x_all[\"tuple\"])\n",
    "print(x_all[\"set\"])\n",
    "print(x_all[\"dict\"])"
   ]
  }
 ],
 "metadata": {
  "kernelspec": {
   "display_name": "Python 3",
   "language": "python",
   "name": "python3"
  },
  "language_info": {
   "codemirror_mode": {
    "name": "ipython",
    "version": 3
   },
   "file_extension": ".py",
   "mimetype": "text/x-python",
   "name": "python",
   "nbconvert_exporter": "python",
   "pygments_lexer": "ipython3",
   "version": "3.7.2"
  }
 },
 "nbformat": 4,
 "nbformat_minor": 2
}
