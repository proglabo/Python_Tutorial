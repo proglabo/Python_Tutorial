{
 "cells": [
  {
   "cell_type": "markdown",
   "metadata": {},
   "source": [
    "# Pythonとは\n",
    "+ オブジェクト指向\n",
    "+ 人工知能の分野でNo1\n",
    "\n",
    "**現在**\n",
    "\n",
    "**Pythonはプログラミング初級者にとって、最も容易に学べる言語**\n",
    "\n",
    "**Pythonはプログラミング上級者にとって、最も汎用性の高い言語**\n",
    "\n",
    "**です**\n",
    "\n",
    "**是非、すべての講座動画を見て、習得してください**\n",
    "\n",
    "**皆様のIT人生にとって有意義なものとなるでしょう**"
   ]
  },
  {
   "cell_type": "markdown",
   "metadata": {},
   "source": [
    "# Jupyter Notebook\n",
    "+ 皆様がいま目にしているこの画面はJupyter Notebookというブラウザベースの開発環境になります\n",
    "\n",
    "+ 人工知能の分野ではこのツールは必須のツールになりますので、ぜひ使用方法を覚えてください\n",
    "\n",
    "+ 有料で月額レンタルもしていますので、ぜひご一考ください（月5000円）"
   ]
  },
  {
   "cell_type": "markdown",
   "metadata": {},
   "source": [
    "この細長い四角をセルと呼びます\n",
    "\n",
    "ここにプログラムを記述していきます\n",
    "\n",
    "セルには大きく分けて二つの種類があります\n",
    "\n",
    "+ Code：プログラムを記述\n",
    "+ Markdown：説明文を記述"
   ]
  },
  {
   "cell_type": "markdown",
   "metadata": {},
   "source": [
    "セルの選択\n",
    "+ セルが選択されると表示が変わります"
   ]
  },
  {
   "cell_type": "markdown",
   "metadata": {},
   "source": [
    "セルの追加と削除\n",
    "\n",
    "+ 追加：任意のセルを選択した上で、 Insert > Insert Cell Above/Insert Cell Below \n",
    "\n",
    "+ 削除：任意のセルを選択した上で、 Edit > Delete cells "
   ]
  },
  {
   "cell_type": "markdown",
   "metadata": {},
   "source": [
    "Codeセルにプログラムを入力してみましょう"
   ]
  },
  {
   "cell_type": "code",
   "execution_count": 1,
   "metadata": {},
   "outputs": [
    {
     "name": "stdout",
     "output_type": "stream",
     "text": [
      "Python\n"
     ]
    }
   ],
   "source": [
    "print(\"Python\")"
   ]
  },
  {
   "cell_type": "markdown",
   "metadata": {},
   "source": [
    "セルの実行ショートカット\n",
    "\n",
    "+ 通常：セルを選択した状態で、 Ctrl+Enter\n",
    "\n",
    "+ 実行&追加：セルを選択した状態で、 Alt+Enter\n",
    "\n",
    "+ 実行&次セルをアクティブ：セルを選択した状態で、Shift+Enter"
   ]
  },
  {
   "cell_type": "code",
   "execution_count": 2,
   "metadata": {},
   "outputs": [
    {
     "name": "stdout",
     "output_type": "stream",
     "text": [
      "Python\n"
     ]
    }
   ],
   "source": [
    "print(\"Python\")"
   ]
  },
  {
   "cell_type": "markdown",
   "metadata": {},
   "source": [
    "Markdownセルに変換\n",
    "\n",
    "+ セルの状態選択ボックスで、Markdownを選ぶ"
   ]
  },
  {
   "cell_type": "markdown",
   "metadata": {},
   "source": [
    "# Title"
   ]
  }
 ],
 "metadata": {
  "kernelspec": {
   "display_name": "Python 3",
   "language": "python",
   "name": "python3"
  },
  "language_info": {
   "codemirror_mode": {
    "name": "ipython",
    "version": 3
   },
   "file_extension": ".py",
   "mimetype": "text/x-python",
   "name": "python",
   "nbconvert_exporter": "python",
   "pygments_lexer": "ipython3",
   "version": "3.7.2"
  }
 },
 "nbformat": 4,
 "nbformat_minor": 2
}
