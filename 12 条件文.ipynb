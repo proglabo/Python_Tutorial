{
 "cells": [
  {
   "cell_type": "markdown",
   "metadata": {},
   "source": [
    "## Booleanの扱い方\n",
    "いわゆる、論理値（真か偽か)のことです"
   ]
  },
  {
   "cell_type": "code",
   "execution_count": 7,
   "metadata": {},
   "outputs": [
    {
     "name": "stdout",
     "output_type": "stream",
     "text": [
      "True\n"
     ]
    }
   ],
   "source": [
    "\"\"\"正しい　真\n",
    "\"\"\"\n",
    "print(10==10)"
   ]
  },
  {
   "cell_type": "code",
   "execution_count": 8,
   "metadata": {},
   "outputs": [
    {
     "name": "stdout",
     "output_type": "stream",
     "text": [
      "False\n"
     ]
    }
   ],
   "source": [
    "\"\"\"間違ってる　偽\n",
    "\"\"\"\n",
    "print(10==1000)"
   ]
  },
  {
   "cell_type": "code",
   "execution_count": 1,
   "metadata": {},
   "outputs": [
    {
     "name": "stdout",
     "output_type": "stream",
     "text": [
      "True\n"
     ]
    }
   ],
   "source": [
    "\"\"\"boolean\n",
    "Trueは1と同意です\n",
    "\"\"\"\n",
    "print(1==True)"
   ]
  },
  {
   "cell_type": "code",
   "execution_count": 2,
   "metadata": {},
   "outputs": [
    {
     "name": "stdout",
     "output_type": "stream",
     "text": [
      "True\n"
     ]
    }
   ],
   "source": [
    "\"\"\"boolean\n",
    "Falseは0と同意です\n",
    "\"\"\"\n",
    "print(0==False)"
   ]
  },
  {
   "cell_type": "markdown",
   "metadata": {},
   "source": [
    "## 比較演算子\n",
    "上記で==は「等しい」という記号であることがわかりましたが、ほかにもいろいろあります\n",
    "\n",
    "x1==x2：等しい\n",
    "\n",
    "x1!=x2：等しくない\n",
    "\n",
    "x1<=x2：x1はx2以下\n",
    "\n",
    "x1>=x2：x1はx2以上\n",
    "\n",
    "x1<x2：x1はx2より小さい\n",
    "\n",
    "x1>x2：x1はx2より大きい"
   ]
  },
  {
   "cell_type": "code",
   "execution_count": 5,
   "metadata": {},
   "outputs": [
    {
     "name": "stdout",
     "output_type": "stream",
     "text": [
      "True\n"
     ]
    }
   ],
   "source": [
    "\"\"\"小なりイコール\n",
    "\"\"\"\n",
    "print(1<=10)"
   ]
  },
  {
   "cell_type": "code",
   "execution_count": 6,
   "metadata": {},
   "outputs": [
    {
     "name": "stdout",
     "output_type": "stream",
     "text": [
      "False\n"
     ]
    }
   ],
   "source": [
    "\"\"\"大なりイコール\n",
    "\"\"\"\n",
    "print(1>=0)"
   ]
  },
  {
   "cell_type": "code",
   "execution_count": 7,
   "metadata": {},
   "outputs": [
    {
     "name": "stdout",
     "output_type": "stream",
     "text": [
      "False\n"
     ]
    }
   ],
   "source": [
    "\"\"\"等しくない\n",
    "\"\"\"\n",
    "print(1!=1)"
   ]
  },
  {
   "cell_type": "markdown",
   "metadata": {},
   "source": [
    "## if-else文\n",
    "条件文と呼ばれ、「もし～だった場合は処理Aを、そうでなかった場合は処理Bを実施する」というように条件分岐させることができます"
   ]
  },
  {
   "cell_type": "code",
   "execution_count": 10,
   "metadata": {},
   "outputs": [
    {
     "name": "stdout",
     "output_type": "stream",
     "text": [
      "xは0ではないです\n"
     ]
    }
   ],
   "source": [
    "#例1\n",
    "x=10\n",
    "if x==0:\n",
    "    print(\"xは0です\")\n",
    "else:\n",
    "    print(\"xは0ではないです\")"
   ]
  },
  {
   "cell_type": "code",
   "execution_count": 14,
   "metadata": {},
   "outputs": [
    {
     "name": "stdout",
     "output_type": "stream",
     "text": [
      "x1とx2は等しくないです\n"
     ]
    }
   ],
   "source": [
    "#例2\n",
    "x1=0\n",
    "x2=1\n",
    "if x1==x2:\n",
    "    print(\"x1とx2は等しいです\")\n",
    "else:\n",
    "    print(\"x1とx2は等しくないです\")"
   ]
  },
  {
   "cell_type": "code",
   "execution_count": 17,
   "metadata": {},
   "outputs": [
    {
     "name": "stdout",
     "output_type": "stream",
     "text": [
      "x_listの中にx_intが含まれています\n"
     ]
    }
   ],
   "source": [
    "#例3\n",
    "x_int=0\n",
    "x_list=[0,1,2,3,4]\n",
    "if x_int in x_list:\n",
    "    print(\"x_listの中にx_intが含まれています\")\n",
    "else:\n",
    "    print(\"x_listの中にx_intが含まれていません\")"
   ]
  },
  {
   "cell_type": "code",
   "execution_count": 18,
   "metadata": {},
   "outputs": [
    {
     "name": "stdout",
     "output_type": "stream",
     "text": [
      "Trueです\n"
     ]
    }
   ],
   "source": [
    "#例4\n",
    "if True:\n",
    "    print(\"Trueです\")\n",
    "else:\n",
    "    print(\"Falseです\")"
   ]
  },
  {
   "cell_type": "markdown",
   "metadata": {},
   "source": [
    "## if-elif-else文\n",
    "もしXXXだった場合は、　　　　　 処理A\n",
    "\n",
    "XXXでなくOOOだった場合は、　　処理B\n",
    "\n",
    "いずれでもなかった場合は、　　 　処理Cを行う"
   ]
  },
  {
   "cell_type": "code",
   "execution_count": 23,
   "metadata": {},
   "outputs": [
    {
     "name": "stdout",
     "output_type": "stream",
     "text": [
      "0だよ\n"
     ]
    }
   ],
   "source": [
    "\"\"\"if-elif-else文\n",
    "3つ以上の条件に分岐させます\n",
    "\"\"\"\n",
    "x=0\n",
    "if x==0:\n",
    "    print(\"0だよ\")\n",
    "elif x==1:\n",
    "    print(\"1だよ\")\n",
    "elif x==10000:\n",
    "    print(\"10000だよ\")\n",
    "else:\n",
    "    print(\"%sだよ\"%x)"
   ]
  },
  {
   "cell_type": "markdown",
   "metadata": {},
   "source": [
    "## and/or/not文\n",
    "複雑な条件指定も可能です"
   ]
  },
  {
   "cell_type": "code",
   "execution_count": 25,
   "metadata": {
    "scrolled": true
   },
   "outputs": [
    {
     "name": "stdout",
     "output_type": "stream",
     "text": [
      "x1は0で、x2は10000だよ\n"
     ]
    }
   ],
   "source": [
    "\"\"\"\"AND\n",
    "XXX AND OOO：XXXかつOOOの場合\n",
    "True and True = True\n",
    "True and False = False\n",
    "False and False = False\n",
    "\"\"\"\n",
    "x1=0\n",
    "x2=10000\n",
    "if x1==0 and x2==0:\n",
    "    print(\"x1とx2は共に0です\")\n",
    "else:\n",
    "    print(\"x1は%sで、x2は%sだよ\"%(x1,x2))"
   ]
  },
  {
   "cell_type": "code",
   "execution_count": 27,
   "metadata": {},
   "outputs": [
    {
     "name": "stdout",
     "output_type": "stream",
     "text": [
      "x1とx2はどちらかが0です\n"
     ]
    }
   ],
   "source": [
    "\"\"\"\"OR\n",
    "XXX OR OOO：XXXまたはOOOの場合\n",
    "True or True = True\n",
    "True or False = True\n",
    "False or False = False\n",
    "\"\"\"\n",
    "x1=0\n",
    "x2=0\n",
    "if x1==0 or x2==0:\n",
    "    print(\"x1とx2はどちらかが0です\")\n",
    "else:\n",
    "    print(\"x1は%sで、x2は%sだよ\"%(x1,x2))"
   ]
  },
  {
   "cell_type": "code",
   "execution_count": 30,
   "metadata": {},
   "outputs": [
    {
     "name": "stdout",
     "output_type": "stream",
     "text": [
      "x1は0ではないです\n"
     ]
    }
   ],
   "source": [
    "\"\"\"not\n",
    "TrueならFalseに、FalseならTrueに変換します\n",
    "\"\"\"\n",
    "x1=10\n",
    "if not(x1==0):\n",
    "    print(\"x1は0ではないです\")\n",
    "else:\n",
    "    print(\"x1は0です\")"
   ]
  },
  {
   "cell_type": "markdown",
   "metadata": {},
   "source": [
    "## 応用編"
   ]
  },
  {
   "cell_type": "code",
   "execution_count": 32,
   "metadata": {},
   "outputs": [
    {
     "name": "stdout",
     "output_type": "stream",
     "text": [
      "x1は0で、x2は10以上です\n"
     ]
    }
   ],
   "source": [
    "\"\"\"階層構造の条件分岐\n",
    "条件文はインデントを用いて、階層構造にし、複雑な条件分岐に対応できます\n",
    "\"\"\"\n",
    "x1=0\n",
    "x2=100\n",
    "if x1==0:\n",
    "    if x2==0:\n",
    "        print(\"x1とx2は共に0です\")\n",
    "    elif x2>=10:\n",
    "        print(\"x1は0で、x2は10以上です\")\n",
    "    else:\n",
    "        print(\"x1は0で、x2は1～9の数字のどれかです\")\n",
    "elif x1==1:\n",
    "    if x2==1:\n",
    "        print(\"x1とx2は共に1です\")\n",
    "    elif x2<=10:\n",
    "        print(\"x1は1で、x2は0か2～10の数字のどれかです\")\n",
    "    else:\n",
    "        print(\"x1は1で、x2は10より大きい数字です\")\n",
    "else:\n",
    "    print(\"x1は%sで、x2は%sだよ\"%(x1,x2))"
   ]
  }
 ],
 "metadata": {
  "kernelspec": {
   "display_name": "Python 3",
   "language": "python",
   "name": "python3"
  },
  "language_info": {
   "codemirror_mode": {
    "name": "ipython",
    "version": 3
   },
   "file_extension": ".py",
   "mimetype": "text/x-python",
   "name": "python",
   "nbconvert_exporter": "python",
   "pygments_lexer": "ipython3",
   "version": "3.7.2"
  }
 },
 "nbformat": 4,
 "nbformat_minor": 2
}
